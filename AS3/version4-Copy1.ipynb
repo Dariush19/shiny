{
 "cells": [
  {
   "cell_type": "code",
   "execution_count": null,
   "metadata": {},
   "outputs": [],
   "source": [
    "import pandas as pd\n",
    "import datetime"
   ]
  },
  {
   "cell_type": "code",
   "execution_count": null,
   "metadata": {},
   "outputs": [],
   "source": [
    "c1 = pd.read_csv(\"E:\\\\Personal_Files\\\\Dariush\\monash\\\\visual\\\\AS3\\\\new\\\\time_series_covid19_confirmed_global.csv\")\n",
    "d1 = pd.read_csv(\"E:\\\\Personal_Files\\\\Dariush\\monash\\\\visual\\\\AS3\\\\new\\\\time_series_covid19_deaths_global.csv\")\n",
    "r1 = pd.read_csv(\"E:\\\\Personal_Files\\\\Dariush\\monash\\\\visual\\\\AS3\\\\new\\\\time_series_covid19_recovered_global.csv\")"
   ]
  },
  {
   "cell_type": "code",
   "execution_count": null,
   "metadata": {},
   "outputs": [],
   "source": [
    "start_date = datetime.datetime(2020, 1, 22)\n",
    "end_date = datetime.datetime(2020, 4, 5)\n",
    "oneDay = datetime.timedelta(days=1)\n",
    "\n",
    "# Generate column names for days to cover\n",
    "date_col_names = []\n",
    "while start_date <= end_date:\n",
    "    col_name = \"{}-{}-{}\".format(start_date.day, start_date.month, start_date.year)\n",
    "    start_date += oneDay\n",
    "    date_col_names.append(col_name)\n",
    "\n",
    "# Rename columns\n",
    "all_columns = ['State', 'Country', 'Lat', 'Long'] + date_col_names\n",
    "c1.columns = all_columns\n",
    "c1.head(4)"
   ]
  },
  {
   "cell_type": "code",
   "execution_count": null,
   "metadata": {},
   "outputs": [],
   "source": [
    "# Print columns with null value\n",
    "x = len(c1) - c1.count()\n",
    "for i in range(0, len(all_columns)):\n",
    "    if x[i] > 0:\n",
    "        print(all_columns[i])"
   ]
  },
  {
   "cell_type": "code",
   "execution_count": null,
   "metadata": {},
   "outputs": [],
   "source": [
    "c1.State.fillna(c1.Country, inplace=True)"
   ]
  },
  {
   "cell_type": "code",
   "execution_count": null,
   "metadata": {},
   "outputs": [],
   "source": [
    "# Add id column to the list\n",
    "c1['id'] = c1.index \n",
    "c1.head(10)"
   ]
  },
  {
   "cell_type": "code",
   "execution_count": null,
   "metadata": {},
   "outputs": [],
   "source": [
    "# Create two subsets of the list. One thatt includes all columns to and including longitude,\n",
    "# and another that includes from the first date column to id\n",
    "c11 = pd.concat((c1.loc[:, :'Long'], c1.loc[:, 'id']), axis=1)\n",
    "c12 = c1.loc[:, '22-1-2020':'id']  "
   ]
  },
  {
   "cell_type": "code",
   "execution_count": null,
   "metadata": {},
   "outputs": [],
   "source": [
    "c11.head(3)"
   ]
  },
  {
   "cell_type": "code",
   "execution_count": null,
   "metadata": {},
   "outputs": [],
   "source": [
    "c12h_id =   []\n",
    "c12h_date = []\n",
    "c12h_cnt =  []\n",
    "ncol = len(date_col_names)\n",
    "for i in range(0, len(c12)):\n",
    "    for j in range(0, ncol-1):\n",
    "      c12h_id.append(c12.iloc[i][75])\n",
    "      c12h_date.append(date_col_names[j])\n",
    "      c12h_cnt.append(c12.iloc[i][j])\n",
    "\n",
    "c12h = {'id':c12h_id,'confirmed_date':c12h_date, 'confirmed_count':c12h_cnt}\n",
    "c12h_frame = pd.DataFrame(c12h) \n",
    "c12h_frame.head(55)"
   ]
  },
  {
   "cell_type": "code",
   "execution_count": null,
   "metadata": {},
   "outputs": [],
   "source": [
    "import sys\n",
    "!{sys.executable} -m pip install plotly"
   ]
  },
  {
   "cell_type": "code",
   "execution_count": null,
   "metadata": {},
   "outputs": [],
   "source": [
    "import plotly.express as px\n",
    "\n",
    "fig = px.bar(c12h_frame, x='confirmed_date', y='confirmed_count',\n",
    "             hover_data=['lifeExp', 'gdpPercap'], color='lifeExp',\n",
    "             labels={'pop':'Corona Stats'}, height=400)\n",
    "fig.show()"
   ]
  },
  {
   "cell_type": "code",
   "execution_count": null,
   "metadata": {},
   "outputs": [],
   "source": []
  },
  {
   "cell_type": "code",
   "execution_count": null,
   "metadata": {},
   "outputs": [],
   "source": []
  },
  {
   "cell_type": "code",
   "execution_count": null,
   "metadata": {},
   "outputs": [],
   "source": []
  },
  {
   "cell_type": "code",
   "execution_count": null,
   "metadata": {},
   "outputs": [],
   "source": []
  },
  {
   "cell_type": "code",
   "execution_count": null,
   "metadata": {},
   "outputs": [],
   "source": []
  },
  {
   "cell_type": "markdown",
   "metadata": {},
   "source": [
    "### Pre-process death data set"
   ]
  },
  {
   "cell_type": "code",
   "execution_count": 6,
   "metadata": {},
   "outputs": [],
   "source": [
    "d1.columns = all_columns"
   ]
  },
  {
   "cell_type": "code",
   "execution_count": 7,
   "metadata": {},
   "outputs": [
    {
     "name": "stdout",
     "output_type": "stream",
     "text": [
      "State\n"
     ]
    }
   ],
   "source": [
    "# Print columns with null value\n",
    "d = len(d1) - d1.count()\n",
    "for i in range(0, len(all_columns)):\n",
    "    if x[i] > 0:\n",
    "        print(all_columns[i])"
   ]
  },
  {
   "cell_type": "code",
   "execution_count": 8,
   "metadata": {},
   "outputs": [],
   "source": [
    "d1.State.fillna(d1.Country, inplace=True)"
   ]
  },
  {
   "cell_type": "markdown",
   "metadata": {},
   "source": [
    "### Pre-process recovered data set"
   ]
  },
  {
   "cell_type": "code",
   "execution_count": 9,
   "metadata": {},
   "outputs": [],
   "source": [
    "r1.columns = all_columns"
   ]
  },
  {
   "cell_type": "code",
   "execution_count": 10,
   "metadata": {},
   "outputs": [
    {
     "name": "stdout",
     "output_type": "stream",
     "text": [
      "State\n"
     ]
    }
   ],
   "source": [
    "# Print columns with null value\n",
    "x = len(r1) - r1.count()\n",
    "for i in range(0, len(all_columns)):\n",
    "    if x[i] > 0:\n",
    "        print(all_columns[i])"
   ]
  },
  {
   "cell_type": "code",
   "execution_count": 11,
   "metadata": {},
   "outputs": [],
   "source": [
    "r1.State.fillna(r1.Country, inplace=True)"
   ]
  },
  {
   "cell_type": "code",
   "execution_count": null,
   "metadata": {},
   "outputs": [],
   "source": []
  }
 ],
 "metadata": {
  "kernelspec": {
   "display_name": "Python 3",
   "language": "python",
   "name": "python3"
  },
  "language_info": {
   "codemirror_mode": {
    "name": "ipython",
    "version": 3
   },
   "file_extension": ".py",
   "mimetype": "text/x-python",
   "name": "python",
   "nbconvert_exporter": "python",
   "pygments_lexer": "ipython3",
   "version": "3.7.4"
  }
 },
 "nbformat": 4,
 "nbformat_minor": 2
}
