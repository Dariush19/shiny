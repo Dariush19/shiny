{
 "cells": [
  {
   "cell_type": "code",
   "execution_count": 184,
   "metadata": {},
   "outputs": [],
   "source": [
    "import pandas as pd\n",
    "import datetime"
   ]
  },
  {
   "cell_type": "code",
   "execution_count": 185,
   "metadata": {},
   "outputs": [],
   "source": [
    "c1 = pd.read_csv(\"E:\\\\Personal_Files\\\\Dariush\\monash\\\\visual\\\\AS3\\\\new\\\\time_series_covid19_confirmed_global.csv\")\n",
    "d1 = pd.read_csv(\"E:\\\\Personal_Files\\\\Dariush\\monash\\\\visual\\\\AS3\\\\new\\\\time_series_covid19_deaths_global.csv\")\n",
    "r1 = pd.read_csv(\"E:\\\\Personal_Files\\\\Dariush\\monash\\\\visual\\\\AS3\\\\new\\\\time_series_covid19_recovered_global.csv\")"
   ]
  },
  {
   "cell_type": "code",
   "execution_count": 186,
   "metadata": {},
   "outputs": [
    {
     "data": {
      "text/html": [
       "<div>\n",
       "<style scoped>\n",
       "    .dataframe tbody tr th:only-of-type {\n",
       "        vertical-align: middle;\n",
       "    }\n",
       "\n",
       "    .dataframe tbody tr th {\n",
       "        vertical-align: top;\n",
       "    }\n",
       "\n",
       "    .dataframe thead th {\n",
       "        text-align: right;\n",
       "    }\n",
       "</style>\n",
       "<table border=\"1\" class=\"dataframe\">\n",
       "  <thead>\n",
       "    <tr style=\"text-align: right;\">\n",
       "      <th></th>\n",
       "      <th>State</th>\n",
       "      <th>Country</th>\n",
       "      <th>Lat</th>\n",
       "      <th>Long</th>\n",
       "      <th>D22_M1_Y2020</th>\n",
       "      <th>D23_M1_Y2020</th>\n",
       "      <th>D24_M1_Y2020</th>\n",
       "      <th>D25_M1_Y2020</th>\n",
       "      <th>D26_M1_Y2020</th>\n",
       "      <th>D27_M1_Y2020</th>\n",
       "      <th>...</th>\n",
       "      <th>D27_M3_Y2020</th>\n",
       "      <th>D28_M3_Y2020</th>\n",
       "      <th>D29_M3_Y2020</th>\n",
       "      <th>D30_M3_Y2020</th>\n",
       "      <th>D31_M3_Y2020</th>\n",
       "      <th>D1_M4_Y2020</th>\n",
       "      <th>D2_M4_Y2020</th>\n",
       "      <th>D3_M4_Y2020</th>\n",
       "      <th>D4_M4_Y2020</th>\n",
       "      <th>D5_M4_Y2020</th>\n",
       "    </tr>\n",
       "  </thead>\n",
       "  <tbody>\n",
       "    <tr>\n",
       "      <td>0</td>\n",
       "      <td>NaN</td>\n",
       "      <td>Afghanistan</td>\n",
       "      <td>33.0000</td>\n",
       "      <td>65.0000</td>\n",
       "      <td>0</td>\n",
       "      <td>0</td>\n",
       "      <td>0</td>\n",
       "      <td>0</td>\n",
       "      <td>0</td>\n",
       "      <td>0</td>\n",
       "      <td>...</td>\n",
       "      <td>110</td>\n",
       "      <td>110</td>\n",
       "      <td>120</td>\n",
       "      <td>170</td>\n",
       "      <td>174</td>\n",
       "      <td>237</td>\n",
       "      <td>273</td>\n",
       "      <td>281</td>\n",
       "      <td>299</td>\n",
       "      <td>349</td>\n",
       "    </tr>\n",
       "    <tr>\n",
       "      <td>1</td>\n",
       "      <td>NaN</td>\n",
       "      <td>Albania</td>\n",
       "      <td>41.1533</td>\n",
       "      <td>20.1683</td>\n",
       "      <td>0</td>\n",
       "      <td>0</td>\n",
       "      <td>0</td>\n",
       "      <td>0</td>\n",
       "      <td>0</td>\n",
       "      <td>0</td>\n",
       "      <td>...</td>\n",
       "      <td>186</td>\n",
       "      <td>197</td>\n",
       "      <td>212</td>\n",
       "      <td>223</td>\n",
       "      <td>243</td>\n",
       "      <td>259</td>\n",
       "      <td>277</td>\n",
       "      <td>304</td>\n",
       "      <td>333</td>\n",
       "      <td>361</td>\n",
       "    </tr>\n",
       "    <tr>\n",
       "      <td>2</td>\n",
       "      <td>NaN</td>\n",
       "      <td>Algeria</td>\n",
       "      <td>28.0339</td>\n",
       "      <td>1.6596</td>\n",
       "      <td>0</td>\n",
       "      <td>0</td>\n",
       "      <td>0</td>\n",
       "      <td>0</td>\n",
       "      <td>0</td>\n",
       "      <td>0</td>\n",
       "      <td>...</td>\n",
       "      <td>409</td>\n",
       "      <td>454</td>\n",
       "      <td>511</td>\n",
       "      <td>584</td>\n",
       "      <td>716</td>\n",
       "      <td>847</td>\n",
       "      <td>986</td>\n",
       "      <td>1171</td>\n",
       "      <td>1251</td>\n",
       "      <td>1320</td>\n",
       "    </tr>\n",
       "    <tr>\n",
       "      <td>3</td>\n",
       "      <td>NaN</td>\n",
       "      <td>Andorra</td>\n",
       "      <td>42.5063</td>\n",
       "      <td>1.5218</td>\n",
       "      <td>0</td>\n",
       "      <td>0</td>\n",
       "      <td>0</td>\n",
       "      <td>0</td>\n",
       "      <td>0</td>\n",
       "      <td>0</td>\n",
       "      <td>...</td>\n",
       "      <td>267</td>\n",
       "      <td>308</td>\n",
       "      <td>334</td>\n",
       "      <td>370</td>\n",
       "      <td>376</td>\n",
       "      <td>390</td>\n",
       "      <td>428</td>\n",
       "      <td>439</td>\n",
       "      <td>466</td>\n",
       "      <td>501</td>\n",
       "    </tr>\n",
       "  </tbody>\n",
       "</table>\n",
       "<p>4 rows × 79 columns</p>\n",
       "</div>"
      ],
      "text/plain": [
       "  State      Country      Lat     Long  D22_M1_Y2020  D23_M1_Y2020  \\\n",
       "0   NaN  Afghanistan  33.0000  65.0000             0             0   \n",
       "1   NaN      Albania  41.1533  20.1683             0             0   \n",
       "2   NaN      Algeria  28.0339   1.6596             0             0   \n",
       "3   NaN      Andorra  42.5063   1.5218             0             0   \n",
       "\n",
       "   D24_M1_Y2020  D25_M1_Y2020  D26_M1_Y2020  D27_M1_Y2020  ...  D27_M3_Y2020  \\\n",
       "0             0             0             0             0  ...           110   \n",
       "1             0             0             0             0  ...           186   \n",
       "2             0             0             0             0  ...           409   \n",
       "3             0             0             0             0  ...           267   \n",
       "\n",
       "   D28_M3_Y2020  D29_M3_Y2020  D30_M3_Y2020  D31_M3_Y2020  D1_M4_Y2020  \\\n",
       "0           110           120           170           174          237   \n",
       "1           197           212           223           243          259   \n",
       "2           454           511           584           716          847   \n",
       "3           308           334           370           376          390   \n",
       "\n",
       "   D2_M4_Y2020  D3_M4_Y2020  D4_M4_Y2020  D5_M4_Y2020  \n",
       "0          273          281          299          349  \n",
       "1          277          304          333          361  \n",
       "2          986         1171         1251         1320  \n",
       "3          428          439          466          501  \n",
       "\n",
       "[4 rows x 79 columns]"
      ]
     },
     "execution_count": 186,
     "metadata": {},
     "output_type": "execute_result"
    }
   ],
   "source": [
    "start_date = datetime.datetime(2020, 1, 22)\n",
    "end_date = datetime.datetime(2020, 4, 5)\n",
    "oneDay = datetime.timedelta(days=1)\n",
    "\n",
    "# Generate column names for days to cover\n",
    "date_col_names = []\n",
    "while start_date <= end_date:\n",
    "    col_name = \"D{}_M{}_Y{}\".format(start_date.day, start_date.month, start_date.year)\n",
    "    start_date += oneDay\n",
    "    date_col_names.append(col_name)\n",
    "\n",
    "# Rename columns\n",
    "all_columns = ['State', 'Country', 'Lat', 'Long'] + date_col_names\n",
    "c1.columns = all_columns\n",
    "c1.head(4)"
   ]
  },
  {
   "cell_type": "code",
   "execution_count": 187,
   "metadata": {},
   "outputs": [
    {
     "name": "stdout",
     "output_type": "stream",
     "text": [
      "State\n"
     ]
    }
   ],
   "source": [
    "# Print columns with null value\n",
    "x = len(c1) - c1.count()\n",
    "for i in range(0, len(all_columns)):\n",
    "    if x[i] > 0:\n",
    "        print(all_columns[i])"
   ]
  },
  {
   "cell_type": "code",
   "execution_count": 188,
   "metadata": {},
   "outputs": [],
   "source": [
    "c1.State.fillna(c1.Country, inplace=True)"
   ]
  },
  {
   "cell_type": "markdown",
   "metadata": {},
   "source": [
    "### Pre-process death data set"
   ]
  },
  {
   "cell_type": "code",
   "execution_count": 189,
   "metadata": {},
   "outputs": [],
   "source": [
    "d1.columns = all_columns"
   ]
  },
  {
   "cell_type": "code",
   "execution_count": 190,
   "metadata": {},
   "outputs": [
    {
     "name": "stdout",
     "output_type": "stream",
     "text": [
      "State\n"
     ]
    }
   ],
   "source": [
    "# Print columns with null value\n",
    "d = len(d1) - d1.count()\n",
    "for i in range(0, len(all_columns)):\n",
    "    if x[i] > 0:\n",
    "        print(all_columns[i])"
   ]
  },
  {
   "cell_type": "code",
   "execution_count": 191,
   "metadata": {},
   "outputs": [],
   "source": [
    "d1.State.fillna(d1.Country, inplace=True)"
   ]
  },
  {
   "cell_type": "markdown",
   "metadata": {},
   "source": [
    "### Pre-process recovered data set"
   ]
  },
  {
   "cell_type": "code",
   "execution_count": 194,
   "metadata": {},
   "outputs": [],
   "source": [
    "r1.columns = all_columns"
   ]
  },
  {
   "cell_type": "code",
   "execution_count": 195,
   "metadata": {},
   "outputs": [
    {
     "name": "stdout",
     "output_type": "stream",
     "text": [
      "State\n"
     ]
    }
   ],
   "source": [
    "# Print columns with null value\n",
    "x = len(r1) - r1.count()\n",
    "for i in range(0, len(all_columns)):\n",
    "    if x[i] > 0:\n",
    "        print(all_columns[i])"
   ]
  },
  {
   "cell_type": "code",
   "execution_count": 196,
   "metadata": {},
   "outputs": [],
   "source": [
    "r1.State.fillna(r1.Country, inplace=True)"
   ]
  },
  {
   "cell_type": "code",
   "execution_count": null,
   "metadata": {},
   "outputs": [],
   "source": []
  }
 ],
 "metadata": {
  "kernelspec": {
   "display_name": "Python 3",
   "language": "python",
   "name": "python3"
  },
  "language_info": {
   "codemirror_mode": {
    "name": "ipython",
    "version": 3
   },
   "file_extension": ".py",
   "mimetype": "text/x-python",
   "name": "python",
   "nbconvert_exporter": "python",
   "pygments_lexer": "ipython3",
   "version": "3.7.4"
  }
 },
 "nbformat": 4,
 "nbformat_minor": 2
}
