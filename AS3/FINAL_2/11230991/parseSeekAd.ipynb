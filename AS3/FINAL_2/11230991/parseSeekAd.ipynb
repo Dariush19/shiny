{
 "cells": [
  {
   "cell_type": "code",
   "execution_count": 21,
   "metadata": {},
   "outputs": [],
   "source": [
    "from __future__ import division\n",
    "from nltk.tokenize import RegexpTokenizer\n",
    "from nltk.corpus import stopwords\n",
    "from itertools import chain\n",
    "from nltk.probability import *\n",
    "import pandas as pd\n",
    "import nltk\n",
    "import pandas as pd\n",
    "import re\n",
    "import time\n",
    "import collections"
   ]
  },
  {
   "cell_type": "code",
   "execution_count": 22,
   "metadata": {},
   "outputs": [],
   "source": [
    "def get_stop_list():\n",
    "     with open('stopwords_en.txt') as ws:\n",
    "         wst = ws.readlines()\n",
    "     return wst"
   ]
  },
  {
   "cell_type": "code",
   "execution_count": 23,
   "metadata": {},
   "outputs": [],
   "source": [
    "def get_token_list():\n",
    "    df = pd.read_csv('data.txt', sep=\"\\n\", names=['token'], encoding = \"utf-8\")\n",
    "\n",
    "    for index, line in df.iterrows():\n",
    "        matchingId = re.match(r'''\\bID: (#\\d+)''', line['token'])\n",
    "        if matchingId:\n",
    "            thisId = matchingId.group(1)\n",
    "\n",
    "        matchingDesc = re.match(r'''Description: (.+)''', line['token'])\n",
    "        if matchingDesc:\n",
    "            thisDesc = matchingDesc.group(1)\n",
    "            subList = [thisId, thisDesc]\n",
    "            addList.append(subList)\n",
    "                    \n",
    "    return addList"
   ]
  },
  {
   "cell_type": "code",
   "execution_count": 24,
   "metadata": {},
   "outputs": [
    {
     "name": "stdout",
     "output_type": "stream",
     "text": [
      "--> Reading data file and pre-processing @ 22:40:47\n"
     ]
    }
   ],
   "source": [
    "print('--> Reading data file and pre-processing @ '  + time.strftime(\"%H:%M:%S\"))\n",
    "\n",
    "with open('data.txt', 'r',  encoding = \"utf-8\") as file:\n",
    "    in_data = file.read().replace('\\n', ' ')"
   ]
  },
  {
   "cell_type": "code",
   "execution_count": 25,
   "metadata": {},
   "outputs": [],
   "source": [
    "addList = []\n",
    "vocabIdList = get_token_list() "
   ]
  },
  {
   "cell_type": "code",
   "execution_count": 26,
   "metadata": {},
   "outputs": [],
   "source": [
    "stopwords_list = get_stop_list()\n",
    "stopwords_list = [w.replace('\\n', '') for w in stopwords_list]"
   ]
  },
  {
   "cell_type": "code",
   "execution_count": 27,
   "metadata": {},
   "outputs": [],
   "source": [
    "tokenizer = RegexpTokenizer(r\"([a-zA-Z]+(?:[-'][a-zA-Z]+)?)\") "
   ]
  },
  {
   "cell_type": "code",
   "execution_count": 28,
   "metadata": {},
   "outputs": [
    {
     "name": "stdout",
     "output_type": "stream",
     "text": [
      "--> Tokenisation and removing words appearing once in the ad @ 22:40:59\n"
     ]
    }
   ],
   "source": [
    "print('--> Tokenisation and removing words appearing once in the ad @ '  + time.strftime(\"%H:%M:%S\"))\n",
    "\n",
    "newList = []\n",
    "orig_list = []\n",
    "for each_ad in addList:\n",
    "    new_id = each_ad[0]\n",
    "    desc = each_ad[1]\n",
    "    tokens = tokenizer.tokenize(desc)\n",
    "    \n",
    "    tokens = [token.lower() for token in tokens]\n",
    "    tokens = [token for token in tokens if token not in stopwords_list] \n",
    "    tokens = [token for token in tokens if len(token) > 3]\n",
    "    tokens = [token.lower() for token in tokens]\n",
    "\n",
    "    tokens_freq = FreqDist(tokens)\n",
    "    mf_tokens = tokens_freq.most_common()\n",
    "\n",
    "    reduced_tokens = []\n",
    "    for token in mf_tokens:\n",
    "        if token[1] > 1:\n",
    "            reduced_tokens.append(token)\n",
    "            \n",
    "    tempList = [new_id, reduced_tokens]\n",
    "    newList.append(tempList)\n",
    "    \n",
    "    orig_tokens = []\n",
    "    for token in tokens:\n",
    "        if token not in reduced_tokens:\n",
    "           orig_tokens.append(token)\n",
    "            \n",
    "    tempList = [new_id, orig_tokens]\n",
    "    orig_list.append(tempList)"
   ]
  },
  {
   "cell_type": "code",
   "execution_count": 29,
   "metadata": {},
   "outputs": [],
   "source": [
    "# Using a sequence number to preserve the order\n",
    "ad_list = []\n",
    "seq = 10000000\n",
    "for ad in orig_list:\n",
    "    s_ad = str(seq) + ':' + ad[0]\n",
    "    ad_list.append([s_ad, ad[1]])\n",
    "    seq += 1"
   ]
  },
  {
   "cell_type": "code",
   "execution_count": 30,
   "metadata": {},
   "outputs": [],
   "source": [
    "ad_dict = {}\n",
    "for ad in ad_list:\n",
    "    s_ad = str(seq) + ':' + ad[0]\n",
    "    \n",
    "    fd_2 = FreqDist(ad[1])\n",
    "    most_freq = fd_2.most_common()\n",
    "    l = []\n",
    "    for token in most_freq:\n",
    "        if token[1] > 1:\n",
    "            l.append(token)\n",
    "            \n",
    "    ad_dict[ad[0]] = l\n",
    "    seq += 1"
   ]
  },
  {
   "cell_type": "code",
   "execution_count": 31,
   "metadata": {},
   "outputs": [],
   "source": [
    "sorted(ad_dict.keys())\n",
    "sparce_dict = ad_dict"
   ]
  },
  {
   "cell_type": "code",
   "execution_count": 32,
   "metadata": {},
   "outputs": [],
   "source": [
    "ad_dict2 = {}\n",
    "for k, v in ad_dict.items():\n",
    "    l = []\n",
    "    for token in v:\n",
    "        l.append(token[0])\n",
    "    \n",
    "    ad_dict2[k] = l"
   ]
  },
  {
   "cell_type": "code",
   "execution_count": 33,
   "metadata": {},
   "outputs": [
    {
     "name": "stdout",
     "output_type": "stream",
     "text": [
      "--> Collecting words with high frequency @ 22:41:18\n"
     ]
    }
   ],
   "source": [
    "print('--> Collecting words with high frequency @ '  + time.strftime(\"%H:%M:%S\"))"
   ]
  },
  {
   "cell_type": "code",
   "execution_count": 34,
   "metadata": {},
   "outputs": [],
   "source": [
    "words = list(chain.from_iterable(ad_dict2.values()))\n",
    "vocab = set(words)\n",
    "vocab = list(dict.fromkeys(vocab))"
   ]
  },
  {
   "cell_type": "code",
   "execution_count": 35,
   "metadata": {},
   "outputs": [],
   "source": [
    "words_2 = list(chain.from_iterable([set(value) for value in ad_dict2.values()]))\n",
    "fd_2 = FreqDist(words_2)\n",
    "most_freq = fd_2.most_common()"
   ]
  },
  {
   "cell_type": "code",
   "execution_count": 36,
   "metadata": {},
   "outputs": [],
   "source": [
    "gt_than_100 = []\n",
    "for mf in most_freq:\n",
    "    if mf[1] > 100:\n",
    "        gt_than_100.append(mf)"
   ]
  },
  {
   "cell_type": "code",
   "execution_count": null,
   "metadata": {},
   "outputs": [],
   "source": []
  },
  {
   "cell_type": "code",
   "execution_count": 37,
   "metadata": {},
   "outputs": [],
   "source": [
    "indexed_vocab = []\n",
    "w_vocab = [token for token in vocab]\n",
    "w_vocab = list(dict.fromkeys(w_vocab))\n",
    "w_vocab = sorted(w_vocab)\n",
    "for v in w_vocab:\n",
    "    indexed_vocab.append(v)"
   ]
  },
  {
   "cell_type": "code",
   "execution_count": 38,
   "metadata": {},
   "outputs": [
    {
     "name": "stdout",
     "output_type": "stream",
     "text": [
      "--> Writing the vocabulary file @ 22:41:34\n"
     ]
    }
   ],
   "source": [
    "print('--> Writing the vocabulary file @ ' + time.strftime(\"%H:%M:%S\"))\n",
    "vocabFile = open('vocab.txt', 'w')\n",
    "for row in indexed_vocab:\n",
    "    index = indexed_vocab.index(row)\n",
    "    vocabLine = str(row) + ':' + str(index)\n",
    "    vocabFile.write(\"%s\\n\" % vocabLine)"
   ]
  },
  {
   "cell_type": "code",
   "execution_count": 42,
   "metadata": {},
   "outputs": [
    {
     "name": "stdout",
     "output_type": "stream",
     "text": [
      "--> Writing the HighFreq file @ 22:42:15\n"
     ]
    }
   ],
   "source": [
    "print('--> Writing the HighFreq file @ ' + time.strftime(\"%H:%M:%S\"))\n",
    "vocabFile = open('HighFreq.txt', 'w')\n",
    "for row in gt_than_100:\n",
    "    vocabFile.write(\"%s\\n\" % row[0])"
   ]
  },
  {
   "cell_type": "code",
   "execution_count": 40,
   "metadata": {},
   "outputs": [],
   "source": [
    "sparce_list = []\n",
    "for k, v in sparce_dict.items():\n",
    "    id_string = k\n",
    "    id_arr = id_string.split(':')\n",
    "    the_id = id_arr[1]\n",
    "    for item in v:\n",
    "        position = indexed_vocab.index(item[0])\n",
    "        # Create a list of the id, token, frequency, position\n",
    "        l = [the_id, item[0], item[1], position]        \n",
    "        sparce_list.append(l)\n",
    "    \n",
    "sparce_list.sort()"
   ]
  },
  {
   "cell_type": "code",
   "execution_count": 41,
   "metadata": {},
   "outputs": [
    {
     "name": "stdout",
     "output_type": "stream",
     "text": [
      "--> Writing sparce data file @ 22:41:45\n"
     ]
    }
   ],
   "source": [
    "print('--> Writing sparce data file @ '  + time.strftime(\"%H:%M:%S\"))\n",
    "sparceFile = open('sparce.txt', 'w')\n",
    "prev_id = ''\n",
    "line = ''\n",
    "firstLine = 'True'\n",
    "\n",
    "# Line format is id,index:frequency\n",
    "# line = item[0] + ',' + str(item[3]) + \":\" + str(item[2])\n",
    "    \n",
    "for item in sparce_list:\n",
    "    if item[0] != prev_id:\n",
    "        if not firstLine:\n",
    "            sparceFile.write(\"%s\\n\" % line)\n",
    "            \n",
    "        line = item[0] + ',' + str(item[3]) + \":\" + str(item[2])\n",
    "        prev_id = item[0]\n",
    "        firstLine = False\n",
    "    else:\n",
    "        line = line + ',' + str(item[3]) + \":\" + str(item[2])"
   ]
  },
  {
   "cell_type": "code",
   "execution_count": null,
   "metadata": {},
   "outputs": [],
   "source": []
  }
 ],
 "metadata": {
  "kernelspec": {
   "display_name": "Python 3",
   "language": "python",
   "name": "python3"
  },
  "language_info": {
   "codemirror_mode": {
    "name": "ipython",
    "version": 3
   },
   "file_extension": ".py",
   "mimetype": "text/x-python",
   "name": "python",
   "nbconvert_exporter": "python",
   "pygments_lexer": "ipython3",
   "version": "3.7.4"
  }
 },
 "nbformat": 4,
 "nbformat_minor": 2
}
