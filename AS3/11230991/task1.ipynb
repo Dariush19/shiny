{
 "cells": [
  {
   "cell_type": "markdown",
   "metadata": {},
   "source": [
    "# FIT5196 Assessment 2 Task 1\n",
    "#### Student Name: Dariush Riazati\n",
    "#### Student ID: 11230991\n",
    "\n",
    "Date: 09/06/2019\n",
    "\n",
    "Version: 1.0\n",
    "\n",
    "Environment: Python 3.5.2 and Jupyter notebook"
   ]
  },
  {
   "cell_type": "code",
   "execution_count": 1,
   "metadata": {},
   "outputs": [
    {
     "name": "stdout",
     "output_type": "stream",
     "text": [
      "3.5.2 (v3.5.2:4def2a2901a5, Jun 25 2016, 22:18:55) [MSC v.1900 64 bit (AMD64)]\n"
     ]
    }
   ],
   "source": [
    "from sys import version\n",
    "print(version)"
   ]
  },
  {
   "cell_type": "code",
   "execution_count": 2,
   "metadata": {},
   "outputs": [],
   "source": [
    "from __future__ import division\n",
    "import pandas as pd\n",
    "import re\n",
    "import numpy as np\n",
    "import time\n",
    "from IPython.display import display\n",
    "from IPython.core.interactiveshell import InteractiveShell\n",
    "InteractiveShell.ast_node_interactivity = \"all\"\n",
    "from nltk.probability import *\n",
    "import matplotlib.pyplot as plt\n",
    "from itertools import chain\n",
    "import nltk\n",
    "from difflib import SequenceMatcher\n",
    "from collections import Counter\n",
    "import csv\n",
    "import statistics\n",
    "import scipy.stats as stats\n",
    "import datetime"
   ]
  },
  {
   "cell_type": "markdown",
   "metadata": {},
   "source": [
    "### Initialization"
   ]
  },
  {
   "cell_type": "code",
   "execution_count": 3,
   "metadata": {},
   "outputs": [],
   "source": [
    "# add a bit of styling!\n",
    "plt.style.use('bmh')\n",
    "\n",
    "# make sure the plots are shown in the notebook\n",
    "%matplotlib inline \n",
    "\n",
    "# adjust the figure size to have larger plots\n",
    "plt.rcParams['figure.figsize'] = 10, 5\n",
    "\n",
    "# Creating matching between company values takes time. Once we calculated it, we save it anduse that for subsequent runs\n",
    "# to speed up the process. This boolean variable indicates if we want to re-uuse pre-calculated matchings or not.\n",
    "\n",
    "company_match_file = True"
   ]
  },
  {
   "cell_type": "markdown",
   "metadata": {},
   "source": [
    "### Functions"
   ]
  },
  {
   "cell_type": "code",
   "execution_count": 4,
   "metadata": {},
   "outputs": [],
   "source": [
    "# the following function is the clean and normalize title column.\n",
    "def cleanTitle(token):\n",
    "    if pd.isnull(token):\n",
    "        return token\n",
    "    else:\n",
    "        # normalize to upper case letters\n",
    "        token = token.upper()        \n",
    "        \n",
    "        # replace 1ST with FIRST\n",
    "        token = token.replace(\"1ST\", \"FIRST\")\n",
    "        # replace 1ST with FIRST\n",
    "        token = token.replace(\"2ND\", \"SECOND\")\n",
    "        token = token.replace(\"3RD\", \"THIRD\")\n",
    "        token = token.replace(\"4TH\", \"FOURTH\")\n",
    "        token = token.replace(\" MTH \", \" MONTH \")\n",
    "        token = re.sub(r\"^Y1 \", \"YEAR 1 \", token)\n",
    "        token = re.sub(r\"^Y2 \", \"YEAR 2 \", token)\n",
    "        token = re.sub(r\"^Y3 \", \"YEAR 3 \", token)\n",
    "        token = re.sub(r\"^Y4 \", \"YEAR 4 \", token)\n",
    "        token = re.sub(r\"^Y5 \", \"YEAR 5 \", token)\n",
    "        token = re.sub(r\"â€“\", \"\", token)\n",
    "        \n",
    "        # remove all special characters except space. +, / and dot\n",
    "        token = re.sub(r'([^\\w\\s\\.\\/\\+]|_)', '', token)\n",
    "        token = re.sub('^\\s+', '', token)\n",
    "        # replace multiple spaces with a single space, also trim spaces on both side\n",
    "        token = re.sub( '\\s+', ' ', token).strip()\n",
    "        return token"
   ]
  },
  {
   "cell_type": "code",
   "execution_count": 5,
   "metadata": {},
   "outputs": [],
   "source": [
    "# the following function is the clean and normalize title column.\n",
    "def cleanLocationCompany(token):\n",
    "    if pd.isnull(token):\n",
    "        return token\n",
    "    else:\n",
    "        # normalize to upper case letters\n",
    "        token = token.upper()        \n",
    "        token = re.sub(r\"â€“\", \"\", token)\n",
    "        \n",
    "        # remove all special characters except space. +, / and dot\n",
    "        token = re.sub(r'([^\\w\\s\\.\\/\\+]|_)', '', token)\n",
    "        token = re.sub('^\\s+', '', token)\n",
    "        # replace multiple spaces with a single space, also trim spaces on both side\n",
    "        token = re.sub( '\\s+', ' ', token).strip()\n",
    "        return token"
   ]
  },
  {
   "cell_type": "code",
   "execution_count": 6,
   "metadata": {},
   "outputs": [],
   "source": [
    "# This function splits a given ngram based on a list of given stems. \n",
    "def splitLong(long, stem):\n",
    "    nw = ''\n",
    "    for each_stem in stem:\n",
    "        my_regex = r\"(\" + re.escape(each_stem) + r\")\"\n",
    "        splits = re.split(my_regex, long)\n",
    "        nw = ''\n",
    "        for w in splits:\n",
    "            nw = nw + ' ' + w\n",
    "    \n",
    "        long = nw\n",
    "    \n",
    "    nw = re.sub( '\\s+', ' ', nw).strip()\n",
    "    return nw.strip()"
   ]
  },
  {
   "cell_type": "code",
   "execution_count": 7,
   "metadata": {},
   "outputs": [],
   "source": [
    "def similar(a, b):\n",
    "    return SequenceMatcher(None, a, b).ratio()"
   ]
  },
  {
   "cell_type": "code",
   "execution_count": 8,
   "metadata": {},
   "outputs": [],
   "source": [
    "def match_highfreq_To_lowfreq(data, min_threshold, max_threshold):\n",
    "    # check low frequency company names\n",
    "    lowfreq_data_list = [k for k,v in Counter(data).items() if v<=5]\n",
    "    print (\"Number of lowfreq_data\", len(lowfreq_data_list))\n",
    "    highfreq_data_list = list(set(data[~(data.isnull())]).difference(lowfreq_data_list))\n",
    "    print (\"Number of highfreq_data\", len(highfreq_data_list))\n",
    "    # the printed data tells that probably not many companies posted more than 5 jobs in those years.\n",
    "\n",
    "\n",
    "    match_data={}\n",
    "    for lowfreq_data in lowfreq_data_list:\n",
    "        for highfreq_data in highfreq_data_list:\n",
    "            ratio = similar(lowfreq_data.upper(), highfreq_data.upper())\n",
    "            if ratio >= min_threshold and ratio <= max_threshold:\n",
    "                match_data[lowfreq_data] = highfreq_data\n",
    "                print(lowfreq_data, \":\", highfreq_data, ratio)\n",
    "    return match_data"
   ]
  },
  {
   "cell_type": "code",
   "execution_count": 9,
   "metadata": {},
   "outputs": [],
   "source": [
    "def clean_salary(s):\n",
    "    #x1 = s.replace('YEAR','').replace('/','').replace('PER ANNUM','').replace('.00', '').replace('.0', '')\n",
    "    x1 = s.replace('YEAR','').replace('/','').replace('PER ANNUM','')\n",
    "    x2 = x1.replace(' TO ', ' - ').replace('PA', '').replace('K', '000').replace('.47', '')\n",
    "    x3  = x2.replace('.42', '').replace('.7', '').replace('.17', '')\n",
    "    x   = x3.replace('P/H', '@').replace('PER HOUR', '@').replace('PH', '@')\n",
    "    \n",
    "    if x.find(' - ') != -1:\n",
    "        xar = x.split(' - ')\n",
    "        f = float(xar[0].strip())\n",
    "        t = float(xar[1].strip())\n",
    "        x = round(statistics.mean([f,t]))\n",
    "    elif x.strip().find('-') != -1:\n",
    "        x = 'NAN'\n",
    "    elif x.find('@') != -1:\n",
    "        xar = str(x).split('@')\n",
    "        x = float(xar[0].strip()) * 1950\n",
    "        print(xar[0].strip(), \"changed to \", x)\n",
    "        \n",
    "    return str(x)"
   ]
  },
  {
   "cell_type": "code",
   "execution_count": 10,
   "metadata": {},
   "outputs": [],
   "source": [
    "def getLowerUpper(df, cat):\n",
    "    df_cat = df[df.category == cat]\n",
    "    q1 = np.percentile(df_cat.salary, 25)\n",
    "    q3 = np.percentile(df_cat.salary, 75)\n",
    "    lq = q1 - (1.5*(q3 - q1)) \n",
    "    uq = q3 + (1.5*(q3 - q1))\n",
    "    return(cat, lq, uq)\n",
    "\n",
    "def getLowerOutliers(df, cat, l):\n",
    "    ols = df[(df.salary < l) & (df.category == cat)]\n",
    "    return ols\n",
    "\n",
    "def getUpperOutliers(df, cat, u):\n",
    "    ols = df[(df.salary > u) & (df.category == cat)]\n",
    "    return ols"
   ]
  },
  {
   "cell_type": "code",
   "execution_count": 11,
   "metadata": {},
   "outputs": [],
   "source": [
    "# This function replaces null salaries in each category with the pre-calculated average.\n",
    "def repna(row):\n",
    "    if   row.category == 'Accounting & Finance Jobs' and row.salary_corrected == 'NAN':\n",
    "        sal='40042'\n",
    "    elif row.category == 'Engineering Jobs' and row.salary_corrected == 'NAN':\n",
    "        sal='33541'\n",
    "    elif row.category == 'Healthcare & Nursing Jobs' and row.salary_corrected == 'NAN':\n",
    "        sal='30139'\n",
    "    elif row.category == 'Hospitality & Catering Jobs' and row.salary_corrected == 'NAN':\n",
    "        sal='22343'\n",
    "    elif row.category == 'IT Jobs' and row.salary_corrected == 'NAN':\n",
    "        sal='43587'\n",
    "    elif row.category == 'PR, Advertising & Marketing Jobs' and row.salary_corrected == 'NAN':\n",
    "        sal='32276'\n",
    "    elif row.category == 'Sales Jobs' and row.salary_corrected == 'NAN':\n",
    "        sal='28285'\n",
    "    elif row.category == 'Teaching Jobs' and row.salary_corrected == 'NAN':\n",
    "        sal='26391'\n",
    "    else:\n",
    "        sal = row.salary_corrected\n",
    "    \n",
    "    #row.salary_corrected = sal\n",
    "    return sal"
   ]
  },
  {
   "cell_type": "code",
   "execution_count": 12,
   "metadata": {},
   "outputs": [],
   "source": [
    "def repMe(x, y, z):\n",
    "     if x == y: \n",
    "        return z \n",
    "     else: \n",
    "        return x"
   ]
  },
  {
   "cell_type": "code",
   "execution_count": 13,
   "metadata": {},
   "outputs": [],
   "source": [
    "def rep_numonly(x):\n",
    "    if re.match(\"^[\\d]+$\", str(x)):\n",
    "       return 'non-specified'\n",
    "    else:\n",
    "       return x"
   ]
  },
  {
   "cell_type": "code",
   "execution_count": 14,
   "metadata": {},
   "outputs": [],
   "source": [
    "def compareDates(row):\n",
    "    f = row.fromTime\n",
    "    t = row.toTime\n",
    "    i = int(row.id)\n",
    "    if f > t:\n",
    "        return 'Y'"
   ]
  },
  {
   "cell_type": "code",
   "execution_count": 15,
   "metadata": {},
   "outputs": [],
   "source": [
    "def swapDates(row):\n",
    "    id = row.id\n",
    "    od = row.open_date\n",
    "    cd = row.close_date\n",
    "    if row.invalid_date == 'Y':\n",
    "        row.open_date = cd\n",
    "        row.close_date = od\n",
    "    return row"
   ]
  },
  {
   "cell_type": "markdown",
   "metadata": {},
   "source": [
    "###### Read CSV"
   ]
  },
  {
   "cell_type": "code",
   "execution_count": 16,
   "metadata": {},
   "outputs": [],
   "source": [
    "dft = pd.read_csv('dataset1_with_error.csv', sep=\",\", names=['id', 'title', 'location', 'company',\n",
    "                        'contract_type', 'contract_time', 'category', 'salary', 'open_date', 'close_date', 'source'],\n",
    "                            encoding = \"utf-8\", skiprows=1)"
   ]
  },
  {
   "cell_type": "markdown",
   "metadata": {},
   "source": [
    "### Audit id"
   ]
  },
  {
   "cell_type": "code",
   "execution_count": 17,
   "metadata": {},
   "outputs": [
    {
     "name": "stdout",
     "output_type": "stream",
     "text": [
      "number of missing ids: 0\n",
      "Is there any duplicate in the id column? Series([], Name: index, dtype: int64)\n"
     ]
    },
    {
     "data": {
      "text/html": [
       "<div>\n",
       "<style scoped>\n",
       "    .dataframe tbody tr th:only-of-type {\n",
       "        vertical-align: middle;\n",
       "    }\n",
       "\n",
       "    .dataframe tbody tr th {\n",
       "        vertical-align: top;\n",
       "    }\n",
       "\n",
       "    .dataframe thead th {\n",
       "        text-align: right;\n",
       "    }\n",
       "</style>\n",
       "<table border=\"1\" class=\"dataframe\">\n",
       "  <thead>\n",
       "    <tr style=\"text-align: right;\">\n",
       "      <th></th>\n",
       "      <th>id</th>\n",
       "      <th>numeric</th>\n",
       "    </tr>\n",
       "  </thead>\n",
       "  <tbody>\n",
       "    <tr>\n",
       "      <th>0</th>\n",
       "      <td>True</td>\n",
       "      <td>55169</td>\n",
       "    </tr>\n",
       "  </tbody>\n",
       "</table>\n",
       "</div>"
      ],
      "text/plain": [
       "     id  numeric\n",
       "0  True    55169"
      ]
     },
     "execution_count": 17,
     "metadata": {},
     "output_type": "execute_result"
    },
    {
     "name": "stdout",
     "output_type": "stream",
     "text": [
      "Change Summary: id column has no null value, all numeric and no suplicate.\n"
     ]
    }
   ],
   "source": [
    "print (\"number of missing ids:\", dft.id.isnull().sum())\n",
    "print(\"Is there any duplicate in the id column?\", dft.id.value_counts().reset_index(name=\"count\").query(\"count > 1\")[\"index\"])\n",
    "# Get group counts for id and flag it if numeric\n",
    "s = pd.Series(dft['id'].values, index=dft['id'])\n",
    "s['num'] = s.astype(str).str.isnumeric()\n",
    "ss = s['num'].value_counts()\n",
    "pd.DataFrame({'id':ss.index, 'numeric':ss.values})\n",
    "print(\"Change Summary: id column has no null value, all numeric and no suplicate.\")"
   ]
  },
  {
   "cell_type": "markdown",
   "metadata": {},
   "source": [
    "### Audit Title"
   ]
  },
  {
   "cell_type": "code",
   "execution_count": 18,
   "metadata": {},
   "outputs": [
    {
     "data": {
      "text/html": [
       "<div>\n",
       "<style scoped>\n",
       "    .dataframe tbody tr th:only-of-type {\n",
       "        vertical-align: middle;\n",
       "    }\n",
       "\n",
       "    .dataframe tbody tr th {\n",
       "        vertical-align: top;\n",
       "    }\n",
       "\n",
       "    .dataframe thead th {\n",
       "        text-align: right;\n",
       "    }\n",
       "</style>\n",
       "<table border=\"1\" class=\"dataframe\">\n",
       "  <thead>\n",
       "    <tr style=\"text-align: right;\">\n",
       "      <th></th>\n",
       "      <th>id</th>\n",
       "      <th>title</th>\n",
       "      <th>location</th>\n",
       "      <th>company</th>\n",
       "      <th>contract_type</th>\n",
       "      <th>contract_time</th>\n",
       "      <th>category</th>\n",
       "      <th>salary</th>\n",
       "      <th>open_date</th>\n",
       "      <th>close_date</th>\n",
       "      <th>source</th>\n",
       "    </tr>\n",
       "  </thead>\n",
       "  <tbody>\n",
       "    <tr>\n",
       "      <th>23603</th>\n",
       "      <td>69004885</td>\n",
       "      <td>HR</td>\n",
       "      <td>UK</td>\n",
       "      <td>Supreme Recruitment</td>\n",
       "      <td>NaN</td>\n",
       "      <td>permanent</td>\n",
       "      <td>Teaching Jobs</td>\n",
       "      <td>35000</td>\n",
       "      <td>20120330T150000</td>\n",
       "      <td>20120429T150000</td>\n",
       "      <td>cv-library.co.uk</td>\n",
       "    </tr>\n",
       "    <tr>\n",
       "      <th>31962</th>\n",
       "      <td>69759443</td>\n",
       "      <td>QA</td>\n",
       "      <td>Manchester</td>\n",
       "      <td>-</td>\n",
       "      <td>full_time</td>\n",
       "      <td>-</td>\n",
       "      <td>Engineering Jobs</td>\n",
       "      <td>32640</td>\n",
       "      <td>20131218T000000</td>\n",
       "      <td>20140318T000000</td>\n",
       "      <td>Jobcentre Plus</td>\n",
       "    </tr>\n",
       "  </tbody>\n",
       "</table>\n",
       "</div>"
      ],
      "text/plain": [
       "             id title    location              company contract_type  \\\n",
       "23603  69004885    HR          UK  Supreme Recruitment           NaN   \n",
       "31962  69759443    QA  Manchester                    -     full_time   \n",
       "\n",
       "      contract_time          category salary        open_date  \\\n",
       "23603     permanent     Teaching Jobs  35000  20120330T150000   \n",
       "31962             -  Engineering Jobs  32640  20131218T000000   \n",
       "\n",
       "            close_date            source  \n",
       "23603  20120429T150000  cv-library.co.uk  \n",
       "31962  20140318T000000    Jobcentre Plus  "
      ]
     },
     "execution_count": 18,
     "metadata": {},
     "output_type": "execute_result"
    }
   ],
   "source": [
    "dft[dft.title.apply(lambda x: len(x) < 3)]"
   ]
  },
  {
   "cell_type": "code",
   "execution_count": 19,
   "metadata": {},
   "outputs": [
    {
     "name": "stdout",
     "output_type": "stream",
     "text": [
      "We can see that there is a mix of cases.\n"
     ]
    },
    {
     "data": {
      "text/plain": [
       "0                          Engineering Systems Analyst\n",
       "1                              Stress Engineer Glasgow\n",
       "2                     Modelling and simulation analyst\n",
       "3    Engineering Systems Analyst / Mathematical Mod...\n",
       "4           Pioneer, Miser Engineering Systems Analyst\n",
       "5              Trainee Mortgage Advisor  East Midlands\n",
       "6                     PROJECT ENGINEER, PHARMACEUTICAL\n",
       "7    Chef de Partie  Award Winning Restaurant  Exce...\n",
       "8                                     Quality Engineer\n",
       "9    Chef de Partie  Award Winning Dining  Live In ...\n",
       "Name: title, dtype: object"
      ]
     },
     "execution_count": 19,
     "metadata": {},
     "output_type": "execute_result"
    },
    {
     "data": {
      "text/plain": [
       "55159    IT Infrastructure Specialist (Mlnlycke Health ...\n",
       "55160    Pharmaceutical  Analytical Chemist Jobs in Nor...\n",
       "55161       Medical Sales Representative  South East Essex\n",
       "55162    SENIOR PROJECT MANAGER  EVENT & EXHIBITION AGENCY\n",
       "55163                       Curriculum Leader  Mathematics\n",
       "55164                  TEACHER OF BUSINESS STUDIES AND LAW\n",
       "55165         Pensions Administrators (Temporary/Contract)\n",
       "55166                             Senior Financial Advisor\n",
       "55167      Barclays Future Leaders Development Programmes \n",
       "55168    Quality Assurance Environmental Manager Nottin...\n",
       "Name: title, dtype: object"
      ]
     },
     "execution_count": 19,
     "metadata": {},
     "output_type": "execute_result"
    }
   ],
   "source": [
    "print(\"We can see that there is a mix of cases.\")\n",
    "dft.title.head(10)\n",
    "dft.title.tail(10)"
   ]
  },
  {
   "cell_type": "code",
   "execution_count": 20,
   "metadata": {},
   "outputs": [
    {
     "name": "stdout",
     "output_type": "stream",
     "text": [
      "55166 different titles before normalization\n",
      "55162 different titles after normalization\n"
     ]
    }
   ],
   "source": [
    "print (len(set(dft.title)), \"different titles before normalization\")\n",
    "dft['TitleNormalized'] = dft.title.apply(lambda x: cleanTitle(x))\n",
    "print (len(set(dft.TitleNormalized)), \"different titles after normalization\")"
   ]
  },
  {
   "cell_type": "code",
   "execution_count": 21,
   "metadata": {},
   "outputs": [
    {
     "name": "stdout",
     "output_type": "stream",
     "text": [
      "55162 different titles before split\n",
      "55162 different titles after split\n"
     ]
    }
   ],
   "source": [
    "# We treat most of the ngram words by splitting them for clarity. That does not change the frequency.\n",
    "print (len(set(dft.TitleNormalized)), \"different titles before split\")\n",
    "s = ['MANAGER', 'DIRECTOR', 'ANALYST', 'DEVELOPER', 'ENGINEER', 'BOOKKEEPER', \n",
    "    'DEVELOPMENT']\n",
    "dft['TitleSplit'] = dft.TitleNormalized.apply(lambda x: splitLong(x, s))\n",
    "print (len(set(dft.TitleSplit)), \"different titles after split\")"
   ]
  },
  {
   "cell_type": "code",
   "execution_count": 22,
   "metadata": {},
   "outputs": [
    {
     "data": {
      "text/plain": [
       "55162"
      ]
     },
     "execution_count": 22,
     "metadata": {},
     "output_type": "execute_result"
    },
    {
     "name": "stdout",
     "output_type": "stream",
     "text": [
      "Number of lowfreq_data 55162\n",
      "Number of highfreq_data 0\n"
     ]
    }
   ],
   "source": [
    "# The job titles appear to be unique, therefore repalcing them with similar ones of higher frequency does not help.\n",
    "len(dft.TitleNormalized.unique())\n",
    "match_data=match_highfreq_To_lowfreq(dft.TitleSplit, 0.95, 1)"
   ]
  },
  {
   "cell_type": "code",
   "execution_count": 23,
   "metadata": {},
   "outputs": [
    {
     "data": {
      "text/html": [
       "<div>\n",
       "<style scoped>\n",
       "    .dataframe tbody tr th:only-of-type {\n",
       "        vertical-align: middle;\n",
       "    }\n",
       "\n",
       "    .dataframe tbody tr th {\n",
       "        vertical-align: top;\n",
       "    }\n",
       "\n",
       "    .dataframe thead th {\n",
       "        text-align: right;\n",
       "    }\n",
       "</style>\n",
       "<table border=\"1\" class=\"dataframe\">\n",
       "  <thead>\n",
       "    <tr style=\"text-align: right;\">\n",
       "      <th></th>\n",
       "      <th>id</th>\n",
       "      <th>title</th>\n",
       "      <th>location</th>\n",
       "      <th>company</th>\n",
       "      <th>contract_type</th>\n",
       "      <th>contract_time</th>\n",
       "      <th>category</th>\n",
       "      <th>salary</th>\n",
       "      <th>open_date</th>\n",
       "      <th>close_date</th>\n",
       "      <th>source</th>\n",
       "      <th>TitleNormalized</th>\n",
       "      <th>TitleSplit</th>\n",
       "    </tr>\n",
       "  </thead>\n",
       "  <tbody>\n",
       "    <tr>\n",
       "      <th>1043</th>\n",
       "      <td>50870368</td>\n",
       "      <td>****</td>\n",
       "      <td>UK</td>\n",
       "      <td>Rullion Engineering Ltd</td>\n",
       "      <td>NaN</td>\n",
       "      <td>permanent</td>\n",
       "      <td>Engineering Jobs</td>\n",
       "      <td>34500</td>\n",
       "      <td>20120427T120000</td>\n",
       "      <td>20120726T120000</td>\n",
       "      <td>cv-library.co.uk</td>\n",
       "      <td></td>\n",
       "      <td></td>\n",
       "    </tr>\n",
       "  </tbody>\n",
       "</table>\n",
       "</div>"
      ],
      "text/plain": [
       "            id title location                  company contract_type  \\\n",
       "1043  50870368  ****       UK  Rullion Engineering Ltd           NaN   \n",
       "\n",
       "     contract_time          category salary        open_date       close_date  \\\n",
       "1043     permanent  Engineering Jobs  34500  20120427T120000  20120726T120000   \n",
       "\n",
       "                source TitleNormalized TitleSplit  \n",
       "1043  cv-library.co.uk                             "
      ]
     },
     "execution_count": 23,
     "metadata": {},
     "output_type": "execute_result"
    },
    {
     "data": {
      "text/html": [
       "<div>\n",
       "<style scoped>\n",
       "    .dataframe tbody tr th:only-of-type {\n",
       "        vertical-align: middle;\n",
       "    }\n",
       "\n",
       "    .dataframe tbody tr th {\n",
       "        vertical-align: top;\n",
       "    }\n",
       "\n",
       "    .dataframe thead th {\n",
       "        text-align: right;\n",
       "    }\n",
       "</style>\n",
       "<table border=\"1\" class=\"dataframe\">\n",
       "  <thead>\n",
       "    <tr style=\"text-align: right;\">\n",
       "      <th></th>\n",
       "      <th>id</th>\n",
       "      <th>title</th>\n",
       "      <th>location</th>\n",
       "      <th>company</th>\n",
       "      <th>contract_type</th>\n",
       "      <th>contract_time</th>\n",
       "      <th>category</th>\n",
       "      <th>salary</th>\n",
       "      <th>open_date</th>\n",
       "      <th>close_date</th>\n",
       "      <th>source</th>\n",
       "      <th>TitleNormalized</th>\n",
       "      <th>TitleSplit</th>\n",
       "    </tr>\n",
       "  </thead>\n",
       "  <tbody>\n",
       "  </tbody>\n",
       "</table>\n",
       "</div>"
      ],
      "text/plain": [
       "Empty DataFrame\n",
       "Columns: [id, title, location, company, contract_type, contract_time, category, salary, open_date, close_date, source, TitleNormalized, TitleSplit]\n",
       "Index: []"
      ]
     },
     "execution_count": 23,
     "metadata": {},
     "output_type": "execute_result"
    }
   ],
   "source": [
    "dft[dft.TitleNormalized == '']\n",
    "dft['TitleNormalized'] = dft.TitleNormalized.apply(lambda x: repMe(x, '', 'non-specified'))\n",
    "dft[dft.TitleNormalized == '']"
   ]
  },
  {
   "cell_type": "code",
   "execution_count": 24,
   "metadata": {},
   "outputs": [],
   "source": [
    "# we don't need TitleNormalized and the old title any more.\n",
    "dft = dft.drop(['TitleSplit'], axis=1)\n",
    "dft = dft.drop(['title'], axis=1)"
   ]
  },
  {
   "cell_type": "markdown",
   "metadata": {},
   "source": [
    "##### Validation Summeary:\n",
    "- Check for short length\n",
    "- Clean from special characters, spaces\n",
    "- Make spellings consistent\n",
    "- Split compond nouns\n",
    "- Check for frequencies to see if similarity can be used to correct less frequent words\n",
    "- Replace null values"
   ]
  },
  {
   "cell_type": "markdown",
   "metadata": {},
   "source": [
    "### Audit Location"
   ]
  },
  {
   "cell_type": "code",
   "execution_count": 25,
   "metadata": {},
   "outputs": [
    {
     "name": "stdout",
     "output_type": "stream",
     "text": [
      "number of missing locations: 0\n"
     ]
    }
   ],
   "source": [
    "print (\"number of missing locations:\", dft.location.isnull().sum())"
   ]
  },
  {
   "cell_type": "code",
   "execution_count": 26,
   "metadata": {},
   "outputs": [
    {
     "name": "stdout",
     "output_type": "stream",
     "text": [
      "489 different locations before normalization\n",
      "484 different titles after normalization\n"
     ]
    }
   ],
   "source": [
    "print (len(set(dft.location)), \"different locations before normalization\")\n",
    "dft['LocationNormalized'] = dft.location.apply(lambda x: cleanLocationCompany(x))\n",
    "print (len(set(dft.LocationNormalized)), \"different titles after normalization\")"
   ]
  },
  {
   "cell_type": "code",
   "execution_count": 27,
   "metadata": {},
   "outputs": [
    {
     "data": {
      "text/plain": [
       "UK                      8397\n",
       "London                  7046\n",
       "South East London       2961\n",
       "The City                1184\n",
       "Central London           889\n",
       "Manchester               754\n",
       "Leeds                    733\n",
       "Surrey                   686\n",
       "Birmingham               639\n",
       "Reading                  604\n",
       "West Midlands            579\n",
       "Bristol                  471\n",
       "Berkshire                441\n",
       "East Sheen               437\n",
       "Nottingham               409\n",
       "Oxford                   395\n",
       "Hampshire                387\n",
       "Milton Keynes            383\n",
       "Sheffield                383\n",
       "Kent                     362\n",
       "Cambridge                358\n",
       "Newcastle Upon Tyne      346\n",
       "Guildford                340\n",
       "Leicester                311\n",
       "Hertfordshire            301\n",
       "Liverpool                286\n",
       "Aberdeen                 282\n",
       "Essex                    282\n",
       "Oxfordshire              275\n",
       "West Yorkshire           273\n",
       "                        ... \n",
       "Grimsby                   11\n",
       "Wincanton                 11\n",
       "Sutton-In-Ashfield        11\n",
       "Trent                     11\n",
       "Cwmbran                   11\n",
       "Newport Pagnell           11\n",
       "Newcastle-under-Lyme      11\n",
       "Boston                    11\n",
       "Petersfield               11\n",
       "Bourne End                11\n",
       "Normanton                 11\n",
       "Waterlooville             11\n",
       "Twickenham                11\n",
       "St. Ives                  11\n",
       "Linlithgow                11\n",
       "St. Neots                 10\n",
       "Thorpe St. Andrew         10\n",
       "South Brent               10\n",
       "City                      10\n",
       "North Finchley             7\n",
       "ABERDEEN                   2\n",
       "birmingham                 2\n",
       "Oxfords                    2\n",
       "london                     2\n",
       "HAMpshire                  2\n",
       "BRISTOL                    1\n",
       "Manchaster                 1\n",
       "Leads                      1\n",
       "Livepool                   1\n",
       "Cembridge                  1\n",
       "Name: location, Length: 489, dtype: int64"
      ]
     },
     "execution_count": 27,
     "metadata": {},
     "output_type": "execute_result"
    }
   ],
   "source": [
    "dft.location.value_counts()"
   ]
  },
  {
   "cell_type": "code",
   "execution_count": 28,
   "metadata": {},
   "outputs": [
    {
     "name": "stdout",
     "output_type": "stream",
     "text": [
      "Number of lowfreq_data 5\n",
      "Number of highfreq_data 479\n",
      "OXFORDS : OXFORD 0.9230769230769231\n",
      "MANCHASTER : MANCHESTER 0.9\n",
      "LIVEPOOL : LIVERPOOL 0.9411764705882353\n",
      "CEMBRIDGE : CAMBRIDGE 0.8888888888888888\n"
     ]
    }
   ],
   "source": [
    "match_location=match_highfreq_To_lowfreq(dft.LocationNormalized, 0.85, 1)"
   ]
  },
  {
   "cell_type": "code",
   "execution_count": 29,
   "metadata": {},
   "outputs": [],
   "source": [
    "# replace lower frequent with higher frequent location name\n",
    "dft['location_similar'] = dft.LocationNormalized.replace(match_location)"
   ]
  },
  {
   "cell_type": "code",
   "execution_count": 30,
   "metadata": {},
   "outputs": [
    {
     "data": {
      "text/plain": [
       "UK                     8397\n",
       "LONDON                 7048\n",
       "SOUTH EAST LONDON      2961\n",
       "THE CITY               1184\n",
       "CENTRAL LONDON          889\n",
       "MANCHESTER              755\n",
       "LEEDS                   733\n",
       "SURREY                  686\n",
       "BIRMINGHAM              641\n",
       "READING                 604\n",
       "WEST MIDLANDS           579\n",
       "BRISTOL                 472\n",
       "BERKSHIRE               441\n",
       "EAST SHEEN              437\n",
       "NOTTINGHAM              409\n",
       "OXFORD                  397\n",
       "HAMPSHIRE               389\n",
       "SHEFFIELD               383\n",
       "MILTON KEYNES           383\n",
       "KENT                    362\n",
       "CAMBRIDGE               359\n",
       "NEWCASTLE UPON TYNE     346\n",
       "GUILDFORD               340\n",
       "LEICESTER               311\n",
       "HERTFORDSHIRE           301\n",
       "LIVERPOOL               287\n",
       "ABERDEEN                284\n",
       "ESSEX                   282\n",
       "OXFORDSHIRE             275\n",
       "WEST YORKSHIRE          273\n",
       "                       ... \n",
       "PETERSFIELD              11\n",
       "BROADFIELD               11\n",
       "SUTTONINASHFIELD         11\n",
       "TWICKENHAM               11\n",
       "WINCANTON                11\n",
       "OLDBURY                  11\n",
       "GATWICK                  11\n",
       "LINLITHGOW               11\n",
       "LUTTERWORTH              11\n",
       "ALCESTER                 11\n",
       "CWMBRAN                  11\n",
       "NEWPORT PAGNELL          11\n",
       "ST. IVES                 11\n",
       "BOURNE END               11\n",
       "BOSTON                   11\n",
       "NORMANTON                11\n",
       "GRIMSBY                  11\n",
       "CANARY WHARF             11\n",
       "POTTERS BAR              11\n",
       "LEWISHAM                 11\n",
       "DUMFRIES                 11\n",
       "WATERLOOVILLE            11\n",
       "TRENT                    11\n",
       "NEWCASTLEUNDERLYME       11\n",
       "CITY                     10\n",
       "SOUTH BRENT              10\n",
       "ST. NEOTS                10\n",
       "THORPE ST. ANDREW        10\n",
       "NORTH FINCHLEY            7\n",
       "LEADS                     1\n",
       "Name: location_similar, Length: 480, dtype: int64"
      ]
     },
     "execution_count": 30,
     "metadata": {},
     "output_type": "execute_result"
    }
   ],
   "source": [
    "dft['location_similar'].value_counts()"
   ]
  },
  {
   "cell_type": "code",
   "execution_count": 31,
   "metadata": {},
   "outputs": [],
   "source": [
    "# replace lower frequent with higher frequent location name\n",
    "dft['location_similar'].replace({'NEWCASTLEUNDERLYME':'NEWCASTLE UNDER LYME',\n",
    "                                  'LEADS':'LEEDS'},inplace=True)"
   ]
  },
  {
   "cell_type": "code",
   "execution_count": 32,
   "metadata": {},
   "outputs": [
    {
     "data": {
      "text/plain": [
       "UK                      8397\n",
       "LONDON                  7048\n",
       "SOUTH EAST LONDON       2961\n",
       "THE CITY                1184\n",
       "CENTRAL LONDON           889\n",
       "MANCHESTER               755\n",
       "LEEDS                    734\n",
       "SURREY                   686\n",
       "BIRMINGHAM               641\n",
       "READING                  604\n",
       "WEST MIDLANDS            579\n",
       "BRISTOL                  472\n",
       "BERKSHIRE                441\n",
       "EAST SHEEN               437\n",
       "NOTTINGHAM               409\n",
       "OXFORD                   397\n",
       "HAMPSHIRE                389\n",
       "MILTON KEYNES            383\n",
       "SHEFFIELD                383\n",
       "KENT                     362\n",
       "CAMBRIDGE                359\n",
       "NEWCASTLE UPON TYNE      346\n",
       "GUILDFORD                340\n",
       "LEICESTER                311\n",
       "HERTFORDSHIRE            301\n",
       "LIVERPOOL                287\n",
       "ABERDEEN                 284\n",
       "ESSEX                    282\n",
       "OXFORDSHIRE              275\n",
       "WEST YORKSHIRE           273\n",
       "                        ... \n",
       "JERSEY                    12\n",
       "LEWISHAM                  11\n",
       "BOURNE END                11\n",
       "ALCESTER                  11\n",
       "TWICKENHAM                11\n",
       "GRIMSBY                   11\n",
       "WINCANTON                 11\n",
       "CWMBRAN                   11\n",
       "TRENT                     11\n",
       "POTTERS BAR               11\n",
       "PETERSFIELD               11\n",
       "BROADFIELD                11\n",
       "SUTTONINASHFIELD          11\n",
       "DUMFRIES                  11\n",
       "NEWPORT PAGNELL           11\n",
       "LINLITHGOW                11\n",
       "NEWCASTLE UNDER LYME      11\n",
       "NORMANTON                 11\n",
       "LUTTERWORTH               11\n",
       "GATWICK                   11\n",
       "ST. IVES                  11\n",
       "CANARY WHARF              11\n",
       "BOSTON                    11\n",
       "OLDBURY                   11\n",
       "WATERLOOVILLE             11\n",
       "SOUTH BRENT               10\n",
       "ST. NEOTS                 10\n",
       "THORPE ST. ANDREW         10\n",
       "CITY                      10\n",
       "NORTH FINCHLEY             7\n",
       "Name: location_similar, Length: 479, dtype: int64"
      ]
     },
     "execution_count": 32,
     "metadata": {},
     "output_type": "execute_result"
    }
   ],
   "source": [
    "dft['location_similar'].value_counts()"
   ]
  },
  {
   "cell_type": "code",
   "execution_count": 33,
   "metadata": {},
   "outputs": [],
   "source": [
    "# we don't need TitleNormalized and the old title any more.\n",
    "dft = dft.drop(['LocationNormalized'], axis=1)\n",
    "dft = dft.drop(['location'], axis=1)"
   ]
  },
  {
   "cell_type": "markdown",
   "metadata": {},
   "source": [
    "##### Validation summary:\n",
    "- Check for nulls\n",
    "- Correct formatting by replacing special characters and multiple spaces\n",
    "- CHeck frequencies to see if high frequent words can replace similar less frequent words"
   ]
  },
  {
   "cell_type": "markdown",
   "metadata": {},
   "source": [
    "### Audit Company"
   ]
  },
  {
   "cell_type": "code",
   "execution_count": 34,
   "metadata": {},
   "outputs": [
    {
     "data": {
      "text/plain": [
       "0"
      ]
     },
     "execution_count": 34,
     "metadata": {},
     "output_type": "execute_result"
    },
    {
     "data": {
      "text/plain": [
       "55169"
      ]
     },
     "execution_count": 34,
     "metadata": {},
     "output_type": "execute_result"
    }
   ],
   "source": [
    "len(dft[dft.company == ''])\n",
    "len(dft)"
   ]
  },
  {
   "cell_type": "code",
   "execution_count": 35,
   "metadata": {},
   "outputs": [
    {
     "name": "stdout",
     "output_type": "stream",
     "text": [
      "number of missing companies: 3849\n",
      "Percentage of missing companies: 7 %\n"
     ]
    }
   ],
   "source": [
    "no_null_companies = dft.company.isnull().sum()\n",
    "perc = round(no_null_companies/len(dft), 2)\n",
    "print (\"number of missing companies:\", no_null_companies)\n",
    "print (\"Percentage of missing companies:\", int(perc*100), '%')"
   ]
  },
  {
   "cell_type": "code",
   "execution_count": 36,
   "metadata": {},
   "outputs": [],
   "source": [
    "dft['CompanyNormalized'] = dft.company.apply(lambda x: cleanLocationCompany(x))"
   ]
  },
  {
   "cell_type": "code",
   "execution_count": 37,
   "metadata": {},
   "outputs": [],
   "source": [
    "if company_match_file:\n",
    "    match_company = csv.DictReader(open('match_company.csv'))\n",
    "else:\n",
    "    match_company=match_highfreq_To_lowfreq(dft.CompanyNormalized, 0.95, 1)\n",
    "    dft.to_csv('match_company.csv')\n",
    "    company_match_file = True"
   ]
  },
  {
   "cell_type": "code",
   "execution_count": 38,
   "metadata": {},
   "outputs": [],
   "source": [
    "dft['company_similar'] = dft.CompanyNormalized.replace(match_company)"
   ]
  },
  {
   "cell_type": "code",
   "execution_count": 39,
   "metadata": {},
   "outputs": [
    {
     "data": {
      "text/plain": [
       "                                                          1539\n",
       "UKSTAFFSEARCH                                              498\n",
       "RANDSTAD                                                   403\n",
       "CVBROWSER                                                  328\n",
       "PENGUIN RECRUITMENT                                        252\n",
       "MATCHTECH GROUP PLC.                                       242\n",
       "HAYS                                                       230\n",
       "LONDON4JOBS                                                201\n",
       "CORECRUITMENT INTERNATIONAL                                197\n",
       "JOBG8                                                      184\n",
       "CHEF RESULTS                                               177\n",
       "JAM RECRUITMENT LTD                                        171\n",
       "POPULUS HEALTHCARE                                         146\n",
       "MICHAEL PAGE FINANCE                                       136\n",
       "COMPUTER PEOPLE                                            135\n",
       "SENITOR ASSOCIATES                                         132\n",
       "IDEX CONSULTING LLP                                        131\n",
       "BEE RECRUITMENT LONDON LTD                                 124\n",
       "SUPPORT SERVICES GROUP                                     122\n",
       "EVOLUTION RECRUITMENT SOLUTIONS                            111\n",
       "EXPERIS IT                                                 109\n",
       "LIQUID PERSONNEL LTD                                       109\n",
       "SWIIS HEALTHCARE                                           107\n",
       "ADECCO                                                     107\n",
       "SYK RECRUITMENT                                            107\n",
       "COMPUTER FUTURES                                           107\n",
       "CLEAR SELECTION                                            106\n",
       "CAPITA RESOURCING                                          104\n",
       "MONARCH RECRUITMENT                                        103\n",
       "TOWNGATE PERSONNEL                                         102\n",
       "                                                          ... \n",
       "SPACE LETTINGS MANAGEMENT                                    1\n",
       "MORPHEUS GROUP                                               1\n",
       "JOB PLACE                                                    1\n",
       "MEDICA SEARCH SELECTION LIMITED                              1\n",
       "AUSTIN LEE RESOURCING                                        1\n",
       "CAPRICE HOLDINGS LTD ANNABEL APOSS CLUBS URBAN CAPRICE       1\n",
       "COYLE ASSOCIATES                                             1\n",
       "AMASCO ASSOCIATES LIMITED                                    1\n",
       "RANDSTAD UK HOLDING                                          1\n",
       "AUSTIN BANKS                                                 1\n",
       "T J TOTAL SERVICES LTD                                       1\n",
       "ABACUS EMPLOYMENT SERVICES LTD                               1\n",
       "XCELLIN LIMITED                                              1\n",
       "INTECH                                                       1\n",
       "KINROSS HIGH SCHOOL                                          1\n",
       "ELLIS JONES RECRUITMENT                                      1\n",
       "SEISMIC LTD.                                                 1\n",
       "TEAM RECRUITMENT LTD                                         1\n",
       "WGGS APPRENTICESHIPS LTD                                     1\n",
       "CLEMENTS TECHNICAL RECRUITMENT                               1\n",
       "THE CELTIC MANOR RESORT                                      1\n",
       "THE RECRUITMENT FACTOR                                       1\n",
       "FIRST GLOBAL RECRUITMENT LIMITED                             1\n",
       "DOYEN RESOURCES                                              1\n",
       "T.E.D. LTD                                                   1\n",
       "RED ROCK PARTNERSHIP LTD                                     1\n",
       "ARTIZIAN CATERING SERVICES LTD                               1\n",
       "JEM SEARCH                                                   1\n",
       "DERBYSHIRE COUNTY COUNCIL 2                                  1\n",
       "KIDDI CARU DAY NURSERIES                                     1\n",
       "Name: company_similar, Length: 8712, dtype: int64"
      ]
     },
     "execution_count": 39,
     "metadata": {},
     "output_type": "execute_result"
    }
   ],
   "source": [
    "dft['company_similar'].value_counts()"
   ]
  },
  {
   "cell_type": "code",
   "execution_count": 40,
   "metadata": {},
   "outputs": [
    {
     "data": {
      "text/html": [
       "<div>\n",
       "<style scoped>\n",
       "    .dataframe tbody tr th:only-of-type {\n",
       "        vertical-align: middle;\n",
       "    }\n",
       "\n",
       "    .dataframe tbody tr th {\n",
       "        vertical-align: top;\n",
       "    }\n",
       "\n",
       "    .dataframe thead th {\n",
       "        text-align: right;\n",
       "    }\n",
       "</style>\n",
       "<table border=\"1\" class=\"dataframe\">\n",
       "  <thead>\n",
       "    <tr style=\"text-align: right;\">\n",
       "      <th></th>\n",
       "      <th>id</th>\n",
       "      <th>company</th>\n",
       "      <th>contract_type</th>\n",
       "      <th>contract_time</th>\n",
       "      <th>category</th>\n",
       "      <th>salary</th>\n",
       "      <th>open_date</th>\n",
       "      <th>close_date</th>\n",
       "      <th>source</th>\n",
       "      <th>TitleNormalized</th>\n",
       "      <th>location_similar</th>\n",
       "      <th>CompanyNormalized</th>\n",
       "      <th>company_similar</th>\n",
       "    </tr>\n",
       "  </thead>\n",
       "  <tbody>\n",
       "  </tbody>\n",
       "</table>\n",
       "</div>"
      ],
      "text/plain": [
       "Empty DataFrame\n",
       "Columns: [id, company, contract_type, contract_time, category, salary, open_date, close_date, source, TitleNormalized, location_similar, CompanyNormalized, company_similar]\n",
       "Index: []"
      ]
     },
     "execution_count": 40,
     "metadata": {},
     "output_type": "execute_result"
    }
   ],
   "source": [
    " dft[dft.company_similar == 'nonnon-specifiedspecified']"
   ]
  },
  {
   "cell_type": "code",
   "execution_count": 41,
   "metadata": {},
   "outputs": [],
   "source": [
    "dft['company_similar'] = dft.company_similar.str.replace('LTD', 'LIMITED')\n",
    "dft['company_similar'] = dft.company_similar.fillna('non_specified')"
   ]
  },
  {
   "cell_type": "code",
   "execution_count": 42,
   "metadata": {},
   "outputs": [],
   "source": [
    "dft['company_similar'] = dft.company_similar.str.replace('-', 'non-specified')\n",
    "dft['company_similar'] = dft.company_similar.str.replace('_', '-')"
   ]
  },
  {
   "cell_type": "code",
   "execution_count": 43,
   "metadata": {},
   "outputs": [
    {
     "data": {
      "text/plain": [
       "0"
      ]
     },
     "execution_count": 43,
     "metadata": {},
     "output_type": "execute_result"
    },
    {
     "data": {
      "text/plain": [
       "1539"
      ]
     },
     "execution_count": 43,
     "metadata": {},
     "output_type": "execute_result"
    },
    {
     "data": {
      "text/plain": [
       "0"
      ]
     },
     "execution_count": 43,
     "metadata": {},
     "output_type": "execute_result"
    },
    {
     "data": {
      "text/plain": [
       "0"
      ]
     },
     "execution_count": 43,
     "metadata": {},
     "output_type": "execute_result"
    }
   ],
   "source": [
    "dft.company_similar.isnull().sum()\n",
    "len(dft[dft.company_similar == ''])\n",
    "dft['company_similar'] = dft.company_similar.apply(lambda x: repMe(x, '', 'non-specified'))\n",
    "dft['company_similar'] = dft.company_similar.apply(lambda x: repMe(x, '.', 'non-specified'))\n",
    "len(dft[dft.company_similar == ''])\n",
    "len(dft[dft.company_similar == 'N/A'])"
   ]
  },
  {
   "cell_type": "code",
   "execution_count": 44,
   "metadata": {},
   "outputs": [],
   "source": [
    "dft['company_similar'] = dft.company_similar.apply(lambda x: rep_numonly(x))"
   ]
  },
  {
   "cell_type": "code",
   "execution_count": 45,
   "metadata": {},
   "outputs": [
    {
     "name": "stdout",
     "output_type": "stream",
     "text": [
      "number of missing companies: 0\n",
      "Percentage of missing companies: 0 %\n"
     ]
    }
   ],
   "source": [
    "no_null_companies = dft.company_similar.isnull().sum()\n",
    "perc = round(no_null_companies/len(dft), 2)\n",
    "print (\"number of missing companies:\", no_null_companies)\n",
    "print (\"Percentage of missing companies:\", int(perc*100), '%')"
   ]
  },
  {
   "cell_type": "code",
   "execution_count": 46,
   "metadata": {},
   "outputs": [
    {
     "data": {
      "text/plain": [
       "0"
      ]
     },
     "execution_count": 46,
     "metadata": {},
     "output_type": "execute_result"
    },
    {
     "data": {
      "text/plain": [
       "0"
      ]
     },
     "execution_count": 46,
     "metadata": {},
     "output_type": "execute_result"
    },
    {
     "data": {
      "text/plain": [
       "0"
      ]
     },
     "execution_count": 46,
     "metadata": {},
     "output_type": "execute_result"
    }
   ],
   "source": [
    "len(dft[dft.company_similar == '-'])\n",
    "len(dft[dft.company_similar.isnull()])\n",
    "len(dft[dft.company_similar == '.'])"
   ]
  },
  {
   "cell_type": "code",
   "execution_count": 47,
   "metadata": {},
   "outputs": [],
   "source": [
    "# we don't need old company columns and the old title any more.\n",
    "dft = dft.drop(['CompanyNormalized'], axis=1)\n",
    "dft = dft.drop(['company'], axis=1)"
   ]
  },
  {
   "cell_type": "markdown",
   "metadata": {},
   "source": [
    "###### Validation Summary:\n",
    "- Check for nulls\n",
    "- Replace highly frquent companies with similar low frequent companies\n",
    "- Replace nulls, dashes and "
   ]
  },
  {
   "cell_type": "markdown",
   "metadata": {},
   "source": [
    "### Audit Contact Type"
   ]
  },
  {
   "cell_type": "code",
   "execution_count": 48,
   "metadata": {},
   "outputs": [
    {
     "data": {
      "text/plain": [
       "             14902\n",
       "full_time    12303\n",
       "-             4720\n",
       "part_time     1568\n",
       "Name: contract_type, dtype: int64"
      ]
     },
     "execution_count": 48,
     "metadata": {},
     "output_type": "execute_result"
    },
    {
     "data": {
      "text/plain": [
       "21676"
      ]
     },
     "execution_count": 48,
     "metadata": {},
     "output_type": "execute_result"
    }
   ],
   "source": [
    "dft.contract_type.value_counts()\n",
    "len(dft[dft.contract_type.isna()])"
   ]
  },
  {
   "cell_type": "code",
   "execution_count": 49,
   "metadata": {},
   "outputs": [
    {
     "data": {
      "text/html": [
       "<div>\n",
       "<style scoped>\n",
       "    .dataframe tbody tr th:only-of-type {\n",
       "        vertical-align: middle;\n",
       "    }\n",
       "\n",
       "    .dataframe tbody tr th {\n",
       "        vertical-align: top;\n",
       "    }\n",
       "\n",
       "    .dataframe thead th {\n",
       "        text-align: right;\n",
       "    }\n",
       "</style>\n",
       "<table border=\"1\" class=\"dataframe\">\n",
       "  <thead>\n",
       "    <tr style=\"text-align: right;\">\n",
       "      <th></th>\n",
       "      <th>id</th>\n",
       "      <th>contract_type</th>\n",
       "      <th>contract_time</th>\n",
       "      <th>category</th>\n",
       "      <th>salary</th>\n",
       "      <th>open_date</th>\n",
       "      <th>close_date</th>\n",
       "      <th>source</th>\n",
       "      <th>TitleNormalized</th>\n",
       "      <th>location_similar</th>\n",
       "      <th>company_similar</th>\n",
       "    </tr>\n",
       "  </thead>\n",
       "  <tbody>\n",
       "    <tr>\n",
       "      <th>0</th>\n",
       "      <td>12612628</td>\n",
       "      <td>NaN</td>\n",
       "      <td>permanent</td>\n",
       "      <td>Engineering Jobs</td>\n",
       "      <td>25000</td>\n",
       "      <td>20130708T120000</td>\n",
       "      <td>20130906T120000</td>\n",
       "      <td>cv-library.co.uk</td>\n",
       "      <td>ENGINEERING SYSTEMS ANALYST</td>\n",
       "      <td>DORKING</td>\n",
       "      <td>GREGORY MARTIN INTERNATIONAL</td>\n",
       "    </tr>\n",
       "  </tbody>\n",
       "</table>\n",
       "</div>"
      ],
      "text/plain": [
       "         id contract_type contract_time          category salary  \\\n",
       "0  12612628           NaN     permanent  Engineering Jobs  25000   \n",
       "\n",
       "         open_date       close_date            source  \\\n",
       "0  20130708T120000  20130906T120000  cv-library.co.uk   \n",
       "\n",
       "               TitleNormalized location_similar               company_similar  \n",
       "0  ENGINEERING SYSTEMS ANALYST          DORKING  GREGORY MARTIN INTERNATIONAL  "
      ]
     },
     "execution_count": 49,
     "metadata": {},
     "output_type": "execute_result"
    }
   ],
   "source": [
    "# It appears that N/A values are also being considered as NaN\n",
    "dft[dft.id == 12612628]"
   ]
  },
  {
   "cell_type": "code",
   "execution_count": 50,
   "metadata": {},
   "outputs": [
    {
     "name": "stdout",
     "output_type": "stream",
     "text": [
      "number of missing contract types: 21676\n",
      "Percentage of missing contract types: 39 %\n"
     ]
    }
   ],
   "source": [
    "no_missing_ctp = dft.contract_type.isnull().sum()\n",
    "perc = round(no_missing_ctp/len(dft), 2)\n",
    "print (\"number of missing contract types:\", no_missing_ctp)\n",
    "print (\"Percentage of missing contract types:\", int(perc*100), '%')"
   ]
  },
  {
   "cell_type": "code",
   "execution_count": 51,
   "metadata": {},
   "outputs": [
    {
     "data": {
      "text/plain": [
       "             14902\n",
       "full_time    12303\n",
       "-             4720\n",
       "part_time     1568\n",
       "Name: contract_type, dtype: int64"
      ]
     },
     "execution_count": 51,
     "metadata": {},
     "output_type": "execute_result"
    }
   ],
   "source": [
    "dft.contract_type.value_counts()"
   ]
  },
  {
   "cell_type": "code",
   "execution_count": 52,
   "metadata": {},
   "outputs": [],
   "source": [
    "# The only safe change we can do is to replace ' ', and '-' to be considered as null as well.\n",
    "dft['Normalized_Contract_Type'] = dft['contract_type']\n",
    "dft['Normalized_Contract_Type'].replace({' ':np.NaN},inplace=True)\n",
    "dft['Normalized_Contract_Type'].replace({'-':np.NaN},inplace=True)"
   ]
  },
  {
   "cell_type": "code",
   "execution_count": 53,
   "metadata": {},
   "outputs": [
    {
     "data": {
      "text/plain": [
       "full_time    12303\n",
       "part_time     1568\n",
       "Name: Normalized_Contract_Type, dtype: int64"
      ]
     },
     "execution_count": 53,
     "metadata": {},
     "output_type": "execute_result"
    },
    {
     "name": "stdout",
     "output_type": "stream",
     "text": [
      "Missing contract types 21676\n"
     ]
    }
   ],
   "source": [
    "dft.Normalized_Contract_Type.value_counts()\n",
    "print(\"Missing contract types\", dft.contract_type.isnull().sum())"
   ]
  },
  {
   "cell_type": "code",
   "execution_count": 54,
   "metadata": {},
   "outputs": [
    {
     "name": "stdout",
     "output_type": "stream",
     "text": [
      "number of missing contract types: 0\n",
      "Percentage of missing contract types: 0 %\n"
     ]
    }
   ],
   "source": [
    "dft['Normalized_Contract_Type'] = dft.Normalized_Contract_Type.fillna('non-specified')\n",
    "no_missing_ctp = dft.Normalized_Contract_Type.isnull().sum()\n",
    "perc = round(no_missing_ctp/len(dft), 2)\n",
    "print (\"number of missing contract types:\", no_missing_ctp)\n",
    "print (\"Percentage of missing contract types:\", int(perc*100), '%')"
   ]
  },
  {
   "cell_type": "code",
   "execution_count": 55,
   "metadata": {},
   "outputs": [
    {
     "data": {
      "text/plain": [
       "non-specified    41298\n",
       "full_time        12303\n",
       "part_time         1568\n",
       "Name: Normalized_Contract_Type, dtype: int64"
      ]
     },
     "execution_count": 55,
     "metadata": {},
     "output_type": "execute_result"
    }
   ],
   "source": [
    "dft.Normalized_Contract_Type.value_counts()"
   ]
  },
  {
   "cell_type": "markdown",
   "metadata": {},
   "source": [
    "##### Validation Summary:\n",
    "- check for null values\n",
    "- Normalize values\n",
    "- Replace null and dashes"
   ]
  },
  {
   "cell_type": "markdown",
   "metadata": {},
   "source": [
    "### Audit Contract Time"
   ]
  },
  {
   "cell_type": "code",
   "execution_count": 56,
   "metadata": {},
   "outputs": [
    {
     "name": "stdout",
     "output_type": "stream",
     "text": [
      "number of missing contract time: 8122\n",
      "Percentage of missing contract time: 15 %\n"
     ]
    }
   ],
   "source": [
    "no_missing_ctm = dft.contract_time.isnull().sum()\n",
    "perc = round(no_missing_ctm/len(dft), 2)\n",
    "print (\"number of missing contract time:\", no_missing_ctm)\n",
    "print (\"Percentage of missing contract time:\", int(perc*100), '%')"
   ]
  },
  {
   "cell_type": "code",
   "execution_count": 57,
   "metadata": {},
   "outputs": [
    {
     "data": {
      "text/plain": [
       "permanent    33637\n",
       "-             6249\n",
       "contract      6089\n",
       "              1072\n",
       "Name: contract_time, dtype: int64"
      ]
     },
     "execution_count": 57,
     "metadata": {},
     "output_type": "execute_result"
    }
   ],
   "source": [
    "dft.contract_time.value_counts()"
   ]
  },
  {
   "cell_type": "code",
   "execution_count": 58,
   "metadata": {},
   "outputs": [
    {
     "data": {
      "text/plain": [
       "permanent    33637\n",
       "contract      6089\n",
       "Name: Normalized_Contract_Time, dtype: int64"
      ]
     },
     "execution_count": 58,
     "metadata": {},
     "output_type": "execute_result"
    },
    {
     "name": "stdout",
     "output_type": "stream",
     "text": [
      "Missing contract types 8122\n"
     ]
    }
   ],
   "source": [
    "# The only safe change we can do is to replace ' ', and '-' to be considered as null as well.\n",
    "dft['Normalized_Contract_Time'] = dft['contract_time']\n",
    "dft['Normalized_Contract_Time'].replace({' ':np.NaN},inplace=True)\n",
    "dft['Normalized_Contract_Time'].replace({'-':np.NaN},inplace=True)\n",
    "dft.Normalized_Contract_Time.value_counts()\n",
    "print(\"Missing contract types\", dft.contract_time.isnull().sum())"
   ]
  },
  {
   "cell_type": "code",
   "execution_count": 59,
   "metadata": {},
   "outputs": [
    {
     "name": "stdout",
     "output_type": "stream",
     "text": [
      "number of missing contract time: 0\n",
      "Percentage of missing contract time: 0 %\n"
     ]
    }
   ],
   "source": [
    "dft['Normalized_Contract_Time'] = dft.Normalized_Contract_Time.fillna('non-specified')\n",
    "no_missing_ctm = dft.Normalized_Contract_Time.isnull().sum()\n",
    "perc = round(no_missing_ctm/len(dft), 2)\n",
    "print (\"number of missing contract time:\", no_missing_ctm)\n",
    "print (\"Percentage of missing contract time:\", int(perc*100), '%')"
   ]
  },
  {
   "cell_type": "markdown",
   "metadata": {},
   "source": [
    "##### Validation summary:\n",
    "- Check for null values\n",
    "- Replace null and the likes"
   ]
  },
  {
   "cell_type": "markdown",
   "metadata": {},
   "source": [
    "#### Examine correlation between Contract Type and Contract Time using Chi Square"
   ]
  },
  {
   "cell_type": "code",
   "execution_count": 60,
   "metadata": {},
   "outputs": [
    {
     "name": "stdout",
     "output_type": "stream",
     "text": [
      "Contact Type\n",
      "col_0          count\n",
      "contract_type       \n",
      "               14902\n",
      "-               4720\n",
      "full_time      12303\n",
      "part_time       1568\n",
      " \n",
      "Contact Time\n",
      "col_0          count\n",
      "contract_time       \n",
      "                1072\n",
      "-               6249\n",
      "contract        6089\n",
      "permanent      33637\n",
      "461876845.67839277\n",
      "0.0\n"
     ]
    }
   ],
   "source": [
    "ctp = dft.contract_type\n",
    "ctm = dft.contract_time\n",
    "ctp = pd.DataFrame(ctp)\n",
    "ctm = pd.DataFrame(ctm)\n",
    "\n",
    "contract_type_table = pd.crosstab(index=ctp['contract_type'], columns=\"count\")\n",
    "contract_time_table = pd.crosstab(index=ctm['contract_time'], columns=\"count\")\n",
    "\n",
    "print( \"Contact Type\")\n",
    "print(contract_type_table)\n",
    "print(\" \")\n",
    "print( \"Contact Time\")\n",
    "print(contract_time_table)\n",
    "\n",
    "observed = contract_type_table\n",
    "ctp_ratios = contract_type_table/len(contract_type_table)  # Get population ratios\n",
    "expected = ctp_ratios * len(ctm)   # Get expected counts\n",
    "chi_squared_stat = (((observed-expected)**2)/expected).sum().sum()\n",
    "print(chi_squared_stat)\n",
    "p_value = 1 - stats.chi2.cdf(x=chi_squared_stat, df=3)\n",
    "print(p_value)"
   ]
  },
  {
   "cell_type": "code",
   "execution_count": 61,
   "metadata": {},
   "outputs": [
    {
     "name": "stdout",
     "output_type": "stream",
     "text": [
      "Normalized_Contract_Type\n",
      "col_0                     count\n",
      "Normalized_Contract_Type       \n",
      "full_time                 12303\n",
      "non-specified             41298\n",
      "part_time                  1568\n",
      " \n",
      "Normalized_Contract_Time\n",
      "col_0                     count\n",
      "Normalized_Contract_Time       \n",
      "contract                   6089\n",
      "non-specified             15443\n",
      "permanent                 33637\n",
      "1014429185.3333333\n",
      "0.0\n"
     ]
    }
   ],
   "source": [
    "ctp = dft.Normalized_Contract_Type\n",
    "ctm = dft.Normalized_Contract_Time\n",
    "ctp = pd.DataFrame(ctp)\n",
    "ctm = pd.DataFrame(ctm)\n",
    "\n",
    "contract_type_table = pd.crosstab(index=ctp['Normalized_Contract_Type'], columns=\"count\")\n",
    "contract_time_table = pd.crosstab(index=ctm['Normalized_Contract_Time'], columns=\"count\")\n",
    "\n",
    "print( \"Normalized_Contract_Type\")\n",
    "print(contract_type_table)\n",
    "print(\" \")\n",
    "print( \"Normalized_Contract_Time\")\n",
    "print(contract_time_table)\n",
    "\n",
    "observed = contract_type_table\n",
    "ctp_ratios = contract_type_table/len(contract_type_table)  # Get population ratios\n",
    "expected = ctp_ratios * len(ctm)   # Get expected counts\n",
    "chi_squared_stat = (((observed-expected)**2)/expected).sum().sum()\n",
    "print(chi_squared_stat)\n",
    "p_value = 1 - stats.chi2.cdf(x=chi_squared_stat, df=3)\n",
    "print(p_value)"
   ]
  },
  {
   "cell_type": "code",
   "execution_count": 62,
   "metadata": {},
   "outputs": [],
   "source": [
    "# The Chi square measure before and after replacements did nothing to prove that there was any correlation between the two.\n",
    "# We can now remove the old columns\n",
    "# we don't need old company columns and the old title any more.\n",
    "dft = dft.drop(['contract_type'], axis=1)\n",
    "dft = dft.drop(['contract_time'], axis=1)"
   ]
  },
  {
   "cell_type": "markdown",
   "metadata": {},
   "source": [
    "### Audit Category"
   ]
  },
  {
   "cell_type": "code",
   "execution_count": 63,
   "metadata": {},
   "outputs": [
    {
     "name": "stdout",
     "output_type": "stream",
     "text": [
      "number of missing contract time: 0\n",
      "Percentage of missing contract time: 0 %\n"
     ]
    }
   ],
   "source": [
    "no_missing_ctm = dft.category.isnull().sum()\n",
    "perc = round(no_missing_ctm/len(dft), 2)\n",
    "print (\"number of missing contract time:\", no_missing_ctm)\n",
    "print (\"Percentage of missing contract time:\", int(perc*100), '%')"
   ]
  },
  {
   "cell_type": "code",
   "execution_count": 64,
   "metadata": {},
   "outputs": [
    {
     "data": {
      "text/plain": [
       "IT Jobs                             14344\n",
       "Healthcare & Nursing Jobs            8809\n",
       "Engineering Jobs                     8210\n",
       "Accounting & Finance Jobs            7138\n",
       "Sales Jobs                           5349\n",
       "Hospitality & Catering Jobs          4788\n",
       "Teaching Jobs                        3779\n",
       "PR, Advertising & Marketing Jobs     2752\n",
       "Name: category, dtype: int64"
      ]
     },
     "execution_count": 64,
     "metadata": {},
     "output_type": "execute_result"
    }
   ],
   "source": [
    "dft['category'].value_counts()"
   ]
  },
  {
   "cell_type": "markdown",
   "metadata": {},
   "source": [
    "### Audit Open Date"
   ]
  },
  {
   "cell_type": "code",
   "execution_count": 65,
   "metadata": {},
   "outputs": [
    {
     "name": "stdout",
     "output_type": "stream",
     "text": [
      "number of missing open dates: 0\n"
     ]
    }
   ],
   "source": [
    "print (\"number of missing open dates:\", dft.open_date.isnull().sum())"
   ]
  },
  {
   "cell_type": "code",
   "execution_count": 66,
   "metadata": {},
   "outputs": [],
   "source": [
    "def checkOpenDate(row):\n",
    "    the_id = row.id\n",
    "    try:\n",
    "       dtime = datetime.datetime.strptime(row.open_date,'%Y%m%dT%H%M%S')\n",
    "       return 0\n",
    "    except:\n",
    "       print(\"Invalid date:\", row.open_date)\n",
    "       return the_id    "
   ]
  },
  {
   "cell_type": "code",
   "execution_count": 67,
   "metadata": {},
   "outputs": [
    {
     "name": "stdout",
     "output_type": "stream",
     "text": [
      "Invalid date: 20122302T120000\n"
     ]
    }
   ],
   "source": [
    "dft['invalid_date_format'] = dft.apply(checkOpenDate, axis=1)"
   ]
  },
  {
   "cell_type": "code",
   "execution_count": 68,
   "metadata": {},
   "outputs": [
    {
     "data": {
      "text/html": [
       "<div>\n",
       "<style scoped>\n",
       "    .dataframe tbody tr th:only-of-type {\n",
       "        vertical-align: middle;\n",
       "    }\n",
       "\n",
       "    .dataframe tbody tr th {\n",
       "        vertical-align: top;\n",
       "    }\n",
       "\n",
       "    .dataframe thead th {\n",
       "        text-align: right;\n",
       "    }\n",
       "</style>\n",
       "<table border=\"1\" class=\"dataframe\">\n",
       "  <thead>\n",
       "    <tr style=\"text-align: right;\">\n",
       "      <th></th>\n",
       "      <th>id</th>\n",
       "      <th>category</th>\n",
       "      <th>salary</th>\n",
       "      <th>open_date</th>\n",
       "      <th>close_date</th>\n",
       "      <th>source</th>\n",
       "      <th>TitleNormalized</th>\n",
       "      <th>location_similar</th>\n",
       "      <th>company_similar</th>\n",
       "      <th>Normalized_Contract_Type</th>\n",
       "      <th>Normalized_Contract_Time</th>\n",
       "      <th>invalid_date_format</th>\n",
       "    </tr>\n",
       "  </thead>\n",
       "  <tbody>\n",
       "    <tr>\n",
       "      <th>51062</th>\n",
       "      <td>72245549</td>\n",
       "      <td>Accounting &amp; Finance Jobs</td>\n",
       "      <td>45000</td>\n",
       "      <td>20122302T120000</td>\n",
       "      <td>20120324T120000</td>\n",
       "      <td>totaljobs.com</td>\n",
       "      <td>COMPLIANCE TECHNICAL PROJECT CONSULTANT</td>\n",
       "      <td>SOUTH EAST LONDON</td>\n",
       "      <td>MICHAEL PAGE FINANCIAL SERVICES</td>\n",
       "      <td>non-specified</td>\n",
       "      <td>permanent</td>\n",
       "      <td>72245549</td>\n",
       "    </tr>\n",
       "  </tbody>\n",
       "</table>\n",
       "</div>"
      ],
      "text/plain": [
       "             id                   category salary        open_date  \\\n",
       "51062  72245549  Accounting & Finance Jobs  45000  20122302T120000   \n",
       "\n",
       "            close_date         source  \\\n",
       "51062  20120324T120000  totaljobs.com   \n",
       "\n",
       "                               TitleNormalized   location_similar  \\\n",
       "51062  COMPLIANCE TECHNICAL PROJECT CONSULTANT  SOUTH EAST LONDON   \n",
       "\n",
       "                       company_similar Normalized_Contract_Type  \\\n",
       "51062  MICHAEL PAGE FINANCIAL SERVICES            non-specified   \n",
       "\n",
       "      Normalized_Contract_Time  invalid_date_format  \n",
       "51062                permanent             72245549  "
      ]
     },
     "execution_count": 68,
     "metadata": {},
     "output_type": "execute_result"
    }
   ],
   "source": [
    "dft[dft.invalid_date_format != 0 ]"
   ]
  },
  {
   "cell_type": "code",
   "execution_count": 69,
   "metadata": {},
   "outputs": [],
   "source": [
    "# Correct this invalid case by swapping the day and teh month.\n",
    "dft.open_date.replace({'20122302T120000':'20120223T120000'},inplace=True)"
   ]
  },
  {
   "cell_type": "code",
   "execution_count": 70,
   "metadata": {},
   "outputs": [],
   "source": [
    "# By doing so, we will know if there is any date column that is not correct\n",
    "dft['fromTime'] = dft.open_date.apply(lambda x: datetime.datetime.strptime(x,'%Y%m%dT%H%M%S'))"
   ]
  },
  {
   "cell_type": "code",
   "execution_count": 71,
   "metadata": {},
   "outputs": [
    {
     "name": "stdout",
     "output_type": "stream",
     "text": [
      "2012-01-01 00:00:00\n",
      "2013-12-31 15:00:00\n"
     ]
    }
   ],
   "source": [
    "# Ensure dates ranges are correct,\n",
    "print(dft['fromTime'].min())\n",
    "print(dft['fromTime'].max())"
   ]
  },
  {
   "cell_type": "code",
   "execution_count": 72,
   "metadata": {},
   "outputs": [],
   "source": [
    "del dft['invalid_date_format']"
   ]
  },
  {
   "cell_type": "markdown",
   "metadata": {},
   "source": [
    "### Audit Close Date"
   ]
  },
  {
   "cell_type": "code",
   "execution_count": 73,
   "metadata": {},
   "outputs": [
    {
     "name": "stdout",
     "output_type": "stream",
     "text": [
      "number of missing close dates: 0\n"
     ]
    }
   ],
   "source": [
    "print (\"number of missing close dates:\", dft.close_date.isnull().sum())"
   ]
  },
  {
   "cell_type": "code",
   "execution_count": 74,
   "metadata": {},
   "outputs": [],
   "source": [
    "def checkCloseDate(row):\n",
    "    the_id = row.id\n",
    "    try:\n",
    "       dtime = datetime.datetime.strptime(row.close_date,'%Y%m%dT%H%M%S')\n",
    "       return 0\n",
    "    except:\n",
    "       print(\"Invalid Close date:\", row.open_date)\n",
    "       return the_id   "
   ]
  },
  {
   "cell_type": "code",
   "execution_count": 75,
   "metadata": {},
   "outputs": [],
   "source": [
    "dft['invalid_close_date_format'] = dft.apply(checkCloseDate, axis=1)"
   ]
  },
  {
   "cell_type": "code",
   "execution_count": 76,
   "metadata": {},
   "outputs": [
    {
     "data": {
      "text/html": [
       "<div>\n",
       "<style scoped>\n",
       "    .dataframe tbody tr th:only-of-type {\n",
       "        vertical-align: middle;\n",
       "    }\n",
       "\n",
       "    .dataframe tbody tr th {\n",
       "        vertical-align: top;\n",
       "    }\n",
       "\n",
       "    .dataframe thead th {\n",
       "        text-align: right;\n",
       "    }\n",
       "</style>\n",
       "<table border=\"1\" class=\"dataframe\">\n",
       "  <thead>\n",
       "    <tr style=\"text-align: right;\">\n",
       "      <th></th>\n",
       "      <th>id</th>\n",
       "      <th>category</th>\n",
       "      <th>salary</th>\n",
       "      <th>open_date</th>\n",
       "      <th>close_date</th>\n",
       "      <th>source</th>\n",
       "      <th>TitleNormalized</th>\n",
       "      <th>location_similar</th>\n",
       "      <th>company_similar</th>\n",
       "      <th>Normalized_Contract_Type</th>\n",
       "      <th>Normalized_Contract_Time</th>\n",
       "      <th>fromTime</th>\n",
       "      <th>invalid_close_date_format</th>\n",
       "    </tr>\n",
       "  </thead>\n",
       "  <tbody>\n",
       "  </tbody>\n",
       "</table>\n",
       "</div>"
      ],
      "text/plain": [
       "Empty DataFrame\n",
       "Columns: [id, category, salary, open_date, close_date, source, TitleNormalized, location_similar, company_similar, Normalized_Contract_Type, Normalized_Contract_Time, fromTime, invalid_close_date_format]\n",
       "Index: []"
      ]
     },
     "execution_count": 76,
     "metadata": {},
     "output_type": "execute_result"
    }
   ],
   "source": [
    "dft[dft.invalid_close_date_format != 0 ]"
   ]
  },
  {
   "cell_type": "code",
   "execution_count": 77,
   "metadata": {},
   "outputs": [],
   "source": [
    "# Check date accurancy\n",
    "dft['toTime'] = dft.close_date.apply(lambda x: datetime.datetime.strptime(x,'%Y%m%dT%H%M%S'))"
   ]
  },
  {
   "cell_type": "code",
   "execution_count": 78,
   "metadata": {},
   "outputs": [
    {
     "name": "stdout",
     "output_type": "stream",
     "text": [
      "2012-01-15 00:00:00\n",
      "2014-03-31 15:00:00\n"
     ]
    }
   ],
   "source": [
    "print(dft['toTime'].min())\n",
    "print(dft['toTime'].max())"
   ]
  },
  {
   "cell_type": "code",
   "execution_count": 79,
   "metadata": {},
   "outputs": [
    {
     "data": {
      "text/html": [
       "<div>\n",
       "<style scoped>\n",
       "    .dataframe tbody tr th:only-of-type {\n",
       "        vertical-align: middle;\n",
       "    }\n",
       "\n",
       "    .dataframe tbody tr th {\n",
       "        vertical-align: top;\n",
       "    }\n",
       "\n",
       "    .dataframe thead th {\n",
       "        text-align: right;\n",
       "    }\n",
       "</style>\n",
       "<table border=\"1\" class=\"dataframe\">\n",
       "  <thead>\n",
       "    <tr style=\"text-align: right;\">\n",
       "      <th></th>\n",
       "      <th>id</th>\n",
       "      <th>category</th>\n",
       "      <th>salary</th>\n",
       "      <th>open_date</th>\n",
       "      <th>close_date</th>\n",
       "      <th>source</th>\n",
       "      <th>TitleNormalized</th>\n",
       "      <th>location_similar</th>\n",
       "      <th>company_similar</th>\n",
       "      <th>Normalized_Contract_Type</th>\n",
       "      <th>Normalized_Contract_Time</th>\n",
       "      <th>fromTime</th>\n",
       "      <th>invalid_close_date_format</th>\n",
       "      <th>toTime</th>\n",
       "      <th>invalid_date</th>\n",
       "    </tr>\n",
       "  </thead>\n",
       "  <tbody>\n",
       "    <tr>\n",
       "      <th>4383</th>\n",
       "      <td>66190544</td>\n",
       "      <td>Healthcare &amp; Nursing Jobs</td>\n",
       "      <td>21000</td>\n",
       "      <td>20120226T150000</td>\n",
       "      <td>20120212T150000</td>\n",
       "      <td>careworx.co.uk</td>\n",
       "      <td>NEWLYQUALIFIED NIGHT NURSE RGN / RMN</td>\n",
       "      <td>MANSFIELD</td>\n",
       "      <td>non-specified</td>\n",
       "      <td>non-specified</td>\n",
       "      <td>non-specified</td>\n",
       "      <td>2012-02-26 15:00:00</td>\n",
       "      <td>0</td>\n",
       "      <td>2012-02-12 15:00:00</td>\n",
       "      <td>Y</td>\n",
       "    </tr>\n",
       "    <tr>\n",
       "      <th>7469</th>\n",
       "      <td>67101212</td>\n",
       "      <td>Accounting &amp; Finance Jobs</td>\n",
       "      <td>47500</td>\n",
       "      <td>20131123T000000</td>\n",
       "      <td>20131024T000000</td>\n",
       "      <td>GAAPweb</td>\n",
       "      <td>TEMPORARY ASSISTANT FINANCIAL ACCOUNTANT</td>\n",
       "      <td>CHESHIRE</td>\n",
       "      <td>AXON RESOURCING LIMITED</td>\n",
       "      <td>full_time</td>\n",
       "      <td>contract</td>\n",
       "      <td>2013-11-23 00:00:00</td>\n",
       "      <td>0</td>\n",
       "      <td>2013-10-24 00:00:00</td>\n",
       "      <td>Y</td>\n",
       "    </tr>\n",
       "    <tr>\n",
       "      <th>9321</th>\n",
       "      <td>67749488</td>\n",
       "      <td>Healthcare &amp; Nursing Jobs</td>\n",
       "      <td>37000</td>\n",
       "      <td>20121004T150000</td>\n",
       "      <td>20120904T150000</td>\n",
       "      <td>staffnurse.com</td>\n",
       "      <td>CLINICAL ADVISOR BRISTOL</td>\n",
       "      <td>BRISTOL</td>\n",
       "      <td>HAYS HEALTHCARE</td>\n",
       "      <td>full_time</td>\n",
       "      <td>non-specified</td>\n",
       "      <td>2012-10-04 15:00:00</td>\n",
       "      <td>0</td>\n",
       "      <td>2012-09-04 15:00:00</td>\n",
       "      <td>Y</td>\n",
       "    </tr>\n",
       "    <tr>\n",
       "      <th>22772</th>\n",
       "      <td>68844147</td>\n",
       "      <td>Accounting &amp; Finance Jobs</td>\n",
       "      <td>35000</td>\n",
       "      <td>20120912T120000</td>\n",
       "      <td>20120614T120000</td>\n",
       "      <td>londonjobs.co.uk</td>\n",
       "      <td>SOFT COMMODITIES RELATIONSHIP MANAGER</td>\n",
       "      <td>THE CITY</td>\n",
       "      <td>TAYLOR JAMES RESOURCING LIMITED</td>\n",
       "      <td>non-specified</td>\n",
       "      <td>permanent</td>\n",
       "      <td>2012-09-12 12:00:00</td>\n",
       "      <td>0</td>\n",
       "      <td>2012-06-14 12:00:00</td>\n",
       "      <td>Y</td>\n",
       "    </tr>\n",
       "    <tr>\n",
       "      <th>24870</th>\n",
       "      <td>69038983</td>\n",
       "      <td>IT Jobs</td>\n",
       "      <td>47500</td>\n",
       "      <td>20120801T120000</td>\n",
       "      <td>20120702T120000</td>\n",
       "      <td>cwjobs.co.uk</td>\n",
       "      <td>SHAREPOINT CONSULTANT WEST MIDLANDS MICROSOFT ...</td>\n",
       "      <td>WEST MIDLANDS</td>\n",
       "      <td>MORTIMER BELL INTERNATIONAL</td>\n",
       "      <td>non-specified</td>\n",
       "      <td>permanent</td>\n",
       "      <td>2012-08-01 12:00:00</td>\n",
       "      <td>0</td>\n",
       "      <td>2012-07-02 12:00:00</td>\n",
       "      <td>Y</td>\n",
       "    </tr>\n",
       "  </tbody>\n",
       "</table>\n",
       "</div>"
      ],
      "text/plain": [
       "             id                   category salary        open_date  \\\n",
       "4383   66190544  Healthcare & Nursing Jobs  21000  20120226T150000   \n",
       "7469   67101212  Accounting & Finance Jobs  47500  20131123T000000   \n",
       "9321   67749488  Healthcare & Nursing Jobs  37000  20121004T150000   \n",
       "22772  68844147  Accounting & Finance Jobs  35000  20120912T120000   \n",
       "24870  69038983                    IT Jobs  47500  20120801T120000   \n",
       "\n",
       "            close_date            source  \\\n",
       "4383   20120212T150000    careworx.co.uk   \n",
       "7469   20131024T000000           GAAPweb   \n",
       "9321   20120904T150000    staffnurse.com   \n",
       "22772  20120614T120000  londonjobs.co.uk   \n",
       "24870  20120702T120000      cwjobs.co.uk   \n",
       "\n",
       "                                         TitleNormalized location_similar  \\\n",
       "4383                NEWLYQUALIFIED NIGHT NURSE RGN / RMN        MANSFIELD   \n",
       "7469            TEMPORARY ASSISTANT FINANCIAL ACCOUNTANT         CHESHIRE   \n",
       "9321                            CLINICAL ADVISOR BRISTOL          BRISTOL   \n",
       "22772              SOFT COMMODITIES RELATIONSHIP MANAGER         THE CITY   \n",
       "24870  SHAREPOINT CONSULTANT WEST MIDLANDS MICROSOFT ...    WEST MIDLANDS   \n",
       "\n",
       "                       company_similar Normalized_Contract_Type  \\\n",
       "4383                     non-specified            non-specified   \n",
       "7469           AXON RESOURCING LIMITED                full_time   \n",
       "9321                   HAYS HEALTHCARE                full_time   \n",
       "22772  TAYLOR JAMES RESOURCING LIMITED            non-specified   \n",
       "24870      MORTIMER BELL INTERNATIONAL            non-specified   \n",
       "\n",
       "      Normalized_Contract_Time            fromTime  invalid_close_date_format  \\\n",
       "4383             non-specified 2012-02-26 15:00:00                          0   \n",
       "7469                  contract 2013-11-23 00:00:00                          0   \n",
       "9321             non-specified 2012-10-04 15:00:00                          0   \n",
       "22772                permanent 2012-09-12 12:00:00                          0   \n",
       "24870                permanent 2012-08-01 12:00:00                          0   \n",
       "\n",
       "                   toTime invalid_date  \n",
       "4383  2012-02-12 15:00:00            Y  \n",
       "7469  2013-10-24 00:00:00            Y  \n",
       "9321  2012-09-04 15:00:00            Y  \n",
       "22772 2012-06-14 12:00:00            Y  \n",
       "24870 2012-07-02 12:00:00            Y  "
      ]
     },
     "execution_count": 79,
     "metadata": {},
     "output_type": "execute_result"
    }
   ],
   "source": [
    "# Identify cases where open date is not less than close date and if so flag them\n",
    "dft['invalid_date'] = dft.apply(compareDates, axis=1)\n",
    "dft[dft.invalid_date == 'Y']"
   ]
  },
  {
   "cell_type": "code",
   "execution_count": 80,
   "metadata": {},
   "outputs": [
    {
     "data": {
      "text/html": [
       "<div>\n",
       "<style scoped>\n",
       "    .dataframe tbody tr th:only-of-type {\n",
       "        vertical-align: middle;\n",
       "    }\n",
       "\n",
       "    .dataframe tbody tr th {\n",
       "        vertical-align: top;\n",
       "    }\n",
       "\n",
       "    .dataframe thead th {\n",
       "        text-align: right;\n",
       "    }\n",
       "</style>\n",
       "<table border=\"1\" class=\"dataframe\">\n",
       "  <thead>\n",
       "    <tr style=\"text-align: right;\">\n",
       "      <th></th>\n",
       "      <th>id</th>\n",
       "      <th>category</th>\n",
       "      <th>salary</th>\n",
       "      <th>open_date</th>\n",
       "      <th>close_date</th>\n",
       "      <th>source</th>\n",
       "      <th>TitleNormalized</th>\n",
       "      <th>location_similar</th>\n",
       "      <th>company_similar</th>\n",
       "      <th>Normalized_Contract_Type</th>\n",
       "      <th>Normalized_Contract_Time</th>\n",
       "      <th>fromTime</th>\n",
       "      <th>invalid_close_date_format</th>\n",
       "      <th>toTime</th>\n",
       "      <th>invalid_date</th>\n",
       "    </tr>\n",
       "  </thead>\n",
       "  <tbody>\n",
       "    <tr>\n",
       "      <th>4383</th>\n",
       "      <td>66190544</td>\n",
       "      <td>Healthcare &amp; Nursing Jobs</td>\n",
       "      <td>21000</td>\n",
       "      <td>20120226T150000</td>\n",
       "      <td>20120212T150000</td>\n",
       "      <td>careworx.co.uk</td>\n",
       "      <td>NEWLYQUALIFIED NIGHT NURSE RGN / RMN</td>\n",
       "      <td>MANSFIELD</td>\n",
       "      <td>non-specified</td>\n",
       "      <td>non-specified</td>\n",
       "      <td>non-specified</td>\n",
       "      <td>2012-02-26 15:00:00</td>\n",
       "      <td>0</td>\n",
       "      <td>2012-02-12 15:00:00</td>\n",
       "      <td>Y</td>\n",
       "    </tr>\n",
       "    <tr>\n",
       "      <th>7469</th>\n",
       "      <td>67101212</td>\n",
       "      <td>Accounting &amp; Finance Jobs</td>\n",
       "      <td>47500</td>\n",
       "      <td>20131123T000000</td>\n",
       "      <td>20131024T000000</td>\n",
       "      <td>GAAPweb</td>\n",
       "      <td>TEMPORARY ASSISTANT FINANCIAL ACCOUNTANT</td>\n",
       "      <td>CHESHIRE</td>\n",
       "      <td>AXON RESOURCING LIMITED</td>\n",
       "      <td>full_time</td>\n",
       "      <td>contract</td>\n",
       "      <td>2013-11-23 00:00:00</td>\n",
       "      <td>0</td>\n",
       "      <td>2013-10-24 00:00:00</td>\n",
       "      <td>Y</td>\n",
       "    </tr>\n",
       "    <tr>\n",
       "      <th>9321</th>\n",
       "      <td>67749488</td>\n",
       "      <td>Healthcare &amp; Nursing Jobs</td>\n",
       "      <td>37000</td>\n",
       "      <td>20121004T150000</td>\n",
       "      <td>20120904T150000</td>\n",
       "      <td>staffnurse.com</td>\n",
       "      <td>CLINICAL ADVISOR BRISTOL</td>\n",
       "      <td>BRISTOL</td>\n",
       "      <td>HAYS HEALTHCARE</td>\n",
       "      <td>full_time</td>\n",
       "      <td>non-specified</td>\n",
       "      <td>2012-10-04 15:00:00</td>\n",
       "      <td>0</td>\n",
       "      <td>2012-09-04 15:00:00</td>\n",
       "      <td>Y</td>\n",
       "    </tr>\n",
       "    <tr>\n",
       "      <th>22772</th>\n",
       "      <td>68844147</td>\n",
       "      <td>Accounting &amp; Finance Jobs</td>\n",
       "      <td>35000</td>\n",
       "      <td>20120912T120000</td>\n",
       "      <td>20120614T120000</td>\n",
       "      <td>londonjobs.co.uk</td>\n",
       "      <td>SOFT COMMODITIES RELATIONSHIP MANAGER</td>\n",
       "      <td>THE CITY</td>\n",
       "      <td>TAYLOR JAMES RESOURCING LIMITED</td>\n",
       "      <td>non-specified</td>\n",
       "      <td>permanent</td>\n",
       "      <td>2012-09-12 12:00:00</td>\n",
       "      <td>0</td>\n",
       "      <td>2012-06-14 12:00:00</td>\n",
       "      <td>Y</td>\n",
       "    </tr>\n",
       "    <tr>\n",
       "      <th>24870</th>\n",
       "      <td>69038983</td>\n",
       "      <td>IT Jobs</td>\n",
       "      <td>47500</td>\n",
       "      <td>20120801T120000</td>\n",
       "      <td>20120702T120000</td>\n",
       "      <td>cwjobs.co.uk</td>\n",
       "      <td>SHAREPOINT CONSULTANT WEST MIDLANDS MICROSOFT ...</td>\n",
       "      <td>WEST MIDLANDS</td>\n",
       "      <td>MORTIMER BELL INTERNATIONAL</td>\n",
       "      <td>non-specified</td>\n",
       "      <td>permanent</td>\n",
       "      <td>2012-08-01 12:00:00</td>\n",
       "      <td>0</td>\n",
       "      <td>2012-07-02 12:00:00</td>\n",
       "      <td>Y</td>\n",
       "    </tr>\n",
       "  </tbody>\n",
       "</table>\n",
       "</div>"
      ],
      "text/plain": [
       "             id                   category salary        open_date  \\\n",
       "4383   66190544  Healthcare & Nursing Jobs  21000  20120226T150000   \n",
       "7469   67101212  Accounting & Finance Jobs  47500  20131123T000000   \n",
       "9321   67749488  Healthcare & Nursing Jobs  37000  20121004T150000   \n",
       "22772  68844147  Accounting & Finance Jobs  35000  20120912T120000   \n",
       "24870  69038983                    IT Jobs  47500  20120801T120000   \n",
       "\n",
       "            close_date            source  \\\n",
       "4383   20120212T150000    careworx.co.uk   \n",
       "7469   20131024T000000           GAAPweb   \n",
       "9321   20120904T150000    staffnurse.com   \n",
       "22772  20120614T120000  londonjobs.co.uk   \n",
       "24870  20120702T120000      cwjobs.co.uk   \n",
       "\n",
       "                                         TitleNormalized location_similar  \\\n",
       "4383                NEWLYQUALIFIED NIGHT NURSE RGN / RMN        MANSFIELD   \n",
       "7469            TEMPORARY ASSISTANT FINANCIAL ACCOUNTANT         CHESHIRE   \n",
       "9321                            CLINICAL ADVISOR BRISTOL          BRISTOL   \n",
       "22772              SOFT COMMODITIES RELATIONSHIP MANAGER         THE CITY   \n",
       "24870  SHAREPOINT CONSULTANT WEST MIDLANDS MICROSOFT ...    WEST MIDLANDS   \n",
       "\n",
       "                       company_similar Normalized_Contract_Type  \\\n",
       "4383                     non-specified            non-specified   \n",
       "7469           AXON RESOURCING LIMITED                full_time   \n",
       "9321                   HAYS HEALTHCARE                full_time   \n",
       "22772  TAYLOR JAMES RESOURCING LIMITED            non-specified   \n",
       "24870      MORTIMER BELL INTERNATIONAL            non-specified   \n",
       "\n",
       "      Normalized_Contract_Time            fromTime  invalid_close_date_format  \\\n",
       "4383             non-specified 2012-02-26 15:00:00                          0   \n",
       "7469                  contract 2013-11-23 00:00:00                          0   \n",
       "9321             non-specified 2012-10-04 15:00:00                          0   \n",
       "22772                permanent 2012-09-12 12:00:00                          0   \n",
       "24870                permanent 2012-08-01 12:00:00                          0   \n",
       "\n",
       "                   toTime invalid_date  \n",
       "4383  2012-02-12 15:00:00            Y  \n",
       "7469  2013-10-24 00:00:00            Y  \n",
       "9321  2012-09-04 15:00:00            Y  \n",
       "22772 2012-06-14 12:00:00            Y  \n",
       "24870 2012-07-02 12:00:00            Y  "
      ]
     },
     "execution_count": 80,
     "metadata": {},
     "output_type": "execute_result"
    }
   ],
   "source": [
    "dft[dft.invalid_date == 'Y']"
   ]
  },
  {
   "cell_type": "code",
   "execution_count": 81,
   "metadata": {},
   "outputs": [],
   "source": [
    "# The only possible thing we can guess is that the two dates are incorrectky swapped, so we swap them back\n",
    "dft = dft.apply(lambda row: swapDates(row), axis=1)"
   ]
  },
  {
   "cell_type": "code",
   "execution_count": 82,
   "metadata": {},
   "outputs": [
    {
     "data": {
      "text/html": [
       "<div>\n",
       "<style scoped>\n",
       "    .dataframe tbody tr th:only-of-type {\n",
       "        vertical-align: middle;\n",
       "    }\n",
       "\n",
       "    .dataframe tbody tr th {\n",
       "        vertical-align: top;\n",
       "    }\n",
       "\n",
       "    .dataframe thead th {\n",
       "        text-align: right;\n",
       "    }\n",
       "</style>\n",
       "<table border=\"1\" class=\"dataframe\">\n",
       "  <thead>\n",
       "    <tr style=\"text-align: right;\">\n",
       "      <th></th>\n",
       "      <th>id</th>\n",
       "      <th>category</th>\n",
       "      <th>salary</th>\n",
       "      <th>open_date</th>\n",
       "      <th>close_date</th>\n",
       "      <th>source</th>\n",
       "      <th>TitleNormalized</th>\n",
       "      <th>location_similar</th>\n",
       "      <th>company_similar</th>\n",
       "      <th>Normalized_Contract_Type</th>\n",
       "      <th>Normalized_Contract_Time</th>\n",
       "      <th>fromTime</th>\n",
       "      <th>invalid_close_date_format</th>\n",
       "      <th>toTime</th>\n",
       "      <th>invalid_date</th>\n",
       "    </tr>\n",
       "  </thead>\n",
       "  <tbody>\n",
       "    <tr>\n",
       "      <th>4383</th>\n",
       "      <td>66190544</td>\n",
       "      <td>Healthcare &amp; Nursing Jobs</td>\n",
       "      <td>21000</td>\n",
       "      <td>20120212T150000</td>\n",
       "      <td>20120226T150000</td>\n",
       "      <td>careworx.co.uk</td>\n",
       "      <td>NEWLYQUALIFIED NIGHT NURSE RGN / RMN</td>\n",
       "      <td>MANSFIELD</td>\n",
       "      <td>non-specified</td>\n",
       "      <td>non-specified</td>\n",
       "      <td>non-specified</td>\n",
       "      <td>2012-02-26 15:00:00</td>\n",
       "      <td>0</td>\n",
       "      <td>2012-02-12 15:00:00</td>\n",
       "      <td>Y</td>\n",
       "    </tr>\n",
       "    <tr>\n",
       "      <th>7469</th>\n",
       "      <td>67101212</td>\n",
       "      <td>Accounting &amp; Finance Jobs</td>\n",
       "      <td>47500</td>\n",
       "      <td>20131024T000000</td>\n",
       "      <td>20131123T000000</td>\n",
       "      <td>GAAPweb</td>\n",
       "      <td>TEMPORARY ASSISTANT FINANCIAL ACCOUNTANT</td>\n",
       "      <td>CHESHIRE</td>\n",
       "      <td>AXON RESOURCING LIMITED</td>\n",
       "      <td>full_time</td>\n",
       "      <td>contract</td>\n",
       "      <td>2013-11-23 00:00:00</td>\n",
       "      <td>0</td>\n",
       "      <td>2013-10-24 00:00:00</td>\n",
       "      <td>Y</td>\n",
       "    </tr>\n",
       "    <tr>\n",
       "      <th>9321</th>\n",
       "      <td>67749488</td>\n",
       "      <td>Healthcare &amp; Nursing Jobs</td>\n",
       "      <td>37000</td>\n",
       "      <td>20120904T150000</td>\n",
       "      <td>20121004T150000</td>\n",
       "      <td>staffnurse.com</td>\n",
       "      <td>CLINICAL ADVISOR BRISTOL</td>\n",
       "      <td>BRISTOL</td>\n",
       "      <td>HAYS HEALTHCARE</td>\n",
       "      <td>full_time</td>\n",
       "      <td>non-specified</td>\n",
       "      <td>2012-10-04 15:00:00</td>\n",
       "      <td>0</td>\n",
       "      <td>2012-09-04 15:00:00</td>\n",
       "      <td>Y</td>\n",
       "    </tr>\n",
       "    <tr>\n",
       "      <th>22772</th>\n",
       "      <td>68844147</td>\n",
       "      <td>Accounting &amp; Finance Jobs</td>\n",
       "      <td>35000</td>\n",
       "      <td>20120614T120000</td>\n",
       "      <td>20120912T120000</td>\n",
       "      <td>londonjobs.co.uk</td>\n",
       "      <td>SOFT COMMODITIES RELATIONSHIP MANAGER</td>\n",
       "      <td>THE CITY</td>\n",
       "      <td>TAYLOR JAMES RESOURCING LIMITED</td>\n",
       "      <td>non-specified</td>\n",
       "      <td>permanent</td>\n",
       "      <td>2012-09-12 12:00:00</td>\n",
       "      <td>0</td>\n",
       "      <td>2012-06-14 12:00:00</td>\n",
       "      <td>Y</td>\n",
       "    </tr>\n",
       "    <tr>\n",
       "      <th>24870</th>\n",
       "      <td>69038983</td>\n",
       "      <td>IT Jobs</td>\n",
       "      <td>47500</td>\n",
       "      <td>20120702T120000</td>\n",
       "      <td>20120801T120000</td>\n",
       "      <td>cwjobs.co.uk</td>\n",
       "      <td>SHAREPOINT CONSULTANT WEST MIDLANDS MICROSOFT ...</td>\n",
       "      <td>WEST MIDLANDS</td>\n",
       "      <td>MORTIMER BELL INTERNATIONAL</td>\n",
       "      <td>non-specified</td>\n",
       "      <td>permanent</td>\n",
       "      <td>2012-08-01 12:00:00</td>\n",
       "      <td>0</td>\n",
       "      <td>2012-07-02 12:00:00</td>\n",
       "      <td>Y</td>\n",
       "    </tr>\n",
       "  </tbody>\n",
       "</table>\n",
       "</div>"
      ],
      "text/plain": [
       "             id                   category salary        open_date  \\\n",
       "4383   66190544  Healthcare & Nursing Jobs  21000  20120212T150000   \n",
       "7469   67101212  Accounting & Finance Jobs  47500  20131024T000000   \n",
       "9321   67749488  Healthcare & Nursing Jobs  37000  20120904T150000   \n",
       "22772  68844147  Accounting & Finance Jobs  35000  20120614T120000   \n",
       "24870  69038983                    IT Jobs  47500  20120702T120000   \n",
       "\n",
       "            close_date            source  \\\n",
       "4383   20120226T150000    careworx.co.uk   \n",
       "7469   20131123T000000           GAAPweb   \n",
       "9321   20121004T150000    staffnurse.com   \n",
       "22772  20120912T120000  londonjobs.co.uk   \n",
       "24870  20120801T120000      cwjobs.co.uk   \n",
       "\n",
       "                                         TitleNormalized location_similar  \\\n",
       "4383                NEWLYQUALIFIED NIGHT NURSE RGN / RMN        MANSFIELD   \n",
       "7469            TEMPORARY ASSISTANT FINANCIAL ACCOUNTANT         CHESHIRE   \n",
       "9321                            CLINICAL ADVISOR BRISTOL          BRISTOL   \n",
       "22772              SOFT COMMODITIES RELATIONSHIP MANAGER         THE CITY   \n",
       "24870  SHAREPOINT CONSULTANT WEST MIDLANDS MICROSOFT ...    WEST MIDLANDS   \n",
       "\n",
       "                       company_similar Normalized_Contract_Type  \\\n",
       "4383                     non-specified            non-specified   \n",
       "7469           AXON RESOURCING LIMITED                full_time   \n",
       "9321                   HAYS HEALTHCARE                full_time   \n",
       "22772  TAYLOR JAMES RESOURCING LIMITED            non-specified   \n",
       "24870      MORTIMER BELL INTERNATIONAL            non-specified   \n",
       "\n",
       "      Normalized_Contract_Time            fromTime  invalid_close_date_format  \\\n",
       "4383             non-specified 2012-02-26 15:00:00                          0   \n",
       "7469                  contract 2013-11-23 00:00:00                          0   \n",
       "9321             non-specified 2012-10-04 15:00:00                          0   \n",
       "22772                permanent 2012-09-12 12:00:00                          0   \n",
       "24870                permanent 2012-08-01 12:00:00                          0   \n",
       "\n",
       "                   toTime invalid_date  \n",
       "4383  2012-02-12 15:00:00            Y  \n",
       "7469  2013-10-24 00:00:00            Y  \n",
       "9321  2012-09-04 15:00:00            Y  \n",
       "22772 2012-06-14 12:00:00            Y  \n",
       "24870 2012-07-02 12:00:00            Y  "
      ]
     },
     "execution_count": 82,
     "metadata": {},
     "output_type": "execute_result"
    }
   ],
   "source": [
    "# Re-display dates making sure the invalida dates are corrected and then drop it.\n",
    "dft[dft.invalid_date == 'Y']"
   ]
  },
  {
   "cell_type": "code",
   "execution_count": 83,
   "metadata": {},
   "outputs": [],
   "source": [
    "del dft['fromTime']\n",
    "del dft['toTime']\n",
    "del dft['invalid_close_date_format']\n",
    "del dft['invalid_date']"
   ]
  },
  {
   "cell_type": "markdown",
   "metadata": {},
   "source": [
    "###### Validation Summary\n",
    "- Check for null\n",
    "- Check date format and accuracy\n",
    "- Check date range\n",
    "- Ensure close date is not less tahn open date and if so we swap them."
   ]
  },
  {
   "cell_type": "markdown",
   "metadata": {},
   "source": [
    "### Audit Source"
   ]
  },
  {
   "cell_type": "code",
   "execution_count": 84,
   "metadata": {},
   "outputs": [
    {
     "data": {
      "text/plain": [
       "0"
      ]
     },
     "execution_count": 84,
     "metadata": {},
     "output_type": "execute_result"
    }
   ],
   "source": [
    "dft.source.isnull().sum()"
   ]
  },
  {
   "cell_type": "code",
   "execution_count": 85,
   "metadata": {},
   "outputs": [
    {
     "name": "stdout",
     "output_type": "stream",
     "text": [
      "number of missing categories: 0\n"
     ]
    },
    {
     "data": {
      "text/plain": [
       "totaljobs.com                     10102\n",
       "cv-library.co.uk                   7841\n",
       "jobsite.co.uk                      3630\n",
       "cwjobs.co.uk                       3132\n",
       "staffnurse.com                     2778\n",
       "caterer.com                        2335\n",
       "Jobcentre Plus                     2143\n",
       "careworx.co.uk                     1966\n",
       "jobserve.com                       1718\n",
       "jobs.catererandhotelkeeper.com     1250\n",
       "jobs.guardian.co.uk                1182\n",
       "MyUkJobs                           1106\n",
       "fish4.co.uk                        1074\n",
       "theitjobboard.co.uk                 814\n",
       "rengineeringjobs.com                717\n",
       "gojobsearch.co.uk                   683\n",
       "salestarget.co.uk                   637\n",
       "planetrecruit.com                   628\n",
       "GAAPweb                             599\n",
       "ukstaffsearch.com                   499\n",
       "technojobs.co.uk                    470\n",
       "strike-jobs.co.uk                   461\n",
       "Brand Republic Jobs                 426\n",
       "justengineers.net                   419\n",
       "eFinancialCareers                   389\n",
       "hays.co.uk                          364\n",
       "britishjobsonthe.net                332\n",
       "cvbrowser.com                       328\n",
       "careerbuilder.com                   319\n",
       "emedcareers.com                     302\n",
       "                                  ...  \n",
       "mediaweekjobs.co.uk                  51\n",
       "nurseryworldjobs.co.uk               47\n",
       "randstadfp.com                       47\n",
       "emptylemon.co.uk                     37\n",
       "JobSearch                            37\n",
       "rcnbulletinjobs.co.uk                36\n",
       "ncejobs.co.uk                        36\n",
       "simplymarketingjobs.co.uk            31\n",
       "jobs.chinwag.com                     30\n",
       "eventjobsearch.co.uk                 29\n",
       "juniorbroker.com                     25\n",
       "jobs.planningresource.co.uk          25\n",
       "JustLondonJobs                       22\n",
       "frontofficebanking.com               22\n",
       "hsjjobs.com                          18\n",
       "Teaching jobs - TES Connect          16\n",
       "legalprospects.com                    9\n",
       "renewablescareers.com                 9\n",
       "jobs.perl.org                         9\n",
       "3desk.com                             8\n",
       "TotallyExec                           7\n",
       "cardandpaymentjobs.com                7\n",
       "jobsinsocialwork.co.uk                7\n",
       "wikijob.co.uk                         6\n",
       "grb.uk.com                            5\n",
       "workthing.com                         5\n",
       "scotsman.com                          4\n",
       "jobs.gponline.com                     3\n",
       "thegraduate.co.uk                     1\n",
       "cvjobstore.com                        1\n",
       "Name: source, Length: 106, dtype: int64"
      ]
     },
     "execution_count": 85,
     "metadata": {},
     "output_type": "execute_result"
    }
   ],
   "source": [
    "print (\"number of missing categories:\", dft.source.isnull().sum())\n",
    "dft['source'].value_counts()"
   ]
  },
  {
   "cell_type": "code",
   "execution_count": 86,
   "metadata": {},
   "outputs": [],
   "source": [
    "dft['NormalizedSource'] = dft.source.apply(lambda x: x.lower())"
   ]
  },
  {
   "cell_type": "code",
   "execution_count": 87,
   "metadata": {},
   "outputs": [
    {
     "data": {
      "text/plain": [
       "Jobcentre Plus                 2143\n",
       "MyUkJobs                       1106\n",
       "GAAPweb                         599\n",
       "Brand Republic Jobs             426\n",
       "eFinancialCareers               389\n",
       "PR Week Jobs                    178\n",
       "Multilingualvacancies           119\n",
       "Jobs Ac                          97\n",
       "Jobs24                           86\n",
       "ijobs                            75\n",
       "JobSearch                        37\n",
       "JustLondonJobs                   22\n",
       "Teaching jobs - TES Connect      16\n",
       "TotallyExec                       7\n",
       "Name: invalid_source, dtype: int64"
      ]
     },
     "execution_count": 87,
     "metadata": {},
     "output_type": "execute_result"
    }
   ],
   "source": [
    "# Validate domains\n",
    "dft['valid_source'] = dft.NormalizedSource.str.match('[a-z0-9]+.(com|ne|co)|[a-z0-9]+.(com|ne|co).uk|^([a-z]+.(com|co|org|net).uk)|^([a-z]+.(com|co|org|net))|^([a-z]+.[a-z]+.(com|co|net|gov).(uk|au))|^([a-z]+.[a-z]+.(co|org|com|net|it|uk))|([a-z]+.[a-z]+.[a-z]+.(com|uk|co|au))')\n",
    "dft['invalid_source'] = dft[dft.valid_source==False].source\n",
    "dft['invalid_source'].value_counts()"
   ]
  },
  {
   "cell_type": "code",
   "execution_count": 88,
   "metadata": {},
   "outputs": [
    {
     "data": {
      "text/plain": [
       "Series([], Name: invalid_source, dtype: int64)"
      ]
     },
     "execution_count": 88,
     "metadata": {},
     "output_type": "execute_result"
    }
   ],
   "source": [
    "# Apply corrections\n",
    "dft.NormalizedSource.replace({'jobcentre plus':'gov.uk','myukjobs':'myukjobs.co.uk', 'gaapweb':'gaapweb.com', 'brand republic jobs':'salaries.jobs.brandrepublic.com', 'efinancialcareers':'efinancialcareers.com.au', 'pr week jobs':'prweekjobs.co.uk', 'multilingualvacancies':'multilingualvacancies.com', 'jobs ac':'jobsac.uk', 'jobs24':'jobs24.co.uk', 'ijobs':'ijobs.it', 'jobsearch':'jobsearch.gov.au', 'justlondonjobs':'justlondonjobs.co.uk'  \n",
    ", 'totallyexec':'totallyexec.com', 'teaching jobs - tes connect':'tes.com'},inplace=True)\n",
    "\n",
    "# After applying correction, there is no more wrongly formatted domain. The invalid source is empty\n",
    "dft['valid_source'] = dft.NormalizedSource.str.match('[a-z0-9]+.(com|ne|co)|[a-z0-9]+.(com|ne|co).uk|^([a-z]+.(com|co|org|net).uk)|^([a-z]+.(com|co|org|net))|^([a-z]+.[a-z]+.(com|co|net|gov).(uk|au))|^([a-z]+.[a-z]+.(co|org|com|net|it|uk))|([a-z]+.[a-z]+.[a-z]+.(com|uk|co|au))')\n",
    "dft['invalid_source'] = dft[dft.valid_source==False].source\n",
    "dft['invalid_source'].value_counts()"
   ]
  },
  {
   "cell_type": "code",
   "execution_count": 89,
   "metadata": {},
   "outputs": [
    {
     "data": {
      "text/plain": [
       "totaljobs.com                      10102\n",
       "cv-library.co.uk                    7841\n",
       "jobsite.co.uk                       3630\n",
       "cwjobs.co.uk                        3132\n",
       "staffnurse.com                      2778\n",
       "caterer.com                         2335\n",
       "gov.uk                              2143\n",
       "careworx.co.uk                      1966\n",
       "jobserve.com                        1718\n",
       "jobs.catererandhotelkeeper.com      1250\n",
       "jobs.guardian.co.uk                 1182\n",
       "myukjobs.co.uk                      1106\n",
       "fish4.co.uk                         1074\n",
       "theitjobboard.co.uk                  814\n",
       "rengineeringjobs.com                 717\n",
       "gojobsearch.co.uk                    683\n",
       "salestarget.co.uk                    637\n",
       "planetrecruit.com                    628\n",
       "gaapweb.com                          599\n",
       "ukstaffsearch.com                    499\n",
       "technojobs.co.uk                     470\n",
       "strike-jobs.co.uk                    461\n",
       "salaries.jobs.brandrepublic.com      426\n",
       "justengineers.net                    419\n",
       "efinancialcareers.com.au             389\n",
       "hays.co.uk                           364\n",
       "britishjobsonthe.net                 332\n",
       "cvbrowser.com                        328\n",
       "careerbuilder.com                    319\n",
       "emedcareers.com                      302\n",
       "                                   ...  \n",
       "mediaweekjobs.co.uk                   51\n",
       "nurseryworldjobs.co.uk                47\n",
       "randstadfp.com                        47\n",
       "emptylemon.co.uk                      37\n",
       "jobsearch.gov.au                      37\n",
       "rcnbulletinjobs.co.uk                 36\n",
       "ncejobs.co.uk                         36\n",
       "simplymarketingjobs.co.uk             31\n",
       "jobs.chinwag.com                      30\n",
       "eventjobsearch.co.uk                  29\n",
       "juniorbroker.com                      25\n",
       "jobs.planningresource.co.uk           25\n",
       "justlondonjobs.co.uk                  22\n",
       "frontofficebanking.com                22\n",
       "hsjjobs.com                           18\n",
       "tes.com                               16\n",
       "renewablescareers.com                  9\n",
       "jobs.perl.org                          9\n",
       "legalprospects.com                     9\n",
       "3desk.com                              8\n",
       "cardandpaymentjobs.com                 7\n",
       "jobsinsocialwork.co.uk                 7\n",
       "totallyexec.com                        7\n",
       "wikijob.co.uk                          6\n",
       "workthing.com                          5\n",
       "grb.uk.com                             5\n",
       "scotsman.com                           4\n",
       "jobs.gponline.com                      3\n",
       "cvjobstore.com                         1\n",
       "thegraduate.co.uk                      1\n",
       "Name: NormalizedSource, Length: 106, dtype: int64"
      ]
     },
     "execution_count": 89,
     "metadata": {},
     "output_type": "execute_result"
    }
   ],
   "source": [
    "dft.NormalizedSource.value_counts()"
   ]
  },
  {
   "cell_type": "code",
   "execution_count": 90,
   "metadata": {},
   "outputs": [],
   "source": [
    "# we don't need old source columns and the old title any more.\n",
    "dft = dft.drop(['source'], axis=1)\n",
    "dft = dft.drop(['valid_source'], axis=1)\n",
    "dft = dft.drop(['invalid_source'], axis=1)"
   ]
  },
  {
   "cell_type": "code",
   "execution_count": 91,
   "metadata": {},
   "outputs": [
    {
     "data": {
      "text/html": [
       "<div>\n",
       "<style scoped>\n",
       "    .dataframe tbody tr th:only-of-type {\n",
       "        vertical-align: middle;\n",
       "    }\n",
       "\n",
       "    .dataframe tbody tr th {\n",
       "        vertical-align: top;\n",
       "    }\n",
       "\n",
       "    .dataframe thead th {\n",
       "        text-align: right;\n",
       "    }\n",
       "</style>\n",
       "<table border=\"1\" class=\"dataframe\">\n",
       "  <thead>\n",
       "    <tr style=\"text-align: right;\">\n",
       "      <th></th>\n",
       "      <th>id</th>\n",
       "      <th>category</th>\n",
       "      <th>salary</th>\n",
       "      <th>open_date</th>\n",
       "      <th>close_date</th>\n",
       "      <th>TitleNormalized</th>\n",
       "      <th>location_similar</th>\n",
       "      <th>company_similar</th>\n",
       "      <th>Normalized_Contract_Type</th>\n",
       "      <th>Normalized_Contract_Time</th>\n",
       "      <th>NormalizedSource</th>\n",
       "    </tr>\n",
       "  </thead>\n",
       "  <tbody>\n",
       "    <tr>\n",
       "      <th>0</th>\n",
       "      <td>12612628</td>\n",
       "      <td>Engineering Jobs</td>\n",
       "      <td>25000</td>\n",
       "      <td>20130708T120000</td>\n",
       "      <td>20130906T120000</td>\n",
       "      <td>ENGINEERING SYSTEMS ANALYST</td>\n",
       "      <td>DORKING</td>\n",
       "      <td>GREGORY MARTIN INTERNATIONAL</td>\n",
       "      <td>non-specified</td>\n",
       "      <td>permanent</td>\n",
       "      <td>cv-library.co.uk</td>\n",
       "    </tr>\n",
       "    <tr>\n",
       "      <th>1</th>\n",
       "      <td>12612830</td>\n",
       "      <td>Engineering Jobs</td>\n",
       "      <td>30000</td>\n",
       "      <td>20120130T000000</td>\n",
       "      <td>20120330T000000</td>\n",
       "      <td>STRESS ENGINEER GLASGOW</td>\n",
       "      <td>GLASGOW</td>\n",
       "      <td>GREGORY MARTIN INTERNATIONAL</td>\n",
       "      <td>non-specified</td>\n",
       "      <td>permanent</td>\n",
       "      <td>cv-library.co.uk</td>\n",
       "    </tr>\n",
       "  </tbody>\n",
       "</table>\n",
       "</div>"
      ],
      "text/plain": [
       "         id          category salary        open_date       close_date  \\\n",
       "0  12612628  Engineering Jobs  25000  20130708T120000  20130906T120000   \n",
       "1  12612830  Engineering Jobs  30000  20120130T000000  20120330T000000   \n",
       "\n",
       "               TitleNormalized location_similar               company_similar  \\\n",
       "0  ENGINEERING SYSTEMS ANALYST          DORKING  GREGORY MARTIN INTERNATIONAL   \n",
       "1      STRESS ENGINEER GLASGOW          GLASGOW  GREGORY MARTIN INTERNATIONAL   \n",
       "\n",
       "  Normalized_Contract_Type Normalized_Contract_Time  NormalizedSource  \n",
       "0            non-specified                permanent  cv-library.co.uk  \n",
       "1            non-specified                permanent  cv-library.co.uk  "
      ]
     },
     "execution_count": 91,
     "metadata": {},
     "output_type": "execute_result"
    }
   ],
   "source": [
    "dft.head(2)"
   ]
  },
  {
   "cell_type": "code",
   "execution_count": 92,
   "metadata": {},
   "outputs": [],
   "source": [
    "# Rename columns\n",
    "dft.columns = ['id', 'category', 'salary', 'open_date', 'close_date', 'title', 'location', 'company', 'contract_type', 'contract_time', \n",
    "               'source']"
   ]
  },
  {
   "cell_type": "markdown",
   "metadata": {},
   "source": [
    "###### Validation summary:\n",
    "- Check for nulls\n",
    "- Validate their format using regualr expression\n",
    "- Correct those that violate the valid domain format"
   ]
  },
  {
   "cell_type": "markdown",
   "metadata": {},
   "source": [
    "### Audit Salary"
   ]
  },
  {
   "cell_type": "code",
   "execution_count": 93,
   "metadata": {},
   "outputs": [
    {
     "data": {
      "text/plain": [
       "1585"
      ]
     },
     "execution_count": 93,
     "metadata": {},
     "output_type": "execute_result"
    },
    {
     "data": {
      "text/plain": [
       "773"
      ]
     },
     "execution_count": 93,
     "metadata": {},
     "output_type": "execute_result"
    },
    {
     "data": {
      "text/plain": [
       "0"
      ]
     },
     "execution_count": 93,
     "metadata": {},
     "output_type": "execute_result"
    },
    {
     "data": {
      "text/plain": [
       "0"
      ]
     },
     "execution_count": 93,
     "metadata": {},
     "output_type": "execute_result"
    },
    {
     "data": {
      "text/plain": [
       "0"
      ]
     },
     "execution_count": 93,
     "metadata": {},
     "output_type": "execute_result"
    },
    {
     "data": {
      "text/plain": [
       "0"
      ]
     },
     "execution_count": 93,
     "metadata": {},
     "output_type": "execute_result"
    },
    {
     "data": {
      "text/plain": [
       "0"
      ]
     },
     "execution_count": 93,
     "metadata": {},
     "output_type": "execute_result"
    }
   ],
   "source": [
    "len(dft[dft.salary.isnull()])\n",
    "len(dft[dft.salary == '0'])\n",
    "len(dft[dft.salary == ''])\n",
    "len(dft[dft.salary == 'NaN'])\n",
    "len(dft[dft.salary == 'NAN'])\n",
    "len(dft[dft.salary == 'nan'])\n",
    "len(dft[dft.salary == np.nan])"
   ]
  },
  {
   "cell_type": "code",
   "execution_count": null,
   "metadata": {},
   "outputs": [],
   "source": []
  },
  {
   "cell_type": "code",
   "execution_count": 94,
   "metadata": {},
   "outputs": [
    {
     "name": "stdout",
     "output_type": "stream",
     "text": [
      "number of missing salary values: 1585\n",
      "Percentag of missing salary values: 0.03\n"
     ]
    }
   ],
   "source": [
    "num_nulls_in_salary = dft.salary.isnull().sum()\n",
    "print (\"number of missing salary values:\", num_nulls_in_salary)\n",
    "num_rows = dft.salary.count()\n",
    "print (\"Percentag of missing salary values:\", round((num_nulls_in_salary/num_rows), 3))"
   ]
  },
  {
   "cell_type": "code",
   "execution_count": 95,
   "metadata": {},
   "outputs": [
    {
     "data": {
      "text/plain": [
       "17                     -\n",
       "21                     -\n",
       "53                     -\n",
       "71                     -\n",
       "100                    -\n",
       "418           30250/YEAR\n",
       "456      31500 PER ANNUM\n",
       "614        30500 - 35500\n",
       "650           26500/YEAR\n",
       "713           33000/YEAR\n",
       "727           23952/YEAR\n",
       "852       26131 TO 28131\n",
       "909           24646/YEAR\n",
       "940                    -\n",
       "1094                   -\n",
       "1131          31000/YEAR\n",
       "1174          23950/YEAR\n",
       "1176     23400 PER ANNUM\n",
       "1177      27750 TO 28250\n",
       "1179     25000 PER ANNUM\n",
       "1275                   -\n",
       "1286      33000 TO 38000\n",
       "1506     32000 PER ANNUM\n",
       "1566                 40K\n",
       "1674       28969 - 30969\n",
       "1748             40000.0\n",
       "1754                   -\n",
       "1763      29500 TO 30500\n",
       "1785                   -\n",
       "1838            35000 PA\n",
       "              ...       \n",
       "54121                  -\n",
       "54124                  -\n",
       "54231         32000/YEAR\n",
       "54240      24150 - 24650\n",
       "54320                24K\n",
       "54330                52K\n",
       "54402         33500/YEAR\n",
       "54458                  -\n",
       "54502      39750 - 40250\n",
       "54509    35000 PER ANNUM\n",
       "54537            18750.0\n",
       "54561                  -\n",
       "54575                  -\n",
       "54643         55000/YEAR\n",
       "54655     31000 TO 36000\n",
       "54768                  -\n",
       "54776                  -\n",
       "54869         40500/YEAR\n",
       "54947    32500 PER ANNUM\n",
       "54950         30000/YEAR\n",
       "54967      29500 - 30500\n",
       "55051            36000.0\n",
       "55052            45000.0\n",
       "55053            50000.0\n",
       "55054            43200.0\n",
       "55055            47040.0\n",
       "55057            48000.0\n",
       "55058             6120.0\n",
       "55067         34000/YEAR\n",
       "55168            35000.0\n",
       "Name: NormalizedSalary, Length: 1470, dtype: object"
      ]
     },
     "execution_count": 95,
     "metadata": {},
     "output_type": "execute_result"
    }
   ],
   "source": [
    "# Normalize and flag those with invalid format\n",
    "dft['NormalizedSalary'] = dft.salary.apply(lambda x: str(x).upper())\n",
    "dft['salary_bad'] = dft.NormalizedSalary.str.contains('[.A-Z\\s-]+|[\\.]{2,}', regex = True)\n",
    "dft[(dft.salary_bad == True) & (dft.NormalizedSalary != 'NAN')].NormalizedSalary"
   ]
  },
  {
   "cell_type": "code",
   "execution_count": 96,
   "metadata": {},
   "outputs": [
    {
     "name": "stdout",
     "output_type": "stream",
     "text": [
      "9 changed to  17550.0\n",
      "17 changed to  33150.0\n",
      "13 changed to  25350.0\n",
      "12 changed to  23400.0\n",
      "11.03 changed to  21508.5\n"
     ]
    }
   ],
   "source": [
    "# Clean the wrongly formatted salaries \n",
    "dft['salary_corrected'] = dft.NormalizedSalary.apply(lambda x: clean_salary(str(x)))\n",
    "# Re-evaluate the corrected ones\n",
    "dft['salary_bad2'] = dft.salary_corrected.str.contains('[.A-Z\\s-]+|[\\.]{2,}', regex = True)"
   ]
  },
  {
   "cell_type": "code",
   "execution_count": 97,
   "metadata": {},
   "outputs": [],
   "source": [
    "dft.salary_corrected.replace({'0':'NAN'}, inplace=True)"
   ]
  },
  {
   "cell_type": "code",
   "execution_count": 98,
   "metadata": {},
   "outputs": [
    {
     "data": {
      "text/plain": [
       "0"
      ]
     },
     "execution_count": 98,
     "metadata": {},
     "output_type": "execute_result"
    },
    {
     "data": {
      "text/plain": [
       "0"
      ]
     },
     "execution_count": 98,
     "metadata": {},
     "output_type": "execute_result"
    },
    {
     "data": {
      "text/plain": [
       "0"
      ]
     },
     "execution_count": 98,
     "metadata": {},
     "output_type": "execute_result"
    },
    {
     "data": {
      "text/plain": [
       "0"
      ]
     },
     "execution_count": 98,
     "metadata": {},
     "output_type": "execute_result"
    },
    {
     "data": {
      "text/plain": [
       "2731"
      ]
     },
     "execution_count": 98,
     "metadata": {},
     "output_type": "execute_result"
    },
    {
     "data": {
      "text/plain": [
       "0"
      ]
     },
     "execution_count": 98,
     "metadata": {},
     "output_type": "execute_result"
    },
    {
     "data": {
      "text/plain": [
       "0"
      ]
     },
     "execution_count": 98,
     "metadata": {},
     "output_type": "execute_result"
    }
   ],
   "source": [
    "len(dft[dft.salary_corrected.isnull()])\n",
    "len(dft[dft.salary_corrected == '0'])\n",
    "len(dft[dft.salary_corrected == ''])\n",
    "len(dft[dft.salary_corrected == 'NaN'])\n",
    "len(dft[dft.salary_corrected == 'NAN'])\n",
    "len(dft[dft.salary_corrected == 'nan'])\n",
    "len(dft[dft.salary_corrected == np.nan])"
   ]
  },
  {
   "cell_type": "code",
   "execution_count": 99,
   "metadata": {},
   "outputs": [],
   "source": [
    "# Drop work columns\n",
    "dft = dft.drop(['salary_bad'], axis=1)\n",
    "dft = dft.drop(['salary_bad2'], axis=1)\n",
    "dft = dft.drop(['salary'], axis=1)\n",
    "dft = dft.drop(['NormalizedSalary'], axis=1)"
   ]
  },
  {
   "cell_type": "code",
   "execution_count": 100,
   "metadata": {},
   "outputs": [],
   "source": [
    "# Identify outlier values for salary"
   ]
  },
  {
   "cell_type": "code",
   "execution_count": 101,
   "metadata": {
    "scrolled": false
   },
   "outputs": [
    {
     "data": {
      "text/plain": [
       "<matplotlib.axes._subplots.AxesSubplot at 0x1a299fda5c0>"
      ]
     },
     "execution_count": 101,
     "metadata": {},
     "output_type": "execute_result"
    },
    {
     "data": {
      "image/png": "[encoded data removed]",
      "text/plain": [
       "<Figure size 1080x720 with 1 Axes>"
      ]
     },
     "metadata": {
      "needs_background": "light"
     },
     "output_type": "display_data"
    }
   ],
   "source": [
    "dfy = dft[['category', 'salary_corrected']].copy()\n",
    "dfy = pd.DataFrame(dfy)\n",
    "dfy.columns = ['category', 'salary']\n",
    "dfy = dfy[dfy.salary != 'NAN']     # Remove null values\n",
    "dfy = dfy[dfy.salary != '0']       # Remove zero values\n",
    "#dfy = dfy[dfy.salary != '10000000']       # Remove zero values\n",
    "dfy['salary'] = dfy.salary.astype(float)\n",
    "\n",
    "sal = dfy.salary.astype(float)\n",
    "dfy.boxplot(column='salary', by='category', figsize=(15,10))"
   ]
  },
  {
   "cell_type": "code",
   "execution_count": 102,
   "metadata": {},
   "outputs": [],
   "source": [
    "# The presence of a 10,000,00 salary figure in teaching has squashed teh bloxplot and needs to be removed.\n",
    "# The box plot is re-drawn"
   ]
  },
  {
   "cell_type": "code",
   "execution_count": 103,
   "metadata": {},
   "outputs": [
    {
     "data": {
      "text/plain": [
       "<matplotlib.axes._subplots.AxesSubplot at 0x1a29a0a6c18>"
      ]
     },
     "execution_count": 103,
     "metadata": {},
     "output_type": "execute_result"
    },
    {
     "data": {
      "image/png": "[encoded data removed]",
      "text/plain": [
       "<Figure size 1080x720 with 1 Axes>"
      ]
     },
     "metadata": {
      "needs_background": "light"
     },
     "output_type": "display_data"
    }
   ],
   "source": [
    "dft['salary_corrected'] = dft.salary_corrected.apply(lambda x: repMe(x, '10000000', 'NAN'))\n",
    "dfy = dft[['category', 'salary_corrected']].copy()\n",
    "dfy = pd.DataFrame(dfy)\n",
    "dfy.columns = ['category', 'salary']\n",
    "dfy = dfy[dfy.salary != 'NAN']     # Remove null values\n",
    "dfy = dfy[dfy.salary != '0']       # Remove zero values\n",
    "\n",
    "dfy['salary'] = dfy.salary.astype(float)\n",
    "\n",
    "sal = dfy.salary.astype(float)\n",
    "dfy.boxplot(column='salary', by='category', figsize=(15,10))"
   ]
  },
  {
   "cell_type": "code",
   "execution_count": 104,
   "metadata": {},
   "outputs": [
    {
     "name": "stdout",
     "output_type": "stream",
     "text": [
      "For Engineering Jobs \n",
      " lower quartile= 3750.0\n",
      "Lower outliers:\n",
      " Empty DataFrame\n",
      "Columns: [category, salary]\n",
      "Index: [] \n",
      "\n",
      "upper quartile= 61750.0\n",
      "Upper outliers:\n",
      "                category   salary\n",
      "48361  Engineering Jobs  80000.0 \n",
      "\n",
      "--------------------------------------\n",
      "For Accounting & Finance Jobs \n",
      " lower quartile= -20000.0\n",
      "Lower outliers:\n",
      " Empty DataFrame\n",
      "Columns: [category, salary]\n",
      "Index: [] \n",
      "\n",
      "upper quartile= 96000.0\n",
      "Upper outliers:\n",
      "                         category    salary\n",
      "50585  Accounting & Finance Jobs  100000.0 \n",
      "\n",
      "--------------------------------------\n",
      "For Healthcare & Nursing Jobs \n",
      " lower quartile= 0.0\n",
      "Lower outliers:\n",
      " Empty DataFrame\n",
      "Columns: [category, salary]\n",
      "Index: [] \n",
      "\n",
      "upper quartile= 60000.0\n",
      "Upper outliers:\n",
      " Empty DataFrame\n",
      "Columns: [category, salary]\n",
      "Index: [] \n",
      "\n",
      "--------------------------------------\n",
      "For Hospitality & Catering Jobs \n",
      " lower quartile= 2000.0\n",
      "Lower outliers:\n",
      " Empty DataFrame\n",
      "Columns: [category, salary]\n",
      "Index: [] \n",
      "\n",
      "upper quartile= 42000.0\n",
      "Upper outliers:\n",
      "                           category   salary\n",
      "9594   Hospitality & Catering Jobs  80000.0\n",
      "47815  Hospitality & Catering Jobs  60000.0 \n",
      "\n",
      "--------------------------------------\n",
      "For IT Jobs \n",
      " lower quartile= -7500.0\n",
      "Lower outliers:\n",
      " Empty DataFrame\n",
      "Columns: [category, salary]\n",
      "Index: [] \n",
      "\n",
      "upper quartile= 92500.0\n",
      "Upper outliers:\n",
      "       category    salary\n",
      "2185   IT Jobs  120000.0\n",
      "15183  IT Jobs  150000.0 \n",
      "\n",
      "--------------------------------------\n",
      "For Sales Jobs \n",
      " lower quartile= -2500.0\n",
      "Lower outliers:\n",
      " Empty DataFrame\n",
      "Columns: [category, salary]\n",
      "Index: [] \n",
      "\n",
      "upper quartile= 57500.0\n",
      "Upper outliers:\n",
      "          category   salary\n",
      "12933  Sales Jobs  80000.0 \n",
      "\n",
      "--------------------------------------\n",
      "For Teaching Jobs \n",
      " lower quartile= 150.0\n",
      "Lower outliers:\n",
      " Empty DataFrame\n",
      "Columns: [category, salary]\n",
      "Index: [] \n",
      "\n",
      "upper quartile= 51750.0\n",
      "Upper outliers:\n",
      "             category    salary\n",
      "48544  Teaching Jobs  100000.0 \n",
      "\n",
      "--------------------------------------\n",
      "For PR, Advertising & Marketing Jobs \n",
      " lower quartile= 0.0\n",
      "Lower outliers:\n",
      " Empty DataFrame\n",
      "Columns: [category, salary]\n",
      "Index: [] \n",
      "\n",
      "upper quartile= 64000.0\n",
      "Upper outliers:\n",
      " Empty DataFrame\n",
      "Columns: [category, salary]\n",
      "Index: [] \n",
      "\n",
      "--------------------------------------\n"
     ]
    }
   ],
   "source": [
    "cats = dfy.category.unique()\n",
    "\n",
    "df_min = dfy.groupby(['category']).min()\n",
    "df_min.columns = ['min']\n",
    "df_max = dfy.groupby(['category']).max()\n",
    "df_max.columns = ['max']\n",
    "\n",
    "for cat in cats:\n",
    "    qq = getLowerUpper(dfy, cat) \n",
    "    \n",
    "    lo = getLowerOutliers(dfy, cat, qq[1])\n",
    "    print('For', cat, '\\n', 'lower quartile=', qq[1])\n",
    "    print('Lower outliers:\\n', getLowerOutliers(dfy, cat, qq[1]),'\\n')    \n",
    "    \n",
    "    uq = getUpperOutliers(dfy, cat, qq[2])\n",
    "    print('upper quartile=', qq[2])\n",
    "    print('Upper outliers:\\n', getUpperOutliers(dfy, cat, qq[2]),'\\n')\n",
    "    print('--------------------------------------')\n",
    "\n"
   ]
  },
  {
   "cell_type": "markdown",
   "metadata": {},
   "source": [
    "###### Boxplot and the calculations to get the lower and upper bounds for quariles, \n",
    "######  There was a 10,000,000 salary which made the scale of the boxplot\n",
    "######  unreadable. That was removed.\n",
    "######  Based on the above which is in line with the boxplot:\n",
    "######  we can observe the following finding: \n",
    " - Engineering: There is a 80K salary which could be correct, given the upper quartile being 61750\n",
    " - Accounting &Finance: There is a 100K salary which could be correct, given the upper quartile being 96K\n",
    " - Hospitality & Catering: 80K and 60K salary could still be correct with respect to 42K upper quartile\n",
    " - IT jobs: 120K and 150K with respect to 92500 are not ruled out either. Their job titles are IOS developer and sharepoint solution analyst which may be hard to find\n",
    " - Sales Jobs: 80K compared with 57500 could be right for a 'Medical Sales Representative Cardiothoracic'.\n",
    " - Teaching jobs: 100K is well above the $51750 is interesting but the position being a 'New Business Development Exec/Manager' could justify that.\n",
    "    \n",
    "Therefore, the only vaue we can confiently say is not right is the 10,000,000."
   ]
  },
  {
   "cell_type": "code",
   "execution_count": 105,
   "metadata": {},
   "outputs": [
    {
     "name": "stdout",
     "output_type": "stream",
     "text": [
      "Number of entries with salary > 10M is 0\n",
      "Number of entries with salary = 0 is 0\n"
     ]
    }
   ],
   "source": [
    "print('Number of entries with salary > 10M is', len(dft[dft.salary_corrected == '10000000']))\n",
    "print('Number of entries with salary = 0 is', len(dft[dft.salary_corrected == '0']))"
   ]
  },
  {
   "cell_type": "code",
   "execution_count": 106,
   "metadata": {},
   "outputs": [
    {
     "data": {
      "text/html": [
       "<div>\n",
       "<style scoped>\n",
       "    .dataframe tbody tr th:only-of-type {\n",
       "        vertical-align: middle;\n",
       "    }\n",
       "\n",
       "    .dataframe tbody tr th {\n",
       "        vertical-align: top;\n",
       "    }\n",
       "\n",
       "    .dataframe thead th {\n",
       "        text-align: right;\n",
       "    }\n",
       "</style>\n",
       "<table border=\"1\" class=\"dataframe\">\n",
       "  <thead>\n",
       "    <tr style=\"text-align: right;\">\n",
       "      <th></th>\n",
       "      <th>avg_salary</th>\n",
       "    </tr>\n",
       "    <tr>\n",
       "      <th>category</th>\n",
       "      <th></th>\n",
       "    </tr>\n",
       "  </thead>\n",
       "  <tbody>\n",
       "    <tr>\n",
       "      <th>Accounting &amp; Finance Jobs</th>\n",
       "      <td>40042</td>\n",
       "    </tr>\n",
       "    <tr>\n",
       "      <th>Engineering Jobs</th>\n",
       "      <td>33541</td>\n",
       "    </tr>\n",
       "    <tr>\n",
       "      <th>Healthcare &amp; Nursing Jobs</th>\n",
       "      <td>30139</td>\n",
       "    </tr>\n",
       "    <tr>\n",
       "      <th>Hospitality &amp; Catering Jobs</th>\n",
       "      <td>22343</td>\n",
       "    </tr>\n",
       "    <tr>\n",
       "      <th>IT Jobs</th>\n",
       "      <td>43587</td>\n",
       "    </tr>\n",
       "    <tr>\n",
       "      <th>PR, Advertising &amp; Marketing Jobs</th>\n",
       "      <td>32276</td>\n",
       "    </tr>\n",
       "    <tr>\n",
       "      <th>Sales Jobs</th>\n",
       "      <td>28285</td>\n",
       "    </tr>\n",
       "    <tr>\n",
       "      <th>Teaching Jobs</th>\n",
       "      <td>26335</td>\n",
       "    </tr>\n",
       "  </tbody>\n",
       "</table>\n",
       "</div>"
      ],
      "text/plain": [
       "                                  avg_salary\n",
       "category                                    \n",
       "Accounting & Finance Jobs              40042\n",
       "Engineering Jobs                       33541\n",
       "Healthcare & Nursing Jobs              30139\n",
       "Hospitality & Catering Jobs            22343\n",
       "IT Jobs                                43587\n",
       "PR, Advertising & Marketing Jobs       32276\n",
       "Sales Jobs                             28285\n",
       "Teaching Jobs                          26335"
      ]
     },
     "execution_count": 106,
     "metadata": {},
     "output_type": "execute_result"
    }
   ],
   "source": [
    "# Calculate the average salary in each job category\n",
    "dfg = dfy.groupby(['category']).mean().round(0)\n",
    "dfg.columns = ['avg_salary']\n",
    "dfg['avg_salary'] = dfg['avg_salary'].astype(int)\n",
    "dfg"
   ]
  },
  {
   "cell_type": "code",
   "execution_count": 107,
   "metadata": {},
   "outputs": [],
   "source": [
    "### Replace null values in salary with average of salaies in every category\n",
    "dft['new_sal'] = dft.apply(repna, axis=1)"
   ]
  },
  {
   "cell_type": "code",
   "execution_count": 108,
   "metadata": {},
   "outputs": [
    {
     "data": {
      "text/plain": [
       "0"
      ]
     },
     "execution_count": 108,
     "metadata": {},
     "output_type": "execute_result"
    },
    {
     "data": {
      "text/plain": [
       "0"
      ]
     },
     "execution_count": 108,
     "metadata": {},
     "output_type": "execute_result"
    },
    {
     "data": {
      "text/plain": [
       "0"
      ]
     },
     "execution_count": 108,
     "metadata": {},
     "output_type": "execute_result"
    },
    {
     "data": {
      "text/plain": [
       "0"
      ]
     },
     "execution_count": 108,
     "metadata": {},
     "output_type": "execute_result"
    },
    {
     "data": {
      "text/plain": [
       "0"
      ]
     },
     "execution_count": 108,
     "metadata": {},
     "output_type": "execute_result"
    },
    {
     "data": {
      "text/plain": [
       "0"
      ]
     },
     "execution_count": 108,
     "metadata": {},
     "output_type": "execute_result"
    },
    {
     "data": {
      "text/plain": [
       "0"
      ]
     },
     "execution_count": 108,
     "metadata": {},
     "output_type": "execute_result"
    }
   ],
   "source": [
    "#Ensure the Salary column is clean from any null or the similar\n",
    "len(dft[dft.new_sal.isnull()])\n",
    "len(dft[dft.new_sal == '0'])\n",
    "len(dft[dft.new_sal == ''])\n",
    "len(dft[dft.new_sal == 'NaN'])\n",
    "len(dft[dft.new_sal == 'NAN'])\n",
    "len(dft[dft.new_sal == 'nan'])\n",
    "len(dft[dft.new_sal == np.nan])"
   ]
  },
  {
   "cell_type": "code",
   "execution_count": 109,
   "metadata": {},
   "outputs": [],
   "source": [
    "# Drop old column and retype the new Salary column\n",
    "dft = dft.drop(['salary_corrected'], axis=1)\n",
    "dft['new_sal'] = dft.new_sal.astype(float)"
   ]
  },
  {
   "cell_type": "markdown",
   "metadata": {},
   "source": [
    "###### Validation Summary\n",
    "- Check for nulls and the likes such as dashes and empty strings\n",
    "- Normalise by removing text as part of the salary\n",
    "- Convert per hour to annual\n",
    "- Replace salary range by average.\n",
    "- Identify outlier values\n",
    "- Calculate average salary for each category\n",
    "- Replace null values with averges"
   ]
  },
  {
   "cell_type": "code",
   "execution_count": 110,
   "metadata": {},
   "outputs": [],
   "source": [
    "# Reseuqence and rename columns\n",
    "dft = dft[['id', 'title', 'location', 'company', 'contract_type', 'contract_time', 'category', 'new_sal', 'open_date', 'close_date', 'source']]\n",
    "dft.columns = ['Id', 'Title', 'Location', 'Company', 'ContractType', 'ContractTime', 'Category', 'Salary', 'OpenDate', 'CloseDate', 'SourceName']"
   ]
  },
  {
   "cell_type": "code",
   "execution_count": 111,
   "metadata": {},
   "outputs": [],
   "source": [
    "# Any opf the columns except for the web site is considered as part of the uniqueness."
   ]
  },
  {
   "cell_type": "code",
   "execution_count": 112,
   "metadata": {},
   "outputs": [
    {
     "name": "stdout",
     "output_type": "stream",
     "text": [
      "There are 6 duplicate records found\n"
     ]
    },
    {
     "data": {
      "text/html": [
       "<div>\n",
       "<style scoped>\n",
       "    .dataframe tbody tr th:only-of-type {\n",
       "        vertical-align: middle;\n",
       "    }\n",
       "\n",
       "    .dataframe tbody tr th {\n",
       "        vertical-align: top;\n",
       "    }\n",
       "\n",
       "    .dataframe thead th {\n",
       "        text-align: right;\n",
       "    }\n",
       "</style>\n",
       "<table border=\"1\" class=\"dataframe\">\n",
       "  <thead>\n",
       "    <tr style=\"text-align: right;\">\n",
       "      <th></th>\n",
       "      <th>Id</th>\n",
       "      <th>Title</th>\n",
       "      <th>Location</th>\n",
       "      <th>Company</th>\n",
       "      <th>ContractType</th>\n",
       "      <th>ContractTime</th>\n",
       "      <th>Category</th>\n",
       "      <th>Salary</th>\n",
       "      <th>OpenDate</th>\n",
       "      <th>CloseDate</th>\n",
       "      <th>SourceName</th>\n",
       "    </tr>\n",
       "  </thead>\n",
       "  <tbody>\n",
       "    <tr>\n",
       "      <th>8023</th>\n",
       "      <td>67290277</td>\n",
       "      <td>QUALITY ASSURANCE ENVIRONMENTAL MANAGER NOTTIN...</td>\n",
       "      <td>NOTTINGHAM</td>\n",
       "      <td>STEPHEN JAMES CONSULTING</td>\n",
       "      <td>non-specified</td>\n",
       "      <td>permanent</td>\n",
       "      <td>Healthcare &amp; Nursing Jobs</td>\n",
       "      <td>35000.0</td>\n",
       "      <td>20120110T150000</td>\n",
       "      <td>20120409T150000</td>\n",
       "      <td>tntjobs.co.uk</td>\n",
       "    </tr>\n",
       "    <tr>\n",
       "      <th>47471</th>\n",
       "      <td>71808610</td>\n",
       "      <td>PENSIONS ADMINISTRATORS TEMPORARY/CONTRACT</td>\n",
       "      <td>UK</td>\n",
       "      <td>ABENEFIT2U</td>\n",
       "      <td>non-specified</td>\n",
       "      <td>contract</td>\n",
       "      <td>Accounting &amp; Finance Jobs</td>\n",
       "      <td>24000.0</td>\n",
       "      <td>20130801T150000</td>\n",
       "      <td>20130831T150000</td>\n",
       "      <td>professionalpensionsjobs.com</td>\n",
       "    </tr>\n",
       "    <tr>\n",
       "      <th>54482</th>\n",
       "      <td>72653751</td>\n",
       "      <td>BARCLAYS FUTURE LEADERS DEVELOPMENT PROGRAMMES</td>\n",
       "      <td>HACKNEY</td>\n",
       "      <td>BARCLAYS</td>\n",
       "      <td>non-specified</td>\n",
       "      <td>non-specified</td>\n",
       "      <td>IT Jobs</td>\n",
       "      <td>36000.0</td>\n",
       "      <td>20121223T150000</td>\n",
       "      <td>20130221T150000</td>\n",
       "      <td>grb.uk.com</td>\n",
       "    </tr>\n",
       "    <tr>\n",
       "      <th>55165</th>\n",
       "      <td>72705205</td>\n",
       "      <td>PENSIONS ADMINISTRATORS TEMPORARY/CONTRACT</td>\n",
       "      <td>UK</td>\n",
       "      <td>ABENEFIT2U</td>\n",
       "      <td>non-specified</td>\n",
       "      <td>contract</td>\n",
       "      <td>Accounting &amp; Finance Jobs</td>\n",
       "      <td>24000.0</td>\n",
       "      <td>20130801T150000</td>\n",
       "      <td>20130831T150000</td>\n",
       "      <td>cv-library.co.uk</td>\n",
       "    </tr>\n",
       "    <tr>\n",
       "      <th>55167</th>\n",
       "      <td>72705240</td>\n",
       "      <td>BARCLAYS FUTURE LEADERS DEVELOPMENT PROGRAMMES</td>\n",
       "      <td>HACKNEY</td>\n",
       "      <td>BARCLAYS</td>\n",
       "      <td>non-specified</td>\n",
       "      <td>non-specified</td>\n",
       "      <td>IT Jobs</td>\n",
       "      <td>36000.0</td>\n",
       "      <td>20121223T150000</td>\n",
       "      <td>20130221T150000</td>\n",
       "      <td>grb.uk.com</td>\n",
       "    </tr>\n",
       "    <tr>\n",
       "      <th>55168</th>\n",
       "      <td>72705244</td>\n",
       "      <td>QUALITY ASSURANCE ENVIRONMENTAL MANAGER NOTTIN...</td>\n",
       "      <td>NOTTINGHAM</td>\n",
       "      <td>STEPHEN JAMES CONSULTING</td>\n",
       "      <td>non-specified</td>\n",
       "      <td>permanent</td>\n",
       "      <td>Healthcare &amp; Nursing Jobs</td>\n",
       "      <td>35000.0</td>\n",
       "      <td>20120110T150000</td>\n",
       "      <td>20120409T150000</td>\n",
       "      <td>tntjobs.co.uk</td>\n",
       "    </tr>\n",
       "  </tbody>\n",
       "</table>\n",
       "</div>"
      ],
      "text/plain": [
       "             Id                                              Title  \\\n",
       "8023   67290277  QUALITY ASSURANCE ENVIRONMENTAL MANAGER NOTTIN...   \n",
       "47471  71808610         PENSIONS ADMINISTRATORS TEMPORARY/CONTRACT   \n",
       "54482  72653751     BARCLAYS FUTURE LEADERS DEVELOPMENT PROGRAMMES   \n",
       "55165  72705205         PENSIONS ADMINISTRATORS TEMPORARY/CONTRACT   \n",
       "55167  72705240     BARCLAYS FUTURE LEADERS DEVELOPMENT PROGRAMMES   \n",
       "55168  72705244  QUALITY ASSURANCE ENVIRONMENTAL MANAGER NOTTIN...   \n",
       "\n",
       "         Location                   Company   ContractType   ContractTime  \\\n",
       "8023   NOTTINGHAM  STEPHEN JAMES CONSULTING  non-specified      permanent   \n",
       "47471          UK                ABENEFIT2U  non-specified       contract   \n",
       "54482     HACKNEY                  BARCLAYS  non-specified  non-specified   \n",
       "55165          UK                ABENEFIT2U  non-specified       contract   \n",
       "55167     HACKNEY                  BARCLAYS  non-specified  non-specified   \n",
       "55168  NOTTINGHAM  STEPHEN JAMES CONSULTING  non-specified      permanent   \n",
       "\n",
       "                        Category   Salary         OpenDate        CloseDate  \\\n",
       "8023   Healthcare & Nursing Jobs  35000.0  20120110T150000  20120409T150000   \n",
       "47471  Accounting & Finance Jobs  24000.0  20130801T150000  20130831T150000   \n",
       "54482                    IT Jobs  36000.0  20121223T150000  20130221T150000   \n",
       "55165  Accounting & Finance Jobs  24000.0  20130801T150000  20130831T150000   \n",
       "55167                    IT Jobs  36000.0  20121223T150000  20130221T150000   \n",
       "55168  Healthcare & Nursing Jobs  35000.0  20120110T150000  20120409T150000   \n",
       "\n",
       "                         SourceName  \n",
       "8023                  tntjobs.co.uk  \n",
       "47471  professionalpensionsjobs.com  \n",
       "54482                    grb.uk.com  \n",
       "55165              cv-library.co.uk  \n",
       "55167                    grb.uk.com  \n",
       "55168                 tntjobs.co.uk  "
      ]
     },
     "execution_count": 112,
     "metadata": {},
     "output_type": "execute_result"
    }
   ],
   "source": [
    "cols = ['Title', 'Location', 'Company', 'ContractType', 'ContractTime', 'Category', 'Salary', 'OpenDate', 'CloseDate'] \n",
    "duplicates = dft[dft.duplicated(cols,keep=False)]\n",
    "print( \"There are \"+ str(len(duplicates)) + \" duplicate records found\")\n",
    "duplicates.sort_values(by=duplicates.columns.tolist()).head(10)"
   ]
  },
  {
   "cell_type": "code",
   "execution_count": 113,
   "metadata": {},
   "outputs": [
    {
     "name": "stdout",
     "output_type": "stream",
     "text": [
      "There are 0 duplicate records found\n"
     ]
    }
   ],
   "source": [
    "dft = dft.drop_duplicates(cols, keep='last')\n",
    "# Making sure duplicates are droped.\n",
    "duplicates = dft[dft.duplicated(cols,keep=False)]\n",
    "print( \"There are \"+ str(len(duplicates)) + \" duplicate records found\")"
   ]
  },
  {
   "cell_type": "code",
   "execution_count": 114,
   "metadata": {},
   "outputs": [
    {
     "data": {
      "text/plain": [
       "Id                int64\n",
       "Title            object\n",
       "Location         object\n",
       "Company          object\n",
       "ContractType     object\n",
       "ContractTime     object\n",
       "Category         object\n",
       "Salary          float64\n",
       "OpenDate         object\n",
       "CloseDate        object\n",
       "SourceName       object\n",
       "dtype: object"
      ]
     },
     "execution_count": 114,
     "metadata": {},
     "output_type": "execute_result"
    }
   ],
   "source": [
    "dft.dtypes"
   ]
  },
  {
   "cell_type": "code",
   "execution_count": 115,
   "metadata": {},
   "outputs": [],
   "source": [
    "dft.to_csv('dataset1_solution.csv', index =False)"
   ]
  },
  {
   "cell_type": "code",
   "execution_count": null,
   "metadata": {},
   "outputs": [],
   "source": []
  }
 ],
 "metadata": {
  "kernelspec": {
   "display_name": "Python 3",
   "language": "python",
   "name": "python3"
  },
  "language_info": {
   "codemirror_mode": {
    "name": "ipython",
    "version": 3
   },
   "file_extension": ".py",
   "mimetype": "text/x-python",
   "name": "python",
   "nbconvert_exporter": "python",
   "pygments_lexer": "ipython3",
   "version": "3.7.4"
  }
 },
 "nbformat": 4,
 "nbformat_minor": 2
}
