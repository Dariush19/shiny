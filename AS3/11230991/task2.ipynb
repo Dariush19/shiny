{
 "cells": [
  {
   "cell_type": "markdown",
   "metadata": {},
   "source": [
    "# FIT5196 Assessment 2 Task 2\n",
    "#### Student Name: Dariush Riazati\n",
    "#### Student ID: 11230991\n",
    "\n",
    "Date: 09/06/2019\n",
    "\n",
    "Version: 1.0\n",
    "\n",
    "Environment: Python 3.5.2 and Jupyter notebook"
   ]
  },
  {
   "cell_type": "code",
   "execution_count": 1,
   "metadata": {},
   "outputs": [
    {
     "name": "stdout",
     "output_type": "stream",
     "text": [
      "3.5.2 (v3.5.2:4def2a2901a5, Jun 25 2016, 22:18:55) [MSC v.1900 64 bit (AMD64)]\n"
     ]
    }
   ],
   "source": [
    "from sys import version\n",
    "print(version)"
   ]
  },
  {
   "cell_type": "code",
   "execution_count": 2,
   "metadata": {},
   "outputs": [],
   "source": [
    "import pandas as pd\n",
    "import re\n",
    "import csv"
   ]
  },
  {
   "cell_type": "markdown",
   "metadata": {},
   "source": [
    "# Functions"
   ]
  },
  {
   "cell_type": "code",
   "execution_count": 3,
   "metadata": {},
   "outputs": [],
   "source": [
    "company_match_file = True"
   ]
  },
  {
   "cell_type": "code",
   "execution_count": 4,
   "metadata": {},
   "outputs": [],
   "source": [
    "def cleanToken(token):\n",
    "    if pd.isnull(token):\n",
    "        return token\n",
    "    else:\n",
    "        # normalize to upper case letters\n",
    "        token = token.upper()       \n",
    "        # remove all special characters except space. +, / and dot\n",
    "        token = re.sub(r'([^\\w\\s\\.\\/\\+]|_)', '', token)\n",
    "        token = re.sub('^\\s+', '', token)\n",
    "        # replace multiple spaces with a single space, also trim spaces on both side\n",
    "        token = re.sub( '\\s+', ' ', token).strip()\n",
    "        return token"
   ]
  },
  {
   "cell_type": "code",
   "execution_count": 5,
   "metadata": {},
   "outputs": [],
   "source": [
    "def reformat_date(dt):\n",
    "    y = re.findall('[\\d]{4}', dt)[0]\n",
    "    m = re.findall('(?:[\\d]{4}-)([\\d]{2})', dt)[0]\n",
    "    d = re.findall('(?:[\\d]{4}-)(?:[\\d]{2}-)([\\d]{2})', dt)[0]\n",
    "    h = re.findall('(?:[\\d]{4}-)(?:[\\d]{2}-)(?:[\\d]{2} )([\\d]{2})', dt)[0]\n",
    "    m = re.findall('(?:[\\d]{4}-)(?:[\\d]{2}-)(?:[\\d]{2} )(?:[\\d]{2}:)([\\d]{2})', dt)[0]\n",
    "    s = re.findall('(?:[\\d]{4}-)(?:[\\d]{2}-)(?:[\\d]{2} )(?:[\\d]{2}:)(?:[\\d]{2}:)([\\d]{2})', dt)[0]\n",
    "    return y+m+d+'T'+h+m+s"
   ]
  },
  {
   "cell_type": "markdown",
   "metadata": {},
   "source": [
    "# Main"
   ]
  },
  {
   "cell_type": "code",
   "execution_count": 6,
   "metadata": {},
   "outputs": [],
   "source": [
    "# Note that based on the values, the COntractType in data set 2 is much closer to COntractTime in data set 2\n",
    "# and hence we are re-labeling ContractType as ContractTime \n",
    "# We are also re-labeling Fraction as ContractType"
   ]
  },
  {
   "cell_type": "code",
   "execution_count": 7,
   "metadata": {},
   "outputs": [],
   "source": [
    "df1 = pd.read_csv('dataset1_solution.csv', sep=\",\", names=['Id', 'Title', 'Location', 'Company', 'ContractType', \n",
    "                                                            'ContractTime', 'Category', 'Salary', 'OpenDate', 'CloseDate', 'SourceName'],\n",
    "                            encoding = \"utf-8\", skiprows=1)\n",
    "\n",
    "df2 = pd.read_csv('dataset2.csv', sep=\",\", names=['OpenDate', 'CloseDate', 'Title', 'Company',\n",
    "                        'Location', 'Category', 'Salary', 'ContractType', 'ContractTime'],\n",
    "                            encoding = \"utf-8\", skiprows=1)"
   ]
  },
  {
   "cell_type": "markdown",
   "metadata": {},
   "source": [
    "### Align Schemas"
   ]
  },
  {
   "cell_type": "code",
   "execution_count": 8,
   "metadata": {},
   "outputs": [
    {
     "data": {
      "text/plain": [
       "{'Id', 'SourceName'}"
      ]
     },
     "execution_count": 8,
     "metadata": {},
     "output_type": "execute_result"
    }
   ],
   "source": [
    "df1_cols = df1.columns.difference([])\n",
    "df2_cols = df2.columns.difference([])\n",
    "\n",
    "set(df1_cols) - set(df2_cols)"
   ]
  },
  {
   "cell_type": "code",
   "execution_count": 9,
   "metadata": {},
   "outputs": [],
   "source": [
    "del df1['Id']\n",
    "del df1['SourceName']"
   ]
  },
  {
   "cell_type": "code",
   "execution_count": 10,
   "metadata": {},
   "outputs": [
    {
     "name": "stdout",
     "output_type": "stream",
     "text": [
      "DF1: (55166, 9)\n",
      "DF2: (334, 9)\n"
     ]
    }
   ],
   "source": [
    "print(\"DF1:\", df1.shape)\n",
    "print(\"DF2:\", df2.shape)"
   ]
  },
  {
   "cell_type": "code",
   "execution_count": 11,
   "metadata": {},
   "outputs": [],
   "source": [
    "df1['Salary'] = df1['Salary'].astype(float)\n",
    "df2['Salary'] = df2['Salary'].astype(float)"
   ]
  },
  {
   "cell_type": "code",
   "execution_count": 12,
   "metadata": {},
   "outputs": [
    {
     "name": "stdout",
     "output_type": "stream",
     "text": [
      "<class 'pandas.core.frame.DataFrame'>\n",
      "RangeIndex: 55166 entries, 0 to 55165\n",
      "Data columns (total 9 columns):\n",
      "Title           55166 non-null object\n",
      "Location        55166 non-null object\n",
      "Company         55166 non-null object\n",
      "ContractType    55166 non-null object\n",
      "ContractTime    55166 non-null object\n",
      "Category        55166 non-null object\n",
      "Salary          55166 non-null float64\n",
      "OpenDate        55166 non-null object\n",
      "CloseDate       55166 non-null object\n",
      "dtypes: float64(1), object(8)\n",
      "memory usage: 3.8+ MB\n",
      "None\n",
      "<class 'pandas.core.frame.DataFrame'>\n",
      "RangeIndex: 334 entries, 0 to 333\n",
      "Data columns (total 9 columns):\n",
      "OpenDate        334 non-null object\n",
      "CloseDate       334 non-null object\n",
      "Title           334 non-null object\n",
      "Company         334 non-null object\n",
      "Location        334 non-null object\n",
      "Category        334 non-null object\n",
      "Salary          334 non-null float64\n",
      "ContractType    3 non-null object\n",
      "ContractTime    327 non-null object\n",
      "dtypes: float64(1), object(8)\n",
      "memory usage: 23.6+ KB\n",
      "None\n"
     ]
    }
   ],
   "source": [
    "print(df1.info())\n",
    "print(df2.info())"
   ]
  },
  {
   "cell_type": "code",
   "execution_count": 13,
   "metadata": {},
   "outputs": [
    {
     "data": {
      "text/plain": [
       "set()"
      ]
     },
     "execution_count": 13,
     "metadata": {},
     "output_type": "execute_result"
    }
   ],
   "source": [
    "df1_cols = df1.columns.difference([])\n",
    "df2_cols = df2.columns.difference([])\n",
    "\n",
    "set(df1_cols) - set(df2_cols)"
   ]
  },
  {
   "cell_type": "code",
   "execution_count": 14,
   "metadata": {},
   "outputs": [
    {
     "name": "stdout",
     "output_type": "stream",
     "text": [
      "Matching data type for Category\n",
      "Matching data type for CloseDate\n",
      "Matching data type for Company\n",
      "Matching data type for ContractTime\n",
      "Matching data type for ContractType\n",
      "Matching data type for Location\n",
      "Matching data type for OpenDate\n",
      "Matching data type for Salary\n",
      "Matching data type for Title\n"
     ]
    }
   ],
   "source": [
    "for c in df1_cols:\n",
    "    if df1[c].dtype == df2[c].dtype:\n",
    "       print(\"Matching data type for\", c)\n",
    "    else:\n",
    "       print(\"Mismatching data type for\", c)"
   ]
  },
  {
   "cell_type": "code",
   "execution_count": 15,
   "metadata": {},
   "outputs": [
    {
     "data": {
      "text/plain": [
       "dtype('float64')"
      ]
     },
     "execution_count": 15,
     "metadata": {},
     "output_type": "execute_result"
    }
   ],
   "source": [
    "df1.Salary.dtype"
   ]
  },
  {
   "cell_type": "markdown",
   "metadata": {},
   "source": [
    "## Reconcile OpenDate"
   ]
  },
  {
   "cell_type": "code",
   "execution_count": 16,
   "metadata": {},
   "outputs": [
    {
     "data": {
      "text/plain": [
       "0    2013-10-06 00:00:00\n",
       "1    2012-10-03 12:00:00\n",
       "2    2012-01-01 00:00:00\n",
       "3    2012-10-14 00:00:00\n",
       "4    2012-11-17 12:00:00\n",
       "Name: OpenDate, dtype: object"
      ]
     },
     "execution_count": 16,
     "metadata": {},
     "output_type": "execute_result"
    }
   ],
   "source": [
    "df1.OpenDate.head(5)\n",
    "df2.OpenDate.head(5)"
   ]
  },
  {
   "cell_type": "code",
   "execution_count": 17,
   "metadata": {},
   "outputs": [],
   "source": [
    "df2['OpenDate'] = df2.OpenDate.apply(lambda x: reformat_date(x))"
   ]
  },
  {
   "cell_type": "code",
   "execution_count": 18,
   "metadata": {},
   "outputs": [
    {
     "data": {
      "text/plain": [
       "0    20130006T000000\n",
       "1    20120003T120000\n",
       "2    20120001T000000\n",
       "Name: OpenDate, dtype: object"
      ]
     },
     "execution_count": 18,
     "metadata": {},
     "output_type": "execute_result"
    }
   ],
   "source": [
    "df2['OpenDate'].head(3)"
   ]
  },
  {
   "cell_type": "markdown",
   "metadata": {},
   "source": [
    "### Reconcile CloseDate"
   ]
  },
  {
   "cell_type": "code",
   "execution_count": 19,
   "metadata": {},
   "outputs": [
    {
     "data": {
      "text/plain": [
       "0    2013-12-05 00:00:00\n",
       "1    2012-11-02 12:00:00\n",
       "2    2012-01-31 00:00:00\n",
       "3    2012-11-13 00:00:00\n",
       "4    2013-01-16 12:00:00\n",
       "Name: CloseDate, dtype: object"
      ]
     },
     "execution_count": 19,
     "metadata": {},
     "output_type": "execute_result"
    }
   ],
   "source": [
    "df1.CloseDate.head(5)\n",
    "df2.CloseDate.head(5)"
   ]
  },
  {
   "cell_type": "code",
   "execution_count": 20,
   "metadata": {},
   "outputs": [],
   "source": [
    "df2['CloseDate'] = df2.CloseDate.apply(lambda x: reformat_date(x))"
   ]
  },
  {
   "cell_type": "code",
   "execution_count": 21,
   "metadata": {},
   "outputs": [
    {
     "data": {
      "text/plain": [
       "0    20130005T000000\n",
       "1    20120002T120000\n",
       "2    20120031T000000\n",
       "Name: CloseDate, dtype: object"
      ]
     },
     "execution_count": 21,
     "metadata": {},
     "output_type": "execute_result"
    }
   ],
   "source": [
    "df2['CloseDate'].head(3)"
   ]
  },
  {
   "cell_type": "markdown",
   "metadata": {},
   "source": [
    "### Reconcile Title"
   ]
  },
  {
   "cell_type": "code",
   "execution_count": 22,
   "metadata": {},
   "outputs": [
    {
     "data": {
      "text/plain": [
       "0                        Aviation loans administration\n",
       "1               Payroll Analyst  City upto **** , ****\n",
       "2    Investment Team Assistant for leading Private ...\n",
       "3                     SWAPS COLLATERAL CONTROL OFFICER\n",
       "4                           Loans Administration  Temp\n",
       "Name: Title, dtype: object"
      ]
     },
     "execution_count": 22,
     "metadata": {},
     "output_type": "execute_result"
    }
   ],
   "source": [
    "df1.Title.head(5)\n",
    "df2.Title.head(5)"
   ]
  },
  {
   "cell_type": "code",
   "execution_count": 23,
   "metadata": {},
   "outputs": [],
   "source": [
    "df2['Title'] = df2.Title.apply(lambda x: cleanToken(x))"
   ]
  },
  {
   "cell_type": "code",
   "execution_count": 24,
   "metadata": {},
   "outputs": [
    {
     "data": {
      "text/plain": [
       "0                        AVIATION LOANS ADMINISTRATION\n",
       "1                            PAYROLL ANALYST CITY UPTO\n",
       "2    INVESTMENT TEAM ASSISTANT FOR LEADING PRIVATE ...\n",
       "3                     SWAPS COLLATERAL CONTROL OFFICER\n",
       "4                            LOANS ADMINISTRATION TEMP\n",
       "Name: Title, dtype: object"
      ]
     },
     "execution_count": 24,
     "metadata": {},
     "output_type": "execute_result"
    }
   ],
   "source": [
    "df1.Title.head(5)\n",
    "df2.Title.head(5)"
   ]
  },
  {
   "cell_type": "markdown",
   "metadata": {},
   "source": [
    "### Reconcile Company"
   ]
  },
  {
   "cell_type": "code",
   "execution_count": 25,
   "metadata": {},
   "outputs": [
    {
     "data": {
      "text/plain": [
       "0"
      ]
     },
     "execution_count": 25,
     "metadata": {},
     "output_type": "execute_result"
    }
   ],
   "source": [
    "df1.Company.head(5)\n",
    "df2.Company.head(5)\n",
    "df2.Company.isnull().sum()"
   ]
  },
  {
   "cell_type": "code",
   "execution_count": 26,
   "metadata": {},
   "outputs": [],
   "source": [
    "df2['Company'] = df2.Company.apply(lambda x: cleanToken(x))"
   ]
  },
  {
   "cell_type": "code",
   "execution_count": 27,
   "metadata": {},
   "outputs": [
    {
     "data": {
      "text/plain": [
       "0                                CER FINANCIAL\n",
       "1                          LMA RECRUITMENT LTD\n",
       "2                            AUSTIN ANDREW LTD\n",
       "3    BRIAN DURHAM RECRUITMENT SERVICES LIMITED\n",
       "4                                CER FINANCIAL\n",
       "Name: Company, dtype: object"
      ]
     },
     "execution_count": 27,
     "metadata": {},
     "output_type": "execute_result"
    }
   ],
   "source": [
    "df1.Company.head(5)\n",
    "df2.Company.head(5)"
   ]
  },
  {
   "cell_type": "code",
   "execution_count": 28,
   "metadata": {},
   "outputs": [],
   "source": [
    "df2['Company'] = df2.Company.str.replace('LTD', 'LIMITED')"
   ]
  },
  {
   "cell_type": "code",
   "execution_count": 29,
   "metadata": {},
   "outputs": [
    {
     "data": {
      "text/plain": [
       "0                                CER FINANCIAL\n",
       "1                      LMA RECRUITMENT LIMITED\n",
       "2                        AUSTIN ANDREW LIMITED\n",
       "3    BRIAN DURHAM RECRUITMENT SERVICES LIMITED\n",
       "4                                CER FINANCIAL\n",
       "Name: Company, dtype: object"
      ]
     },
     "execution_count": 29,
     "metadata": {},
     "output_type": "execute_result"
    }
   ],
   "source": [
    "df1.Company.head(5)\n",
    "df2.Company.head(5)"
   ]
  },
  {
   "cell_type": "markdown",
   "metadata": {},
   "source": [
    "### Reconcile ContractType"
   ]
  },
  {
   "cell_type": "code",
   "execution_count": 30,
   "metadata": {},
   "outputs": [
    {
     "data": {
      "text/plain": [
       "331"
      ]
     },
     "execution_count": 30,
     "metadata": {},
     "output_type": "execute_result"
    }
   ],
   "source": [
    "df1.ContractType.value_counts()\n",
    "df2.ContractType.value_counts()\n",
    "len(df2[df2.ContractType.isnull()])\n"
   ]
  },
  {
   "cell_type": "code",
   "execution_count": 31,
   "metadata": {},
   "outputs": [
    {
     "data": {
      "text/plain": [
       "Part Time    3\n",
       "Name: ContractType, dtype: int64"
      ]
     },
     "execution_count": 31,
     "metadata": {},
     "output_type": "execute_result"
    }
   ],
   "source": [
    "df2.ContractType.value_counts()"
   ]
  },
  {
   "cell_type": "code",
   "execution_count": 32,
   "metadata": {},
   "outputs": [
    {
     "data": {
      "text/plain": [
       "0"
      ]
     },
     "execution_count": 32,
     "metadata": {},
     "output_type": "execute_result"
    }
   ],
   "source": [
    "df2['ContractType'] = df2.ContractType.fillna('non-specified')\n",
    "len(df2[df2.ContractType.isnull()])"
   ]
  },
  {
   "cell_type": "code",
   "execution_count": 33,
   "metadata": {},
   "outputs": [
    {
     "data": {
      "text/plain": [
       "non-specified    331\n",
       "Part Time          3\n",
       "Name: ContractType, dtype: int64"
      ]
     },
     "execution_count": 33,
     "metadata": {},
     "output_type": "execute_result"
    }
   ],
   "source": [
    "df1.ContractType.value_counts()\n",
    "df2.ContractType.value_counts()"
   ]
  },
  {
   "cell_type": "code",
   "execution_count": 34,
   "metadata": {},
   "outputs": [
    {
     "data": {
      "text/plain": [
       "non-specified    331\n",
       "part_time          3\n",
       "Name: ContractType, dtype: int64"
      ]
     },
     "execution_count": 34,
     "metadata": {},
     "output_type": "execute_result"
    }
   ],
   "source": [
    "df2['ContractType'] = df2.ContractType.str.replace('Part Time', 'part_time')\n",
    "df1.ContractType.value_counts()\n",
    "df2.ContractType.value_counts()"
   ]
  },
  {
   "cell_type": "markdown",
   "metadata": {},
   "source": [
    "### Reconcile ContractTime"
   ]
  },
  {
   "cell_type": "code",
   "execution_count": 35,
   "metadata": {},
   "outputs": [],
   "source": [
    "#Based on the values of Contract types between the two sources, it appears that the contact type \n",
    "# in data set 2 is in fact contract time."
   ]
  },
  {
   "cell_type": "code",
   "execution_count": 36,
   "metadata": {},
   "outputs": [
    {
     "data": {
      "text/plain": [
       "7"
      ]
     },
     "execution_count": 36,
     "metadata": {},
     "output_type": "execute_result"
    }
   ],
   "source": [
    "df1.ContractTime.value_counts()\n",
    "df2.ContractTime.value_counts()\n",
    "len(df2[df2.ContractTime.isnull()])"
   ]
  },
  {
   "cell_type": "code",
   "execution_count": 37,
   "metadata": {},
   "outputs": [],
   "source": [
    "# There is not sufficient evidence to suggest that the null values are in fact full_time."
   ]
  },
  {
   "cell_type": "code",
   "execution_count": 38,
   "metadata": {},
   "outputs": [
    {
     "data": {
      "text/plain": [
       "0"
      ]
     },
     "execution_count": 38,
     "metadata": {},
     "output_type": "execute_result"
    }
   ],
   "source": [
    "df2['ContractTime'] = df2.ContractTime.fillna('non-specified')\n",
    "df1.ContractTime.value_counts()\n",
    "df2.ContractTime.value_counts()\n",
    "len(df2[df2.ContractTime.isnull()])"
   ]
  },
  {
   "cell_type": "markdown",
   "metadata": {},
   "source": [
    "### Reconcile Location"
   ]
  },
  {
   "cell_type": "code",
   "execution_count": 39,
   "metadata": {},
   "outputs": [
    {
     "data": {
      "text/plain": [
       "0"
      ]
     },
     "execution_count": 39,
     "metadata": {},
     "output_type": "execute_result"
    }
   ],
   "source": [
    "df1.Location.value_counts()\n",
    "df2.Location.value_counts()\n",
    "len(df2[df2.Location.isnull()])"
   ]
  },
  {
   "cell_type": "code",
   "execution_count": 40,
   "metadata": {},
   "outputs": [
    {
     "data": {
      "text/plain": [
       "LONDON                158\n",
       "THE CITY               92\n",
       "UK                     25\n",
       "CITY                   13\n",
       "SOUTH EAST ENGLAND      5\n",
       "WEST END                5\n",
       "CENTRAL LONDON          3\n",
       "SOUTH WEST LONDON       3\n",
       "HERTFORDSHIRE           2\n",
       "BIRMINGHAM              2\n",
       "CROYDON                 2\n",
       "CRAWLEY                 2\n",
       "NORTH LONDON            1\n",
       "NORTH WEST ENGLAND      1\n",
       "PETERBOROUGH            1\n",
       "BRISTOL                 1\n",
       "WEST SUSSEX             1\n",
       "READING                 1\n",
       "DORKING                 1\n",
       "HAMPSHIRE               1\n",
       "WEST LONDON             1\n",
       "EAST MIDLANDS           1\n",
       "BATH                    1\n",
       "SOUTHAMPTON             1\n",
       "FAREHAM                 1\n",
       "BERKSHIRE               1\n",
       "GUILDFORD               1\n",
       "CHELMSFORD              1\n",
       "BASINGSTOKE             1\n",
       "SOUTH EAST LONDON       1\n",
       "REDHILL                 1\n",
       "BUCKINGHAMSHIRE         1\n",
       "CHELTENHAM              1\n",
       "FARNHAM                 1\n",
       "Name: Location, dtype: int64"
      ]
     },
     "execution_count": 40,
     "metadata": {},
     "output_type": "execute_result"
    }
   ],
   "source": [
    "df2['Location'] = df2.Location.apply(lambda x: cleanToken(x))\n",
    "df2.Location.value_counts()"
   ]
  },
  {
   "cell_type": "markdown",
   "metadata": {},
   "source": [
    "### Reconcile Category"
   ]
  },
  {
   "cell_type": "code",
   "execution_count": 41,
   "metadata": {},
   "outputs": [
    {
     "data": {
      "text/plain": [
       "0"
      ]
     },
     "execution_count": 41,
     "metadata": {},
     "output_type": "execute_result"
    }
   ],
   "source": [
    "df1.Category.value_counts()\n",
    "df2.Category.value_counts()\n",
    "len(df2[df2.Category.isnull()])"
   ]
  },
  {
   "cell_type": "code",
   "execution_count": 42,
   "metadata": {},
   "outputs": [
    {
     "data": {
      "text/plain": [
       "Finance & Accounting           319\n",
       "Information Technology          12\n",
       "PR, Advertising & Marketing      3\n",
       "Name: Category, dtype: int64"
      ]
     },
     "execution_count": 42,
     "metadata": {},
     "output_type": "execute_result"
    }
   ],
   "source": [
    "#df2['Category'] = df2.Category.apply(lambda x: cleanToken(x))\n",
    "df2['Category'] = df2.Category.str.replace(' and ', ' & ')\n",
    "df1.Category.value_counts()\n",
    "df2.Category.value_counts()"
   ]
  },
  {
   "cell_type": "code",
   "execution_count": 43,
   "metadata": {},
   "outputs": [
    {
     "data": {
      "text/plain": [
       "Accounting & Finance           319\n",
       "IT                              12\n",
       "PR, Advertising & Marketing      3\n",
       "Name: Category, dtype: int64"
      ]
     },
     "execution_count": 43,
     "metadata": {},
     "output_type": "execute_result"
    }
   ],
   "source": [
    "df1['Category'] = df1.Category.str.replace(' Jobs', '')\n",
    "df2['Category'] = df2.Category.str.replace('Finance & Accounting', 'Accounting & Finance')\n",
    "df2['Category'] = df2.Category.str.replace('Information Technology', 'IT')\n",
    "df1.Category.value_counts()\n",
    "df2.Category.value_counts()"
   ]
  },
  {
   "cell_type": "code",
   "execution_count": null,
   "metadata": {},
   "outputs": [],
   "source": []
  },
  {
   "cell_type": "markdown",
   "metadata": {},
   "source": [
    "### Reconcile Salary"
   ]
  },
  {
   "cell_type": "code",
   "execution_count": 44,
   "metadata": {},
   "outputs": [
    {
     "data": {
      "text/plain": [
       "0    2800.0\n",
       "1    2917.0\n",
       "2    3750.0\n",
       "3    3333.0\n",
       "4    3280.0\n",
       "Name: Salary, dtype: float64"
      ]
     },
     "execution_count": 44,
     "metadata": {},
     "output_type": "execute_result"
    }
   ],
   "source": [
    "df1.Salary.head(5)\n",
    "df2.Salary.head(5)"
   ]
  },
  {
   "cell_type": "code",
   "execution_count": 45,
   "metadata": {},
   "outputs": [],
   "source": [
    "# Based on the column name, the salary is based on a monthly basis. We multiply by 12 to get annual salary consistent with \n",
    "# the data set 1"
   ]
  },
  {
   "cell_type": "code",
   "execution_count": 46,
   "metadata": {},
   "outputs": [],
   "source": [
    "df2['Salary'] = df2.Salary.apply(lambda x: x*12)"
   ]
  },
  {
   "cell_type": "code",
   "execution_count": 47,
   "metadata": {},
   "outputs": [
    {
     "data": {
      "text/plain": [
       "0    33600.0\n",
       "1    35004.0\n",
       "2    45000.0\n",
       "3    39996.0\n",
       "4    39360.0\n",
       "Name: Salary, dtype: float64"
      ]
     },
     "execution_count": 47,
     "metadata": {},
     "output_type": "execute_result"
    }
   ],
   "source": [
    "df2.Salary.head(5)"
   ]
  },
  {
   "cell_type": "markdown",
   "metadata": {},
   "source": [
    "### Combine data sets & remove duplicates"
   ]
  },
  {
   "cell_type": "code",
   "execution_count": 48,
   "metadata": {
    "scrolled": false
   },
   "outputs": [],
   "source": [
    "df = pd.concat([df1,df2], sort=True)\n",
    "df['Salary'] = df.Salary.astype(float)"
   ]
  },
  {
   "cell_type": "code",
   "execution_count": 49,
   "metadata": {},
   "outputs": [
    {
     "data": {
      "text/plain": [
       "Index(['Category', 'CloseDate', 'Company', 'ContractTime', 'ContractType',\n",
       "       'Location', 'OpenDate', 'Salary', 'Title'],\n",
       "      dtype='object')"
      ]
     },
     "execution_count": 49,
     "metadata": {},
     "output_type": "execute_result"
    }
   ],
   "source": [
    "df.columns.difference([])"
   ]
  },
  {
   "cell_type": "code",
   "execution_count": 50,
   "metadata": {},
   "outputs": [
    {
     "name": "stdout",
     "output_type": "stream",
     "text": [
      "<class 'pandas.core.frame.DataFrame'>\n",
      "Int64Index: 55500 entries, 0 to 333\n",
      "Data columns (total 9 columns):\n",
      "Category        55500 non-null object\n",
      "CloseDate       55500 non-null object\n",
      "Company         55500 non-null object\n",
      "ContractTime    55500 non-null object\n",
      "ContractType    55500 non-null object\n",
      "Location        55500 non-null object\n",
      "OpenDate        55500 non-null object\n",
      "Salary          55500 non-null float64\n",
      "Title           55500 non-null object\n",
      "dtypes: float64(1), object(8)\n",
      "memory usage: 4.2+ MB\n"
     ]
    }
   ],
   "source": [
    "df.info()"
   ]
  },
  {
   "cell_type": "code",
   "execution_count": 51,
   "metadata": {},
   "outputs": [
    {
     "name": "stdout",
     "output_type": "stream",
     "text": [
      "There are 0 duplicate records found\n"
     ]
    },
    {
     "data": {
      "text/html": [
       "<div>\n",
       "<style scoped>\n",
       "    .dataframe tbody tr th:only-of-type {\n",
       "        vertical-align: middle;\n",
       "    }\n",
       "\n",
       "    .dataframe tbody tr th {\n",
       "        vertical-align: top;\n",
       "    }\n",
       "\n",
       "    .dataframe thead th {\n",
       "        text-align: right;\n",
       "    }\n",
       "</style>\n",
       "<table border=\"1\" class=\"dataframe\">\n",
       "  <thead>\n",
       "    <tr style=\"text-align: right;\">\n",
       "      <th></th>\n",
       "      <th>Category</th>\n",
       "      <th>CloseDate</th>\n",
       "      <th>Company</th>\n",
       "      <th>ContractTime</th>\n",
       "      <th>ContractType</th>\n",
       "      <th>Location</th>\n",
       "      <th>OpenDate</th>\n",
       "      <th>Salary</th>\n",
       "      <th>Title</th>\n",
       "    </tr>\n",
       "  </thead>\n",
       "  <tbody>\n",
       "  </tbody>\n",
       "</table>\n",
       "</div>"
      ],
      "text/plain": [
       "Empty DataFrame\n",
       "Columns: [Category, CloseDate, Company, ContractTime, ContractType, Location, OpenDate, Salary, Title]\n",
       "Index: []"
      ]
     },
     "execution_count": 51,
     "metadata": {},
     "output_type": "execute_result"
    }
   ],
   "source": [
    "cols = df.columns.difference([])\n",
    "duplicates = df[df.duplicated(cols,keep=False)]\n",
    "print( \"There are \"+ str(len(duplicates)) + \" duplicate records found\")\n",
    "duplicates.sort_values(by=duplicates.columns.tolist()).head(10)"
   ]
  },
  {
   "cell_type": "code",
   "execution_count": 52,
   "metadata": {},
   "outputs": [
    {
     "data": {
      "text/plain": [
       "(55500, 9)"
      ]
     },
     "execution_count": 52,
     "metadata": {},
     "output_type": "execute_result"
    }
   ],
   "source": [
    "#df = df.drop_duplicates(cols, keep='last')\n",
    "df.shape"
   ]
  },
  {
   "cell_type": "code",
   "execution_count": 53,
   "metadata": {},
   "outputs": [
    {
     "name": "stdout",
     "output_type": "stream",
     "text": [
      "There are 0 duplicate records found\n"
     ]
    }
   ],
   "source": [
    "# Making sure duplicates are droped.\n",
    "duplicates = df[df.duplicated(cols,keep=False)]\n",
    "print( \"There are \"+ str(len(duplicates)) + \" duplicate records found\")"
   ]
  },
  {
   "cell_type": "code",
   "execution_count": 54,
   "metadata": {},
   "outputs": [
    {
     "name": "stdout",
     "output_type": "stream",
     "text": [
      "There are 2 duplicate records found\n"
     ]
    },
    {
     "data": {
      "text/html": [
       "<div>\n",
       "<style scoped>\n",
       "    .dataframe tbody tr th:only-of-type {\n",
       "        vertical-align: middle;\n",
       "    }\n",
       "\n",
       "    .dataframe tbody tr th {\n",
       "        vertical-align: top;\n",
       "    }\n",
       "\n",
       "    .dataframe thead th {\n",
       "        text-align: right;\n",
       "    }\n",
       "</style>\n",
       "<table border=\"1\" class=\"dataframe\">\n",
       "  <thead>\n",
       "    <tr style=\"text-align: right;\">\n",
       "      <th></th>\n",
       "      <th>Category</th>\n",
       "      <th>CloseDate</th>\n",
       "      <th>Company</th>\n",
       "      <th>ContractTime</th>\n",
       "      <th>ContractType</th>\n",
       "      <th>Location</th>\n",
       "      <th>OpenDate</th>\n",
       "      <th>Salary</th>\n",
       "      <th>Title</th>\n",
       "    </tr>\n",
       "  </thead>\n",
       "  <tbody>\n",
       "    <tr>\n",
       "      <th>34674</th>\n",
       "      <td>Accounting &amp; Finance</td>\n",
       "      <td>20130225T000000</td>\n",
       "      <td>FRAM EXECUTIVE SEARCH</td>\n",
       "      <td>permanent</td>\n",
       "      <td>non-specified</td>\n",
       "      <td>LONDON</td>\n",
       "      <td>20130126T000000</td>\n",
       "      <td>40000.0</td>\n",
       "      <td>SENIOR FINANCIAL ADVISOR</td>\n",
       "    </tr>\n",
       "    <tr>\n",
       "      <th>55163</th>\n",
       "      <td>Accounting &amp; Finance</td>\n",
       "      <td>20130225T000000</td>\n",
       "      <td>FRAM EXECUTIVE SEARCH.</td>\n",
       "      <td>permanent</td>\n",
       "      <td>non-specified</td>\n",
       "      <td>LONDON</td>\n",
       "      <td>20130126T000000</td>\n",
       "      <td>40000.0</td>\n",
       "      <td>SENIOR FINANCIAL ADVISOR</td>\n",
       "    </tr>\n",
       "  </tbody>\n",
       "</table>\n",
       "</div>"
      ],
      "text/plain": [
       "                   Category        CloseDate                 Company  \\\n",
       "34674  Accounting & Finance  20130225T000000   FRAM EXECUTIVE SEARCH   \n",
       "55163  Accounting & Finance  20130225T000000  FRAM EXECUTIVE SEARCH.   \n",
       "\n",
       "      ContractTime   ContractType Location         OpenDate   Salary  \\\n",
       "34674    permanent  non-specified   LONDON  20130126T000000  40000.0   \n",
       "55163    permanent  non-specified   LONDON  20130126T000000  40000.0   \n",
       "\n",
       "                          Title  \n",
       "34674  SENIOR FINANCIAL ADVISOR  \n",
       "55163  SENIOR FINANCIAL ADVISOR  "
      ]
     },
     "execution_count": 54,
     "metadata": {},
     "output_type": "execute_result"
    }
   ],
   "source": [
    "# check duplication with respect to the key columns being title, open date, close date and company.\n",
    "# However, we leave out company to see what we get.\n",
    "cols = ['Title','OpenDate', 'CloseDate'] \n",
    "duplicates = df[df.duplicated(cols,keep=False)]\n",
    "print( \"There are \"+ str(len(duplicates)) + \" duplicate records found\")\n",
    "duplicates.sort_values(by=duplicates.columns.tolist()).head(10)"
   ]
  },
  {
   "cell_type": "code",
   "execution_count": 55,
   "metadata": {},
   "outputs": [],
   "source": [
    "# The company in the second row has an dot at the end.\n",
    "df = df.drop_duplicates(cols, keep='first')"
   ]
  },
  {
   "cell_type": "code",
   "execution_count": 56,
   "metadata": {},
   "outputs": [
    {
     "name": "stdout",
     "output_type": "stream",
     "text": [
      "There are 0 duplicate records found\n"
     ]
    }
   ],
   "source": [
    "# Making sure duplicates are droped.\n",
    "cols = ['Title','OpenDate', 'CloseDate'] \n",
    "duplicates = df[df.duplicated(cols,keep=False)]\n",
    "print( \"There are \"+ str(len(duplicates)) + \" duplicate records found\")"
   ]
  },
  {
   "cell_type": "markdown",
   "metadata": {},
   "source": [
    "###### Based on the above, we do not need to include other columns in the duplicate validation as tehy are bound to return no duplicate."
   ]
  },
  {
   "cell_type": "code",
   "execution_count": 57,
   "metadata": {},
   "outputs": [],
   "source": [
    "# Resequence columns\n",
    "df = df[['Title', 'Location', 'Company', 'ContractType', 'ContractTime', 'Category', 'Salary', 'OpenDate', 'CloseDate']]"
   ]
  },
  {
   "cell_type": "code",
   "execution_count": 58,
   "metadata": {},
   "outputs": [],
   "source": [
    "df.to_csv('dataset_integrated.csv', index =False)"
   ]
  },
  {
   "cell_type": "code",
   "execution_count": null,
   "metadata": {},
   "outputs": [],
   "source": []
  }
 ],
 "metadata": {
  "kernelspec": {
   "display_name": "Python 3",
   "language": "python",
   "name": "python3"
  },
  "language_info": {
   "codemirror_mode": {
    "name": "ipython",
    "version": 3
   },
   "file_extension": ".py",
   "mimetype": "text/x-python",
   "name": "python",
   "nbconvert_exporter": "python",
   "pygments_lexer": "ipython3",
   "version": "3.7.4"
  }
 },
 "nbformat": 4,
 "nbformat_minor": 2
}
